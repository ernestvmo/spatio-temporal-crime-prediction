{
 "cells": [
  {
   "cell_type": "markdown",
   "metadata": {},
   "source": [
    "### Imports"
   ]
  },
  {
   "cell_type": "code",
   "execution_count": 137,
   "metadata": {},
   "outputs": [],
   "source": [
    "import pandas as pd\n",
    "import numpy as np\n",
    "import math\n",
    "import random\n",
    "import geopandas as gpd\n",
    "import geopy\n",
    "from geopy.distance import distance, Distance, great_circle\n",
    "import matplotlib.pyplot as plt\n",
    "from shapely.geometry import Polygon\n",
    "import shapely\n",
    "import pyproj"
   ]
  },
  {
   "cell_type": "markdown",
   "metadata": {},
   "source": [
    "#### Global Variables"
   ]
  },
  {
   "cell_type": "code",
   "execution_count": 25,
   "metadata": {},
   "outputs": [],
   "source": [
    "district_file_loc = '/Users/ernestvmo/OneDrive - Universiteit Leiden/Q1/Urban Computing/Project/data/ZIP_CODE_040114/ZIP_CODE_040114.shp'\n",
    "zip_codes_shp = gpd.read_file(district_file_loc)"
   ]
  },
  {
   "cell_type": "markdown",
   "metadata": {},
   "source": [
    "### 2012"
   ]
  },
  {
   "cell_type": "code",
   "execution_count": 263,
   "metadata": {},
   "outputs": [],
   "source": [
    "file_loc_2012 = '/Users/ernestvmo/Downloads/2012.csv'"
   ]
  },
  {
   "cell_type": "code",
   "execution_count": 264,
   "metadata": {},
   "outputs": [
    {
     "name": "stderr",
     "output_type": "stream",
     "text": [
      "/Library/Frameworks/Python.framework/Versions/3.9/lib/python3.9/site-packages/IPython/core/interactiveshell.py:3444: DtypeWarning: Columns (10,73,103,110,111) have mixed types.Specify dtype option on import or set low_memory=False.\n",
      "  exec(code_obj, self.user_global_ns, self.user_ns)\n"
     ]
    }
   ],
   "source": [
    "df_2012 = pd.read_csv(file_loc_2012)"
   ]
  },
  {
   "cell_type": "code",
   "execution_count": 265,
   "metadata": {},
   "outputs": [
    {
     "data": {
      "text/plain": [
       "0         C\n",
       "1         D\n",
       "2         C\n",
       "3         J\n",
       "4         J\n",
       "         ..\n",
       "532906    B\n",
       "532907    B\n",
       "532908    C\n",
       "532909    C\n",
       "532910    E\n",
       "Name: sector, Length: 532911, dtype: object"
      ]
     },
     "execution_count": 265,
     "metadata": {},
     "output_type": "execute_result"
    }
   ],
   "source": [
    "df_2012['sector']"
   ]
  },
  {
   "cell_type": "code",
   "execution_count": 266,
   "metadata": {},
   "outputs": [
    {
     "data": {
      "text/html": [
       "<div>\n",
       "<style scoped>\n",
       "    .dataframe tbody tr th:only-of-type {\n",
       "        vertical-align: middle;\n",
       "    }\n",
       "\n",
       "    .dataframe tbody tr th {\n",
       "        vertical-align: top;\n",
       "    }\n",
       "\n",
       "    .dataframe thead th {\n",
       "        text-align: right;\n",
       "    }\n",
       "</style>\n",
       "<table border=\"1\" class=\"dataframe\">\n",
       "  <thead>\n",
       "    <tr style=\"text-align: right;\">\n",
       "      <th></th>\n",
       "      <th>year</th>\n",
       "      <th>pct</th>\n",
       "      <th>ser_num</th>\n",
       "      <th>datestop</th>\n",
       "      <th>timestop</th>\n",
       "      <th>recstat</th>\n",
       "      <th>inout</th>\n",
       "      <th>trhsloc</th>\n",
       "      <th>perobs</th>\n",
       "      <th>crimsusp</th>\n",
       "      <th>...</th>\n",
       "      <th>zip</th>\n",
       "      <th>addrpct</th>\n",
       "      <th>sector</th>\n",
       "      <th>beat</th>\n",
       "      <th>post</th>\n",
       "      <th>xcoord</th>\n",
       "      <th>ycoord</th>\n",
       "      <th>dettypcm</th>\n",
       "      <th>linecm</th>\n",
       "      <th>detailcm</th>\n",
       "    </tr>\n",
       "  </thead>\n",
       "  <tbody>\n",
       "    <tr>\n",
       "      <th>0</th>\n",
       "      <td>2012</td>\n",
       "      <td>40</td>\n",
       "      <td>17</td>\n",
       "      <td>1012012</td>\n",
       "      <td>115</td>\n",
       "      <td>1</td>\n",
       "      <td>O</td>\n",
       "      <td>P</td>\n",
       "      <td>2.0</td>\n",
       "      <td>ROBBERY</td>\n",
       "      <td>...</td>\n",
       "      <td></td>\n",
       "      <td>40</td>\n",
       "      <td>C</td>\n",
       "      <td>*</td>\n",
       "      <td></td>\n",
       "      <td>1008031</td>\n",
       "      <td>233036</td>\n",
       "      <td>CM</td>\n",
       "      <td>1</td>\n",
       "      <td>85</td>\n",
       "    </tr>\n",
       "    <tr>\n",
       "      <th>1</th>\n",
       "      <td>2012</td>\n",
       "      <td>23</td>\n",
       "      <td>691</td>\n",
       "      <td>1012012</td>\n",
       "      <td>310</td>\n",
       "      <td>1</td>\n",
       "      <td>I</td>\n",
       "      <td>P</td>\n",
       "      <td>2.0</td>\n",
       "      <td>M</td>\n",
       "      <td>...</td>\n",
       "      <td></td>\n",
       "      <td>23</td>\n",
       "      <td>D</td>\n",
       "      <td></td>\n",
       "      <td>12</td>\n",
       "      <td>1000852</td>\n",
       "      <td>228179</td>\n",
       "      <td>CM</td>\n",
       "      <td>1</td>\n",
       "      <td>9</td>\n",
       "    </tr>\n",
       "    <tr>\n",
       "      <th>2</th>\n",
       "      <td>2012</td>\n",
       "      <td>81</td>\n",
       "      <td>3714</td>\n",
       "      <td>1012012</td>\n",
       "      <td>2000</td>\n",
       "      <td>1</td>\n",
       "      <td>O</td>\n",
       "      <td>P</td>\n",
       "      <td>1.0</td>\n",
       "      <td>ROBBERY</td>\n",
       "      <td>...</td>\n",
       "      <td></td>\n",
       "      <td>81</td>\n",
       "      <td>C</td>\n",
       "      <td>3</td>\n",
       "      <td></td>\n",
       "      <td>1001869</td>\n",
       "      <td>190702</td>\n",
       "      <td>CM</td>\n",
       "      <td>1</td>\n",
       "      <td>85</td>\n",
       "    </tr>\n",
       "    <tr>\n",
       "      <th>3</th>\n",
       "      <td>2012</td>\n",
       "      <td>81</td>\n",
       "      <td>633</td>\n",
       "      <td>1022012</td>\n",
       "      <td>1245</td>\n",
       "      <td>1</td>\n",
       "      <td>O</td>\n",
       "      <td>P</td>\n",
       "      <td>3.0</td>\n",
       "      <td>ROBBERY</td>\n",
       "      <td>...</td>\n",
       "      <td></td>\n",
       "      <td>81</td>\n",
       "      <td>J</td>\n",
       "      <td>*</td>\n",
       "      <td></td>\n",
       "      <td>1005306</td>\n",
       "      <td>186668</td>\n",
       "      <td>CM</td>\n",
       "      <td>1</td>\n",
       "      <td>85</td>\n",
       "    </tr>\n",
       "    <tr>\n",
       "      <th>4</th>\n",
       "      <td>2012</td>\n",
       "      <td>66</td>\n",
       "      <td>36</td>\n",
       "      <td>1042012</td>\n",
       "      <td>2220</td>\n",
       "      <td>A</td>\n",
       "      <td>O</td>\n",
       "      <td>P</td>\n",
       "      <td>2.0</td>\n",
       "      <td>FELONY</td>\n",
       "      <td>...</td>\n",
       "      <td></td>\n",
       "      <td>66</td>\n",
       "      <td>J</td>\n",
       "      <td></td>\n",
       "      <td></td>\n",
       "      <td>986887</td>\n",
       "      <td>173599</td>\n",
       "      <td>CM</td>\n",
       "      <td>1</td>\n",
       "      <td>46</td>\n",
       "    </tr>\n",
       "  </tbody>\n",
       "</table>\n",
       "<p>5 rows × 112 columns</p>\n",
       "</div>"
      ],
      "text/plain": [
       "   year  pct  ser_num  datestop  timestop recstat inout trhsloc  perobs  \\\n",
       "0  2012   40       17   1012012       115       1     O       P     2.0   \n",
       "1  2012   23      691   1012012       310       1     I       P     2.0   \n",
       "2  2012   81     3714   1012012      2000       1     O       P     1.0   \n",
       "3  2012   81      633   1022012      1245       1     O       P     3.0   \n",
       "4  2012   66       36   1042012      2220       A     O       P     2.0   \n",
       "\n",
       "  crimsusp  ... zip addrpct sector beat post   xcoord   ycoord dettypcm  \\\n",
       "0  ROBBERY  ...          40      C    *       1008031   233036       CM   \n",
       "1        M  ...          23      D        12  1000852   228179       CM   \n",
       "2  ROBBERY  ...          81      C    3       1001869   190702       CM   \n",
       "3  ROBBERY  ...          81      J    *       1005306   186668       CM   \n",
       "4   FELONY  ...          66      J             986887   173599       CM   \n",
       "\n",
       "   linecm  detailcm  \n",
       "0       1        85  \n",
       "1       1         9  \n",
       "2       1        85  \n",
       "3       1        85  \n",
       "4       1        46  \n",
       "\n",
       "[5 rows x 112 columns]"
      ]
     },
     "execution_count": 266,
     "metadata": {},
     "output_type": "execute_result"
    }
   ],
   "source": [
    "df_2012.head()"
   ]
  },
  {
   "cell_type": "code",
   "execution_count": 267,
   "metadata": {},
   "outputs": [],
   "source": [
    "def format_date(dataframe, column):\n",
    "    new_date = []\n",
    "    format_date = '%d/%m/%Y'\n",
    "    for fulldate in dataframe[column].values.astype('str'):\n",
    "        year, fulldate = int(fulldate[-4:]), fulldate[:-4] \n",
    "        day, fulldate = int(fulldate[-2:]), fulldate[:-2] \n",
    "        month = int(fulldate[:])\n",
    "        new_date.append(f'{day}/{month}/{year}')\n",
    "    dataframe[column] = pd.to_datetime(new_date, format=format_date)\n",
    "    return dataframe"
   ]
  },
  {
   "cell_type": "code",
   "execution_count": 268,
   "metadata": {},
   "outputs": [],
   "source": [
    "new_df = format_date(df_2012, column='datestop')"
   ]
  },
  {
   "cell_type": "markdown",
   "metadata": {},
   "source": [
    "### 311 dataset"
   ]
  },
  {
   "cell_type": "code",
   "execution_count": 269,
   "metadata": {},
   "outputs": [],
   "source": [
    "file_loc_311 = '/Users/ernestvmo/OneDrive - Universiteit Leiden/Q1/Urban Computing/Project/data/311_Service_Requests_from_2010_to_Present.csv'"
   ]
  },
  {
   "cell_type": "code",
   "execution_count": 270,
   "metadata": {},
   "outputs": [
    {
     "ename": "KeyboardInterrupt",
     "evalue": "",
     "output_type": "error",
     "traceback": [
      "\u001b[0;31m---------------------------------------------------------------------------\u001b[0m",
      "\u001b[0;31mKeyboardInterrupt\u001b[0m                         Traceback (most recent call last)",
      "\u001b[0;32m/var/folders/w5/5wf6r0p14r38dgytvnyprf9r0000gn/T/ipykernel_96203/2824359471.py\u001b[0m in \u001b[0;36m<module>\u001b[0;34m\u001b[0m\n\u001b[0;32m----> 1\u001b[0;31m \u001b[0mdf_311\u001b[0m \u001b[0;34m=\u001b[0m \u001b[0mpd\u001b[0m\u001b[0;34m.\u001b[0m\u001b[0mread_csv\u001b[0m\u001b[0;34m(\u001b[0m\u001b[0mfile_loc_311\u001b[0m\u001b[0;34m)\u001b[0m\u001b[0;34m\u001b[0m\u001b[0;34m\u001b[0m\u001b[0m\n\u001b[0m",
      "\u001b[0;32m/Library/Frameworks/Python.framework/Versions/3.9/lib/python3.9/site-packages/pandas/util/_decorators.py\u001b[0m in \u001b[0;36mwrapper\u001b[0;34m(*args, **kwargs)\u001b[0m\n\u001b[1;32m    309\u001b[0m                     \u001b[0mstacklevel\u001b[0m\u001b[0;34m=\u001b[0m\u001b[0mstacklevel\u001b[0m\u001b[0;34m,\u001b[0m\u001b[0;34m\u001b[0m\u001b[0;34m\u001b[0m\u001b[0m\n\u001b[1;32m    310\u001b[0m                 )\n\u001b[0;32m--> 311\u001b[0;31m             \u001b[0;32mreturn\u001b[0m \u001b[0mfunc\u001b[0m\u001b[0;34m(\u001b[0m\u001b[0;34m*\u001b[0m\u001b[0margs\u001b[0m\u001b[0;34m,\u001b[0m \u001b[0;34m**\u001b[0m\u001b[0mkwargs\u001b[0m\u001b[0;34m)\u001b[0m\u001b[0;34m\u001b[0m\u001b[0;34m\u001b[0m\u001b[0m\n\u001b[0m\u001b[1;32m    312\u001b[0m \u001b[0;34m\u001b[0m\u001b[0m\n\u001b[1;32m    313\u001b[0m         \u001b[0;32mreturn\u001b[0m \u001b[0mwrapper\u001b[0m\u001b[0;34m\u001b[0m\u001b[0;34m\u001b[0m\u001b[0m\n",
      "\u001b[0;32m/Library/Frameworks/Python.framework/Versions/3.9/lib/python3.9/site-packages/pandas/io/parsers/readers.py\u001b[0m in \u001b[0;36mread_csv\u001b[0;34m(filepath_or_buffer, sep, delimiter, header, names, index_col, usecols, squeeze, prefix, mangle_dupe_cols, dtype, engine, converters, true_values, false_values, skipinitialspace, skiprows, skipfooter, nrows, na_values, keep_default_na, na_filter, verbose, skip_blank_lines, parse_dates, infer_datetime_format, keep_date_col, date_parser, dayfirst, cache_dates, iterator, chunksize, compression, thousands, decimal, lineterminator, quotechar, quoting, doublequote, escapechar, comment, encoding, encoding_errors, dialect, error_bad_lines, warn_bad_lines, on_bad_lines, delim_whitespace, low_memory, memory_map, float_precision, storage_options)\u001b[0m\n\u001b[1;32m    584\u001b[0m     \u001b[0mkwds\u001b[0m\u001b[0;34m.\u001b[0m\u001b[0mupdate\u001b[0m\u001b[0;34m(\u001b[0m\u001b[0mkwds_defaults\u001b[0m\u001b[0;34m)\u001b[0m\u001b[0;34m\u001b[0m\u001b[0;34m\u001b[0m\u001b[0m\n\u001b[1;32m    585\u001b[0m \u001b[0;34m\u001b[0m\u001b[0m\n\u001b[0;32m--> 586\u001b[0;31m     \u001b[0;32mreturn\u001b[0m \u001b[0m_read\u001b[0m\u001b[0;34m(\u001b[0m\u001b[0mfilepath_or_buffer\u001b[0m\u001b[0;34m,\u001b[0m \u001b[0mkwds\u001b[0m\u001b[0;34m)\u001b[0m\u001b[0;34m\u001b[0m\u001b[0;34m\u001b[0m\u001b[0m\n\u001b[0m\u001b[1;32m    587\u001b[0m \u001b[0;34m\u001b[0m\u001b[0m\n\u001b[1;32m    588\u001b[0m \u001b[0;34m\u001b[0m\u001b[0m\n",
      "\u001b[0;32m/Library/Frameworks/Python.framework/Versions/3.9/lib/python3.9/site-packages/pandas/io/parsers/readers.py\u001b[0m in \u001b[0;36m_read\u001b[0;34m(filepath_or_buffer, kwds)\u001b[0m\n\u001b[1;32m    486\u001b[0m \u001b[0;34m\u001b[0m\u001b[0m\n\u001b[1;32m    487\u001b[0m     \u001b[0;32mwith\u001b[0m \u001b[0mparser\u001b[0m\u001b[0;34m:\u001b[0m\u001b[0;34m\u001b[0m\u001b[0;34m\u001b[0m\u001b[0m\n\u001b[0;32m--> 488\u001b[0;31m         \u001b[0;32mreturn\u001b[0m \u001b[0mparser\u001b[0m\u001b[0;34m.\u001b[0m\u001b[0mread\u001b[0m\u001b[0;34m(\u001b[0m\u001b[0mnrows\u001b[0m\u001b[0;34m)\u001b[0m\u001b[0;34m\u001b[0m\u001b[0;34m\u001b[0m\u001b[0m\n\u001b[0m\u001b[1;32m    489\u001b[0m \u001b[0;34m\u001b[0m\u001b[0m\n\u001b[1;32m    490\u001b[0m \u001b[0;34m\u001b[0m\u001b[0m\n",
      "\u001b[0;32m/Library/Frameworks/Python.framework/Versions/3.9/lib/python3.9/site-packages/pandas/io/parsers/readers.py\u001b[0m in \u001b[0;36mread\u001b[0;34m(self, nrows)\u001b[0m\n\u001b[1;32m   1045\u001b[0m     \u001b[0;32mdef\u001b[0m \u001b[0mread\u001b[0m\u001b[0;34m(\u001b[0m\u001b[0mself\u001b[0m\u001b[0;34m,\u001b[0m \u001b[0mnrows\u001b[0m\u001b[0;34m=\u001b[0m\u001b[0;32mNone\u001b[0m\u001b[0;34m)\u001b[0m\u001b[0;34m:\u001b[0m\u001b[0;34m\u001b[0m\u001b[0;34m\u001b[0m\u001b[0m\n\u001b[1;32m   1046\u001b[0m         \u001b[0mnrows\u001b[0m \u001b[0;34m=\u001b[0m \u001b[0mvalidate_integer\u001b[0m\u001b[0;34m(\u001b[0m\u001b[0;34m\"nrows\"\u001b[0m\u001b[0;34m,\u001b[0m \u001b[0mnrows\u001b[0m\u001b[0;34m)\u001b[0m\u001b[0;34m\u001b[0m\u001b[0;34m\u001b[0m\u001b[0m\n\u001b[0;32m-> 1047\u001b[0;31m         \u001b[0mindex\u001b[0m\u001b[0;34m,\u001b[0m \u001b[0mcolumns\u001b[0m\u001b[0;34m,\u001b[0m \u001b[0mcol_dict\u001b[0m \u001b[0;34m=\u001b[0m \u001b[0mself\u001b[0m\u001b[0;34m.\u001b[0m\u001b[0m_engine\u001b[0m\u001b[0;34m.\u001b[0m\u001b[0mread\u001b[0m\u001b[0;34m(\u001b[0m\u001b[0mnrows\u001b[0m\u001b[0;34m)\u001b[0m\u001b[0;34m\u001b[0m\u001b[0;34m\u001b[0m\u001b[0m\n\u001b[0m\u001b[1;32m   1048\u001b[0m \u001b[0;34m\u001b[0m\u001b[0m\n\u001b[1;32m   1049\u001b[0m         \u001b[0;32mif\u001b[0m \u001b[0mindex\u001b[0m \u001b[0;32mis\u001b[0m \u001b[0;32mNone\u001b[0m\u001b[0;34m:\u001b[0m\u001b[0;34m\u001b[0m\u001b[0;34m\u001b[0m\u001b[0m\n",
      "\u001b[0;32m/Library/Frameworks/Python.framework/Versions/3.9/lib/python3.9/site-packages/pandas/io/parsers/c_parser_wrapper.py\u001b[0m in \u001b[0;36mread\u001b[0;34m(self, nrows)\u001b[0m\n\u001b[1;32m    221\u001b[0m         \u001b[0;32mtry\u001b[0m\u001b[0;34m:\u001b[0m\u001b[0;34m\u001b[0m\u001b[0;34m\u001b[0m\u001b[0m\n\u001b[1;32m    222\u001b[0m             \u001b[0;32mif\u001b[0m \u001b[0mself\u001b[0m\u001b[0;34m.\u001b[0m\u001b[0mlow_memory\u001b[0m\u001b[0;34m:\u001b[0m\u001b[0;34m\u001b[0m\u001b[0;34m\u001b[0m\u001b[0m\n\u001b[0;32m--> 223\u001b[0;31m                 \u001b[0mchunks\u001b[0m \u001b[0;34m=\u001b[0m \u001b[0mself\u001b[0m\u001b[0;34m.\u001b[0m\u001b[0m_reader\u001b[0m\u001b[0;34m.\u001b[0m\u001b[0mread_low_memory\u001b[0m\u001b[0;34m(\u001b[0m\u001b[0mnrows\u001b[0m\u001b[0;34m)\u001b[0m\u001b[0;34m\u001b[0m\u001b[0;34m\u001b[0m\u001b[0m\n\u001b[0m\u001b[1;32m    224\u001b[0m                 \u001b[0;31m# destructive to chunks\u001b[0m\u001b[0;34m\u001b[0m\u001b[0;34m\u001b[0m\u001b[0;34m\u001b[0m\u001b[0m\n\u001b[1;32m    225\u001b[0m                 \u001b[0mdata\u001b[0m \u001b[0;34m=\u001b[0m \u001b[0m_concatenate_chunks\u001b[0m\u001b[0;34m(\u001b[0m\u001b[0mchunks\u001b[0m\u001b[0;34m)\u001b[0m\u001b[0;34m\u001b[0m\u001b[0;34m\u001b[0m\u001b[0m\n",
      "\u001b[0;32m/Library/Frameworks/Python.framework/Versions/3.9/lib/python3.9/site-packages/pandas/_libs/parsers.pyx\u001b[0m in \u001b[0;36mpandas._libs.parsers.TextReader.read_low_memory\u001b[0;34m()\u001b[0m\n",
      "\u001b[0;32m/Library/Frameworks/Python.framework/Versions/3.9/lib/python3.9/site-packages/pandas/_libs/parsers.pyx\u001b[0m in \u001b[0;36mpandas._libs.parsers.TextReader._read_rows\u001b[0;34m()\u001b[0m\n",
      "\u001b[0;32m/Library/Frameworks/Python.framework/Versions/3.9/lib/python3.9/site-packages/pandas/_libs/parsers.pyx\u001b[0m in \u001b[0;36mpandas._libs.parsers.TextReader._convert_column_data\u001b[0;34m()\u001b[0m\n",
      "\u001b[0;32m/Library/Frameworks/Python.framework/Versions/3.9/lib/python3.9/site-packages/pandas/core/dtypes/common.py\u001b[0m in \u001b[0;36mis_extension_array_dtype\u001b[0;34m(arr_or_dtype)\u001b[0m\n\u001b[1;32m   1418\u001b[0m \u001b[0;34m\u001b[0m\u001b[0m\n\u001b[1;32m   1419\u001b[0m \u001b[0;34m\u001b[0m\u001b[0m\n\u001b[0;32m-> 1420\u001b[0;31m \u001b[0;32mdef\u001b[0m \u001b[0mis_extension_array_dtype\u001b[0m\u001b[0;34m(\u001b[0m\u001b[0marr_or_dtype\u001b[0m\u001b[0;34m)\u001b[0m \u001b[0;34m->\u001b[0m \u001b[0mbool\u001b[0m\u001b[0;34m:\u001b[0m\u001b[0;34m\u001b[0m\u001b[0;34m\u001b[0m\u001b[0m\n\u001b[0m\u001b[1;32m   1421\u001b[0m     \"\"\"\n\u001b[1;32m   1422\u001b[0m     \u001b[0mCheck\u001b[0m \u001b[0;32mif\u001b[0m \u001b[0man\u001b[0m \u001b[0mobject\u001b[0m \u001b[0;32mis\u001b[0m \u001b[0ma\u001b[0m \u001b[0mpandas\u001b[0m \u001b[0mextension\u001b[0m \u001b[0marray\u001b[0m \u001b[0mtype\u001b[0m\u001b[0;34m.\u001b[0m\u001b[0;34m\u001b[0m\u001b[0;34m\u001b[0m\u001b[0m\n",
      "\u001b[0;31mKeyboardInterrupt\u001b[0m: "
     ]
    }
   ],
   "source": [
    "df_311 = pd.read_csv(file_loc_311)"
   ]
  },
  {
   "cell_type": "code",
   "execution_count": null,
   "metadata": {},
   "outputs": [],
   "source": [
    "zip_codes = []\n",
    "count=0\n",
    "for i in df_311['Incident Zip'].values:\n",
    "    if isinstance(i,str):\n",
    "        if i==nan:\n",
    "        count+=1\n",
    "    else:\n",
    "        print(type(i))\n",
    "    # if math.isnan(i)\n",
    "    # zip_codes.append(int(i))\n",
    "print(count, len(df_311['Incident Zip'].values))\n",
    "# np.where(df_311['Incident Zip'].values )\n",
    "# len(np.unique(df_311['Incident Zip'].values.astype('int')))"
   ]
  },
  {
   "cell_type": "code",
   "execution_count": null,
   "metadata": {},
   "outputs": [
    {
     "data": {
      "text/html": [
       "<div>\n",
       "<style scoped>\n",
       "    .dataframe tbody tr th:only-of-type {\n",
       "        vertical-align: middle;\n",
       "    }\n",
       "\n",
       "    .dataframe tbody tr th {\n",
       "        vertical-align: top;\n",
       "    }\n",
       "\n",
       "    .dataframe thead th {\n",
       "        text-align: right;\n",
       "    }\n",
       "</style>\n",
       "<table border=\"1\" class=\"dataframe\">\n",
       "  <thead>\n",
       "    <tr style=\"text-align: right;\">\n",
       "      <th></th>\n",
       "      <th>Unique Key</th>\n",
       "      <th>Created Date</th>\n",
       "      <th>Closed Date</th>\n",
       "      <th>Agency</th>\n",
       "      <th>Agency Name</th>\n",
       "      <th>Complaint Type</th>\n",
       "      <th>Descriptor</th>\n",
       "      <th>Location Type</th>\n",
       "      <th>Incident Zip</th>\n",
       "      <th>Incident Address</th>\n",
       "      <th>...</th>\n",
       "      <th>Vehicle Type</th>\n",
       "      <th>Taxi Company Borough</th>\n",
       "      <th>Taxi Pick Up Location</th>\n",
       "      <th>Bridge Highway Name</th>\n",
       "      <th>Bridge Highway Direction</th>\n",
       "      <th>Road Ramp</th>\n",
       "      <th>Bridge Highway Segment</th>\n",
       "      <th>Latitude</th>\n",
       "      <th>Longitude</th>\n",
       "      <th>Location</th>\n",
       "    </tr>\n",
       "  </thead>\n",
       "  <tbody>\n",
       "    <tr>\n",
       "      <th>0</th>\n",
       "      <td>23525569</td>\n",
       "      <td>07/01/2012 12:00:00 AM</td>\n",
       "      <td>07/05/2012 12:00:00 AM</td>\n",
       "      <td>HPD</td>\n",
       "      <td>Department of Housing Preservation and Develop...</td>\n",
       "      <td>NONCONST</td>\n",
       "      <td>RUBBISH</td>\n",
       "      <td>RESIDENTIAL BUILDING</td>\n",
       "      <td>10454</td>\n",
       "      <td>226 WILLIS AVENUE</td>\n",
       "      <td>...</td>\n",
       "      <td>NaN</td>\n",
       "      <td>NaN</td>\n",
       "      <td>NaN</td>\n",
       "      <td>NaN</td>\n",
       "      <td>NaN</td>\n",
       "      <td>NaN</td>\n",
       "      <td>NaN</td>\n",
       "      <td>40.808520</td>\n",
       "      <td>-73.923296</td>\n",
       "      <td>(40.80852004566505, -73.92329572996589)</td>\n",
       "    </tr>\n",
       "    <tr>\n",
       "      <th>1</th>\n",
       "      <td>23530609</td>\n",
       "      <td>07/01/2012 12:00:00 AM</td>\n",
       "      <td>07/09/2012 12:00:00 AM</td>\n",
       "      <td>HPD</td>\n",
       "      <td>Department of Housing Preservation and Develop...</td>\n",
       "      <td>PLUMBING</td>\n",
       "      <td>TOILET</td>\n",
       "      <td>RESIDENTIAL BUILDING</td>\n",
       "      <td>10467</td>\n",
       "      <td>3230 CRUGER AVENUE</td>\n",
       "      <td>...</td>\n",
       "      <td>NaN</td>\n",
       "      <td>NaN</td>\n",
       "      <td>NaN</td>\n",
       "      <td>NaN</td>\n",
       "      <td>NaN</td>\n",
       "      <td>NaN</td>\n",
       "      <td>NaN</td>\n",
       "      <td>40.872255</td>\n",
       "      <td>-73.866129</td>\n",
       "      <td>(40.87225493792927, -73.8661287701622)</td>\n",
       "    </tr>\n",
       "    <tr>\n",
       "      <th>2</th>\n",
       "      <td>23530576</td>\n",
       "      <td>07/01/2012 12:00:00 AM</td>\n",
       "      <td>07/17/2012 12:00:00 AM</td>\n",
       "      <td>HPD</td>\n",
       "      <td>Department of Housing Preservation and Develop...</td>\n",
       "      <td>NONCONST</td>\n",
       "      <td>VERMIN</td>\n",
       "      <td>RESIDENTIAL BUILDING</td>\n",
       "      <td>11221</td>\n",
       "      <td>112 PATCHEN AVENUE</td>\n",
       "      <td>...</td>\n",
       "      <td>NaN</td>\n",
       "      <td>NaN</td>\n",
       "      <td>NaN</td>\n",
       "      <td>NaN</td>\n",
       "      <td>NaN</td>\n",
       "      <td>NaN</td>\n",
       "      <td>NaN</td>\n",
       "      <td>40.687910</td>\n",
       "      <td>-73.927073</td>\n",
       "      <td>(40.68790999907652, -73.9270727247861)</td>\n",
       "    </tr>\n",
       "    <tr>\n",
       "      <th>3</th>\n",
       "      <td>23531354</td>\n",
       "      <td>07/01/2012 12:00:00 AM</td>\n",
       "      <td>07/09/2012 12:00:00 AM</td>\n",
       "      <td>HPD</td>\n",
       "      <td>Department of Housing Preservation and Develop...</td>\n",
       "      <td>PAINT - PLASTER</td>\n",
       "      <td>CEILING</td>\n",
       "      <td>RESIDENTIAL BUILDING</td>\n",
       "      <td>10454</td>\n",
       "      <td>297 ALEXANDER AVENUE</td>\n",
       "      <td>...</td>\n",
       "      <td>NaN</td>\n",
       "      <td>NaN</td>\n",
       "      <td>NaN</td>\n",
       "      <td>NaN</td>\n",
       "      <td>NaN</td>\n",
       "      <td>NaN</td>\n",
       "      <td>NaN</td>\n",
       "      <td>40.811222</td>\n",
       "      <td>-73.924300</td>\n",
       "      <td>(40.8112215178464, -73.92430049850458)</td>\n",
       "    </tr>\n",
       "    <tr>\n",
       "      <th>4</th>\n",
       "      <td>23530949</td>\n",
       "      <td>07/01/2012 12:00:00 AM</td>\n",
       "      <td>07/10/2012 12:00:00 AM</td>\n",
       "      <td>HPD</td>\n",
       "      <td>Department of Housing Preservation and Develop...</td>\n",
       "      <td>PAINT - PLASTER</td>\n",
       "      <td>CEILING</td>\n",
       "      <td>RESIDENTIAL BUILDING</td>\n",
       "      <td>11361</td>\n",
       "      <td>210-02 42 AVENUE</td>\n",
       "      <td>...</td>\n",
       "      <td>NaN</td>\n",
       "      <td>NaN</td>\n",
       "      <td>NaN</td>\n",
       "      <td>NaN</td>\n",
       "      <td>NaN</td>\n",
       "      <td>NaN</td>\n",
       "      <td>NaN</td>\n",
       "      <td>40.762116</td>\n",
       "      <td>-73.774047</td>\n",
       "      <td>(40.76211639957578, -73.77404696406886)</td>\n",
       "    </tr>\n",
       "  </tbody>\n",
       "</table>\n",
       "<p>5 rows × 41 columns</p>\n",
       "</div>"
      ],
      "text/plain": [
       "   Unique Key            Created Date             Closed Date Agency  \\\n",
       "0    23525569  07/01/2012 12:00:00 AM  07/05/2012 12:00:00 AM    HPD   \n",
       "1    23530609  07/01/2012 12:00:00 AM  07/09/2012 12:00:00 AM    HPD   \n",
       "2    23530576  07/01/2012 12:00:00 AM  07/17/2012 12:00:00 AM    HPD   \n",
       "3    23531354  07/01/2012 12:00:00 AM  07/09/2012 12:00:00 AM    HPD   \n",
       "4    23530949  07/01/2012 12:00:00 AM  07/10/2012 12:00:00 AM    HPD   \n",
       "\n",
       "                                         Agency Name   Complaint Type  \\\n",
       "0  Department of Housing Preservation and Develop...         NONCONST   \n",
       "1  Department of Housing Preservation and Develop...         PLUMBING   \n",
       "2  Department of Housing Preservation and Develop...         NONCONST   \n",
       "3  Department of Housing Preservation and Develop...  PAINT - PLASTER   \n",
       "4  Department of Housing Preservation and Develop...  PAINT - PLASTER   \n",
       "\n",
       "  Descriptor         Location Type Incident Zip      Incident Address  ...  \\\n",
       "0    RUBBISH  RESIDENTIAL BUILDING        10454     226 WILLIS AVENUE  ...   \n",
       "1     TOILET  RESIDENTIAL BUILDING        10467    3230 CRUGER AVENUE  ...   \n",
       "2     VERMIN  RESIDENTIAL BUILDING        11221    112 PATCHEN AVENUE  ...   \n",
       "3    CEILING  RESIDENTIAL BUILDING        10454  297 ALEXANDER AVENUE  ...   \n",
       "4    CEILING  RESIDENTIAL BUILDING        11361      210-02 42 AVENUE  ...   \n",
       "\n",
       "  Vehicle Type Taxi Company Borough Taxi Pick Up Location Bridge Highway Name  \\\n",
       "0          NaN                  NaN                   NaN                 NaN   \n",
       "1          NaN                  NaN                   NaN                 NaN   \n",
       "2          NaN                  NaN                   NaN                 NaN   \n",
       "3          NaN                  NaN                   NaN                 NaN   \n",
       "4          NaN                  NaN                   NaN                 NaN   \n",
       "\n",
       "  Bridge Highway Direction Road Ramp Bridge Highway Segment   Latitude  \\\n",
       "0                      NaN       NaN                    NaN  40.808520   \n",
       "1                      NaN       NaN                    NaN  40.872255   \n",
       "2                      NaN       NaN                    NaN  40.687910   \n",
       "3                      NaN       NaN                    NaN  40.811222   \n",
       "4                      NaN       NaN                    NaN  40.762116   \n",
       "\n",
       "   Longitude                                 Location  \n",
       "0 -73.923296  (40.80852004566505, -73.92329572996589)  \n",
       "1 -73.866129   (40.87225493792927, -73.8661287701622)  \n",
       "2 -73.927073   (40.68790999907652, -73.9270727247861)  \n",
       "3 -73.924300   (40.8112215178464, -73.92430049850458)  \n",
       "4 -73.774047  (40.76211639957578, -73.77404696406886)  \n",
       "\n",
       "[5 rows x 41 columns]"
      ]
     },
     "execution_count": 34,
     "metadata": {},
     "output_type": "execute_result"
    }
   ],
   "source": [
    "df_311.head()"
   ]
  },
  {
   "cell_type": "code",
   "execution_count": null,
   "metadata": {},
   "outputs": [],
   "source": [
    "df"
   ]
  },
  {
   "cell_type": "markdown",
   "metadata": {},
   "source": [
    "### Taxi"
   ]
  },
  {
   "cell_type": "code",
   "execution_count": null,
   "metadata": {},
   "outputs": [],
   "source": [
    "taxi_file_loc = '/Users/ernestvmo/OneDrive - Universiteit Leiden/Q1/Urban Computing/Project/data/yellow_tripdata_2012-07.csv'"
   ]
  },
  {
   "cell_type": "code",
   "execution_count": null,
   "metadata": {},
   "outputs": [],
   "source": [
    "df_taxi = pd.read_csv(taxi_file_loc)"
   ]
  },
  {
   "cell_type": "code",
   "execution_count": null,
   "metadata": {},
   "outputs": [
    {
     "data": {
      "text/html": [
       "<div>\n",
       "<style scoped>\n",
       "    .dataframe tbody tr th:only-of-type {\n",
       "        vertical-align: middle;\n",
       "    }\n",
       "\n",
       "    .dataframe tbody tr th {\n",
       "        vertical-align: top;\n",
       "    }\n",
       "\n",
       "    .dataframe thead th {\n",
       "        text-align: right;\n",
       "    }\n",
       "</style>\n",
       "<table border=\"1\" class=\"dataframe\">\n",
       "  <thead>\n",
       "    <tr style=\"text-align: right;\">\n",
       "      <th></th>\n",
       "      <th>vendor_id</th>\n",
       "      <th>pickup_datetime</th>\n",
       "      <th>dropoff_datetime</th>\n",
       "      <th>passenger_count</th>\n",
       "      <th>trip_distance</th>\n",
       "      <th>pickup_longitude</th>\n",
       "      <th>pickup_latitude</th>\n",
       "      <th>rate_code</th>\n",
       "      <th>store_and_fwd_flag</th>\n",
       "      <th>dropoff_longitude</th>\n",
       "      <th>dropoff_latitude</th>\n",
       "      <th>payment_type</th>\n",
       "      <th>fare_amount</th>\n",
       "      <th>surcharge</th>\n",
       "      <th>mta_tax</th>\n",
       "      <th>tip_amount</th>\n",
       "      <th>tolls_amount</th>\n",
       "      <th>total_amount</th>\n",
       "    </tr>\n",
       "  </thead>\n",
       "  <tbody>\n",
       "    <tr>\n",
       "      <th>0</th>\n",
       "      <td>CMT</td>\n",
       "      <td>2012-07-01 03:32:51</td>\n",
       "      <td>2012-07-01 03:44:22</td>\n",
       "      <td>1</td>\n",
       "      <td>3.20</td>\n",
       "      <td>-73.966130</td>\n",
       "      <td>40.761309</td>\n",
       "      <td>1</td>\n",
       "      <td>N</td>\n",
       "      <td>-73.986274</td>\n",
       "      <td>40.722112</td>\n",
       "      <td>CSH</td>\n",
       "      <td>10.1</td>\n",
       "      <td>0.5</td>\n",
       "      <td>0.5</td>\n",
       "      <td>0.00</td>\n",
       "      <td>0.0</td>\n",
       "      <td>11.10</td>\n",
       "    </tr>\n",
       "    <tr>\n",
       "      <th>1</th>\n",
       "      <td>VTS</td>\n",
       "      <td>2012-07-01 00:00:00</td>\n",
       "      <td>2012-07-01 00:05:00</td>\n",
       "      <td>2</td>\n",
       "      <td>1.90</td>\n",
       "      <td>-73.866037</td>\n",
       "      <td>40.834670</td>\n",
       "      <td>1</td>\n",
       "      <td>NaN</td>\n",
       "      <td>-73.866392</td>\n",
       "      <td>40.832757</td>\n",
       "      <td>CRD</td>\n",
       "      <td>6.1</td>\n",
       "      <td>0.5</td>\n",
       "      <td>0.5</td>\n",
       "      <td>1.65</td>\n",
       "      <td>0.0</td>\n",
       "      <td>8.75</td>\n",
       "    </tr>\n",
       "    <tr>\n",
       "      <th>2</th>\n",
       "      <td>VTS</td>\n",
       "      <td>2012-07-01 03:33:00</td>\n",
       "      <td>2012-07-01 03:54:00</td>\n",
       "      <td>2</td>\n",
       "      <td>10.55</td>\n",
       "      <td>-73.981165</td>\n",
       "      <td>40.767080</td>\n",
       "      <td>1</td>\n",
       "      <td>NaN</td>\n",
       "      <td>-73.840485</td>\n",
       "      <td>40.699652</td>\n",
       "      <td>CSH</td>\n",
       "      <td>25.3</td>\n",
       "      <td>0.5</td>\n",
       "      <td>0.5</td>\n",
       "      <td>0.00</td>\n",
       "      <td>0.0</td>\n",
       "      <td>26.30</td>\n",
       "    </tr>\n",
       "    <tr>\n",
       "      <th>3</th>\n",
       "      <td>CMT</td>\n",
       "      <td>2012-07-01 03:32:40</td>\n",
       "      <td>2012-07-01 03:56:31</td>\n",
       "      <td>1</td>\n",
       "      <td>12.00</td>\n",
       "      <td>-73.950839</td>\n",
       "      <td>40.785787</td>\n",
       "      <td>1</td>\n",
       "      <td>N</td>\n",
       "      <td>-73.850864</td>\n",
       "      <td>40.875776</td>\n",
       "      <td>CSH</td>\n",
       "      <td>28.9</td>\n",
       "      <td>0.5</td>\n",
       "      <td>0.5</td>\n",
       "      <td>0.00</td>\n",
       "      <td>0.0</td>\n",
       "      <td>29.90</td>\n",
       "    </tr>\n",
       "    <tr>\n",
       "      <th>4</th>\n",
       "      <td>CMT</td>\n",
       "      <td>2012-07-01 03:33:15</td>\n",
       "      <td>2012-07-01 03:56:08</td>\n",
       "      <td>2</td>\n",
       "      <td>14.90</td>\n",
       "      <td>-73.991608</td>\n",
       "      <td>40.764888</td>\n",
       "      <td>1</td>\n",
       "      <td>N</td>\n",
       "      <td>-73.830373</td>\n",
       "      <td>40.847396</td>\n",
       "      <td>CRD</td>\n",
       "      <td>32.9</td>\n",
       "      <td>0.5</td>\n",
       "      <td>0.5</td>\n",
       "      <td>6.78</td>\n",
       "      <td>0.0</td>\n",
       "      <td>40.68</td>\n",
       "    </tr>\n",
       "  </tbody>\n",
       "</table>\n",
       "</div>"
      ],
      "text/plain": [
       "  vendor_id      pickup_datetime     dropoff_datetime  passenger_count  \\\n",
       "0       CMT  2012-07-01 03:32:51  2012-07-01 03:44:22                1   \n",
       "1       VTS  2012-07-01 00:00:00  2012-07-01 00:05:00                2   \n",
       "2       VTS  2012-07-01 03:33:00  2012-07-01 03:54:00                2   \n",
       "3       CMT  2012-07-01 03:32:40  2012-07-01 03:56:31                1   \n",
       "4       CMT  2012-07-01 03:33:15  2012-07-01 03:56:08                2   \n",
       "\n",
       "   trip_distance  pickup_longitude  pickup_latitude  rate_code  \\\n",
       "0           3.20        -73.966130        40.761309          1   \n",
       "1           1.90        -73.866037        40.834670          1   \n",
       "2          10.55        -73.981165        40.767080          1   \n",
       "3          12.00        -73.950839        40.785787          1   \n",
       "4          14.90        -73.991608        40.764888          1   \n",
       "\n",
       "  store_and_fwd_flag  dropoff_longitude  dropoff_latitude payment_type  \\\n",
       "0                  N         -73.986274         40.722112          CSH   \n",
       "1                NaN         -73.866392         40.832757          CRD   \n",
       "2                NaN         -73.840485         40.699652          CSH   \n",
       "3                  N         -73.850864         40.875776          CSH   \n",
       "4                  N         -73.830373         40.847396          CRD   \n",
       "\n",
       "   fare_amount  surcharge  mta_tax  tip_amount  tolls_amount  total_amount  \n",
       "0         10.1        0.5      0.5        0.00           0.0         11.10  \n",
       "1          6.1        0.5      0.5        1.65           0.0          8.75  \n",
       "2         25.3        0.5      0.5        0.00           0.0         26.30  \n",
       "3         28.9        0.5      0.5        0.00           0.0         29.90  \n",
       "4         32.9        0.5      0.5        6.78           0.0         40.68  "
      ]
     },
     "execution_count": 55,
     "metadata": {},
     "output_type": "execute_result"
    }
   ],
   "source": [
    "df_taxi.head()"
   ]
  },
  {
   "cell_type": "code",
   "execution_count": null,
   "metadata": {},
   "outputs": [],
   "source": []
  },
  {
   "cell_type": "markdown",
   "metadata": {},
   "source": [
    "### NYC regions"
   ]
  },
  {
   "cell_type": "code",
   "execution_count": 10,
   "metadata": {},
   "outputs": [],
   "source": [
    "shp = gpd.read_file('/Users/ernestvmo/Downloads/Borough Boundaries/geo_export_c4a7f77b-811d-4998-b675-a83cf42208e0.shp')\n",
    "# shp = gpd.read_file('/Users/ernestvmo/Downloads/pluto/pluto.shp')"
   ]
  },
  {
   "cell_type": "code",
   "execution_count": 4,
   "metadata": {},
   "outputs": [
    {
     "data": {
      "text/plain": [
       "<AxesSubplot:>"
      ]
     },
     "execution_count": 4,
     "metadata": {},
     "output_type": "execute_result"
    },
    {
     "data": {
      "image/png": "[encoded data removed]",
      "text/plain": [
       "<Figure size 432x288 with 1 Axes>"
      ]
     },
     "metadata": {
      "needs_background": "light"
     },
     "output_type": "display_data"
    }
   ],
   "source": [
    "shp.plot()"
   ]
  },
  {
   "cell_type": "code",
   "execution_count": 5,
   "metadata": {},
   "outputs": [
    {
     "data": {
      "text/html": [
       "<div>\n",
       "<style scoped>\n",
       "    .dataframe tbody tr th:only-of-type {\n",
       "        vertical-align: middle;\n",
       "    }\n",
       "\n",
       "    .dataframe tbody tr th {\n",
       "        vertical-align: top;\n",
       "    }\n",
       "\n",
       "    .dataframe thead th {\n",
       "        text-align: right;\n",
       "    }\n",
       "</style>\n",
       "<table border=\"1\" class=\"dataframe\">\n",
       "  <thead>\n",
       "    <tr style=\"text-align: right;\">\n",
       "      <th></th>\n",
       "      <th>minx</th>\n",
       "      <th>miny</th>\n",
       "      <th>maxx</th>\n",
       "      <th>maxy</th>\n",
       "    </tr>\n",
       "  </thead>\n",
       "  <tbody>\n",
       "    <tr>\n",
       "      <th>0</th>\n",
       "      <td>1.038098e+06</td>\n",
       "      <td>182170.351260</td>\n",
       "      <td>1.043042e+06</td>\n",
       "      <td>189382.856520</td>\n",
       "    </tr>\n",
       "    <tr>\n",
       "      <th>1</th>\n",
       "      <td>9.986573e+05</td>\n",
       "      <td>180901.170072</td>\n",
       "      <td>1.005055e+06</td>\n",
       "      <td>187001.649997</td>\n",
       "    </tr>\n",
       "    <tr>\n",
       "      <th>2</th>\n",
       "      <td>1.003244e+06</td>\n",
       "      <td>177605.653041</td>\n",
       "      <td>1.012144e+06</td>\n",
       "      <td>185396.346121</td>\n",
       "    </tr>\n",
       "    <tr>\n",
       "      <th>3</th>\n",
       "      <td>9.944932e+05</td>\n",
       "      <td>177865.717809</td>\n",
       "      <td>1.000194e+06</td>\n",
       "      <td>183971.173446</td>\n",
       "    </tr>\n",
       "    <tr>\n",
       "      <th>4</th>\n",
       "      <td>9.864901e+05</td>\n",
       "      <td>168910.489657</td>\n",
       "      <td>9.940993e+05</td>\n",
       "      <td>179267.727801</td>\n",
       "    </tr>\n",
       "    <tr>\n",
       "      <th>...</th>\n",
       "      <td>...</td>\n",
       "      <td>...</td>\n",
       "      <td>...</td>\n",
       "      <td>...</td>\n",
       "    </tr>\n",
       "    <tr>\n",
       "      <th>258</th>\n",
       "      <td>9.475908e+05</td>\n",
       "      <td>165428.946751</td>\n",
       "      <td>9.595266e+05</td>\n",
       "      <td>175129.574003</td>\n",
       "    </tr>\n",
       "    <tr>\n",
       "      <th>259</th>\n",
       "      <td>1.027490e+06</td>\n",
       "      <td>167153.409838</td>\n",
       "      <td>1.029907e+06</td>\n",
       "      <td>170153.467486</td>\n",
       "    </tr>\n",
       "    <tr>\n",
       "      <th>260</th>\n",
       "      <td>9.925510e+05</td>\n",
       "      <td>193592.836946</td>\n",
       "      <td>9.971324e+05</td>\n",
       "      <td>203536.926965</td>\n",
       "    </tr>\n",
       "    <tr>\n",
       "      <th>261</th>\n",
       "      <td>9.976419e+05</td>\n",
       "      <td>219560.922148</td>\n",
       "      <td>9.978285e+05</td>\n",
       "      <td>219792.903640</td>\n",
       "    </tr>\n",
       "    <tr>\n",
       "      <th>262</th>\n",
       "      <td>9.860387e+05</td>\n",
       "      <td>212745.903626</td>\n",
       "      <td>9.867012e+05</td>\n",
       "      <td>213222.703526</td>\n",
       "    </tr>\n",
       "  </tbody>\n",
       "</table>\n",
       "<p>263 rows × 4 columns</p>\n",
       "</div>"
      ],
      "text/plain": [
       "             minx           miny          maxx           maxy\n",
       "0    1.038098e+06  182170.351260  1.043042e+06  189382.856520\n",
       "1    9.986573e+05  180901.170072  1.005055e+06  187001.649997\n",
       "2    1.003244e+06  177605.653041  1.012144e+06  185396.346121\n",
       "3    9.944932e+05  177865.717809  1.000194e+06  183971.173446\n",
       "4    9.864901e+05  168910.489657  9.940993e+05  179267.727801\n",
       "..            ...            ...           ...            ...\n",
       "258  9.475908e+05  165428.946751  9.595266e+05  175129.574003\n",
       "259  1.027490e+06  167153.409838  1.029907e+06  170153.467486\n",
       "260  9.925510e+05  193592.836946  9.971324e+05  203536.926965\n",
       "261  9.976419e+05  219560.922148  9.978285e+05  219792.903640\n",
       "262  9.860387e+05  212745.903626  9.867012e+05  213222.703526\n",
       "\n",
       "[263 rows x 4 columns]"
      ]
     },
     "execution_count": 5,
     "metadata": {},
     "output_type": "execute_result"
    }
   ],
   "source": [
    "shp.bounds"
   ]
  },
  {
   "cell_type": "code",
   "execution_count": 275,
   "metadata": {},
   "outputs": [
    {
     "name": "stdout",
     "output_type": "stream",
     "text": [
      "-74.25559136315213 40.91553277650264\n",
      "-73.7000090638712 40.91553277650264\n",
      "pt_00 (40.91553277650264, -74.25559136315213)\n",
      "pt_01 (40.91553277650264, -73.7000090638712)\n",
      "pt_10 (40.496133987611806, -74.25559136315213)\n",
      "pt_11 (40.496133987611806, -73.7000090638712)\n"
     ]
    }
   ],
   "source": [
    "x1 = min(shp.bounds['minx'].values)\n",
    "x2 = max(shp.bounds['maxx'].values)\n",
    "\n",
    "y1 = min(shp.bounds['miny'].values)\n",
    "y2 = max(shp.bounds['maxy'].values)\n",
    "\n",
    "print(x1, y2)\n",
    "print(x2, y2)\n",
    "pt_00 = (y2, x1)\n",
    "pt_01 = (y2, x2)\n",
    "pt_10 = (y1, x1)\n",
    "pt_11 = (y1, x2)\n",
    "\n",
    "print('pt_00', pt_00)\n",
    "print('pt_01', pt_01)\n",
    "print('pt_10', pt_10)\n",
    "print('pt_11', pt_11)"
   ]
  },
  {
   "cell_type": "code",
   "execution_count": 276,
   "metadata": {},
   "outputs": [
    {
     "data": {
      "text/plain": [
       "<AxesSubplot:>"
      ]
     },
     "execution_count": 276,
     "metadata": {},
     "output_type": "execute_result"
    },
    {
     "data": {
      "image/png": "[encoded data removed]",
      "text/plain": [
       "<Figure size 432x288 with 1 Axes>"
      ]
     },
     "metadata": {
      "needs_background": "light"
     },
     "output_type": "display_data"
    }
   ],
   "source": [
    "shp.plot()"
   ]
  },
  {
   "cell_type": "code",
   "execution_count": 277,
   "metadata": {},
   "outputs": [
    {
     "data": {
      "text/plain": [
       "Point(40.91419963182533, -73.70001746672092, 0.0)"
      ]
     },
     "execution_count": 277,
     "metadata": {},
     "output_type": "execute_result"
    }
   ],
   "source": [
    "great_circle(kilometers=great_circle(pt_00, pt_01).km).destination((40.91553277650264, -74.25559136315213), bearing=90)"
   ]
  },
  {
   "cell_type": "code",
   "execution_count": 278,
   "metadata": {},
   "outputs": [
    {
     "data": {
      "text/plain": [
       "66.09101641043473"
      ]
     },
     "execution_count": 278,
     "metadata": {},
     "output_type": "execute_result"
    }
   ],
   "source": [
    "# great_circle(pt_00, pt_10).km\n",
    "great_circle(pt_00, pt_11).km"
   ]
  },
  {
   "cell_type": "code",
   "execution_count": 307,
   "metadata": {},
   "outputs": [
    {
     "name": "stdout",
     "output_type": "stream",
     "text": [
      "46 46\n"
     ]
    }
   ],
   "source": [
    "for col in range(0, round(distance(pt_00, pt_10).km), 2):\n",
    "    for row in range(0, round(distance(pt_00, pt_01).km), 2):\n",
    "        _\n",
    "print(col, row)"
   ]
  },
  {
   "cell_type": "code",
   "execution_count": 309,
   "metadata": {},
   "outputs": [],
   "source": [
    "def get_block(p_00):\n",
    "    p_01 = great_circle(kilometers=2).destination(p_00, bearing=90)\n",
    "    p_10 = great_circle(kilometers=2).destination(p_00, bearing=180)\n",
    "    p_11 = great_circle(kilometers=2).destination(p_10, bearing=90)\n",
    "    return p_00, p_01, p_10, p_11"
   ]
  },
  {
   "cell_type": "code",
   "execution_count": 311,
   "metadata": {},
   "outputs": [
    {
     "name": "stdout",
     "output_type": "stream",
     "text": [
      "576\n"
     ]
    },
    {
     "data": {
      "text/plain": [
       "('NYC_4646', <shapely.geometry.polygon.Polygon at 0x7fb98ca3c250>)"
      ]
     },
     "execution_count": 311,
     "metadata": {},
     "output_type": "execute_result"
    }
   ],
   "source": [
    "region_00 = geopy.Point(latitude=pt_00[0], longitude=pt_00[1])\n",
    "\n",
    "# print(region_00.latitude, region_00.longitude)\n",
    "c = 0\n",
    "\n",
    "areas = []\n",
    "areas_names = []\n",
    "for col in range(0, round(great_circle(pt_00, pt_10).km), 2):\n",
    "    for row in range(0, round(great_circle(pt_00, pt_01).km), 2):\n",
    "        c+=1\n",
    "        region_00, region_01, region_10, region_11 = get_block(region_00)\n",
    "        # print(f'Polygon([{region_00.latitude, region_00.longitude}, {region_01.latitude, region_01.longitude}, {region_11.latitude, region_11.longitude}, {region_10.latitude, region_10.longitude}])')\n",
    "        # add region as area\n",
    "        area = (f'NYC_{col}{row}', Polygon([(region_00.longitude, region_00.latitude), (region_01.longitude, region_01.latitude), (region_11.longitude, region_11.latitude), (region_10.longitude, region_10.latitude)]))\n",
    "        areas.append(area)\n",
    "        # areas_names.append(f'NYC_{col}{row}')\n",
    "        region_00 = geopy.Point(latitude=region_01.latitude, longitude=region_01.longitude)\n",
    "    region_00 = great_circle(kilometers=2).destination((region_00.latitude, x1), bearing=180)\n",
    "\n",
    "# print(areas[100])\n",
    "# areas[100]\n",
    "# len(areas)\n",
    "print(c)\n",
    "area"
   ]
  },
  {
   "cell_type": "code",
   "execution_count": 312,
   "metadata": {},
   "outputs": [
    {
     "data": {
      "text/plain": [
       "('NYC_00', <shapely.geometry.polygon.Polygon at 0x7fb9931eb310>)"
      ]
     },
     "execution_count": 312,
     "metadata": {},
     "output_type": "execute_result"
    }
   ],
   "source": [
    "areas[0]"
   ]
  },
  {
   "cell_type": "code",
   "execution_count": 313,
   "metadata": {},
   "outputs": [],
   "source": [
    "list_polygons = []\n",
    "for b in shp['geometry'].values:\n",
    "    for poly in b.geoms:\n",
    "        list_polygons.append(poly)"
   ]
  },
  {
   "cell_type": "code",
   "execution_count": 315,
   "metadata": {},
   "outputs": [
    {
     "name": "stdout",
     "output_type": "stream",
     "text": [
      "282\n"
     ]
    }
   ],
   "source": [
    "counter = 0\n",
    "saved = []\n",
    "\n",
    "for area in areas:\n",
    "    for poly in list_polygons:\n",
    "        if area[1].intersects(poly): #or area[1].touches(poly) or area[1].within(poly) or area[1].overlaps(poly) or area[1].crosses(poly):\n",
    "            if area not in saved:\n",
    "                saved.append(area)\n",
    "\n",
    "# print(counter)\n",
    "print(len(saved))"
   ]
  },
  {
   "cell_type": "code",
   "execution_count": 6,
   "metadata": {},
   "outputs": [],
   "source": [
    "district_file_loc = '/Users/ernestvmo/Downloads/ZIP_CODE_040114/ZIP_CODE_040114.shp'"
   ]
  },
  {
   "cell_type": "code",
   "execution_count": 7,
   "metadata": {},
   "outputs": [],
   "source": [
    "shp_district = gpd.read_file(district_file_loc)"
   ]
  },
  {
   "cell_type": "code",
   "execution_count": 8,
   "metadata": {},
   "outputs": [
    {
     "data": {
      "text/plain": [
       "<AxesSubplot:>"
      ]
     },
     "execution_count": 8,
     "metadata": {},
     "output_type": "execute_result"
    },
    {
     "data": {
      "image/png": "[encoded data removed]",
      "text/plain": [
       "<Figure size 432x288 with 1 Axes>"
      ]
     },
     "metadata": {
      "needs_background": "light"
     },
     "output_type": "display_data"
    }
   ],
   "source": [
    "shp_district.plot()"
   ]
  },
  {
   "cell_type": "code",
   "execution_count": 9,
   "metadata": {},
   "outputs": [
    {
     "data": {
      "text/plain": [
       "263"
      ]
     },
     "execution_count": 9,
     "metadata": {},
     "output_type": "execute_result"
    }
   ],
   "source": [
    "len(shp_district)"
   ]
  },
  {
   "cell_type": "code",
   "execution_count": 328,
   "metadata": {},
   "outputs": [
    {
     "data": {
      "text/html": [
       "<div>\n",
       "<style scoped>\n",
       "    .dataframe tbody tr th:only-of-type {\n",
       "        vertical-align: middle;\n",
       "    }\n",
       "\n",
       "    .dataframe tbody tr th {\n",
       "        vertical-align: top;\n",
       "    }\n",
       "\n",
       "    .dataframe thead th {\n",
       "        text-align: right;\n",
       "    }\n",
       "</style>\n",
       "<table border=\"1\" class=\"dataframe\">\n",
       "  <thead>\n",
       "    <tr style=\"text-align: right;\">\n",
       "      <th></th>\n",
       "      <th>ZIPCODE</th>\n",
       "      <th>BLDGZIP</th>\n",
       "      <th>PO_NAME</th>\n",
       "      <th>POPULATION</th>\n",
       "      <th>AREA</th>\n",
       "      <th>STATE</th>\n",
       "      <th>COUNTY</th>\n",
       "      <th>ST_FIPS</th>\n",
       "      <th>CTY_FIPS</th>\n",
       "      <th>URL</th>\n",
       "      <th>SHAPE_AREA</th>\n",
       "      <th>SHAPE_LEN</th>\n",
       "      <th>geometry</th>\n",
       "    </tr>\n",
       "  </thead>\n",
       "  <tbody>\n",
       "    <tr>\n",
       "      <th>0</th>\n",
       "      <td>11436</td>\n",
       "      <td>0</td>\n",
       "      <td>Jamaica</td>\n",
       "      <td>18681.0</td>\n",
       "      <td>2.269930e+07</td>\n",
       "      <td>NY</td>\n",
       "      <td>Queens</td>\n",
       "      <td>36</td>\n",
       "      <td>081</td>\n",
       "      <td>http://www.usps.com/</td>\n",
       "      <td>0.0</td>\n",
       "      <td>0.0</td>\n",
       "      <td>POLYGON ((1038098.252 188138.380, 1038141.936 ...</td>\n",
       "    </tr>\n",
       "    <tr>\n",
       "      <th>1</th>\n",
       "      <td>11213</td>\n",
       "      <td>0</td>\n",
       "      <td>Brooklyn</td>\n",
       "      <td>62426.0</td>\n",
       "      <td>2.963100e+07</td>\n",
       "      <td>NY</td>\n",
       "      <td>Kings</td>\n",
       "      <td>36</td>\n",
       "      <td>047</td>\n",
       "      <td>http://www.usps.com/</td>\n",
       "      <td>0.0</td>\n",
       "      <td>0.0</td>\n",
       "      <td>POLYGON ((1001613.713 186926.440, 1002314.243 ...</td>\n",
       "    </tr>\n",
       "    <tr>\n",
       "      <th>2</th>\n",
       "      <td>11212</td>\n",
       "      <td>0</td>\n",
       "      <td>Brooklyn</td>\n",
       "      <td>83866.0</td>\n",
       "      <td>4.197210e+07</td>\n",
       "      <td>NY</td>\n",
       "      <td>Kings</td>\n",
       "      <td>36</td>\n",
       "      <td>047</td>\n",
       "      <td>http://www.usps.com/</td>\n",
       "      <td>0.0</td>\n",
       "      <td>0.0</td>\n",
       "      <td>POLYGON ((1011174.276 183696.338, 1011373.584 ...</td>\n",
       "    </tr>\n",
       "    <tr>\n",
       "      <th>3</th>\n",
       "      <td>11225</td>\n",
       "      <td>0</td>\n",
       "      <td>Brooklyn</td>\n",
       "      <td>56527.0</td>\n",
       "      <td>2.369863e+07</td>\n",
       "      <td>NY</td>\n",
       "      <td>Kings</td>\n",
       "      <td>36</td>\n",
       "      <td>047</td>\n",
       "      <td>http://www.usps.com/</td>\n",
       "      <td>0.0</td>\n",
       "      <td>0.0</td>\n",
       "      <td>POLYGON ((995908.365 183617.613, 996522.848 18...</td>\n",
       "    </tr>\n",
       "    <tr>\n",
       "      <th>4</th>\n",
       "      <td>11218</td>\n",
       "      <td>0</td>\n",
       "      <td>Brooklyn</td>\n",
       "      <td>72280.0</td>\n",
       "      <td>3.686880e+07</td>\n",
       "      <td>NY</td>\n",
       "      <td>Kings</td>\n",
       "      <td>36</td>\n",
       "      <td>047</td>\n",
       "      <td>http://www.usps.com/</td>\n",
       "      <td>0.0</td>\n",
       "      <td>0.0</td>\n",
       "      <td>POLYGON ((991997.113 176307.496, 992042.798 17...</td>\n",
       "    </tr>\n",
       "  </tbody>\n",
       "</table>\n",
       "</div>"
      ],
      "text/plain": [
       "  ZIPCODE BLDGZIP   PO_NAME  POPULATION          AREA STATE  COUNTY ST_FIPS  \\\n",
       "0   11436       0   Jamaica     18681.0  2.269930e+07    NY  Queens      36   \n",
       "1   11213       0  Brooklyn     62426.0  2.963100e+07    NY   Kings      36   \n",
       "2   11212       0  Brooklyn     83866.0  4.197210e+07    NY   Kings      36   \n",
       "3   11225       0  Brooklyn     56527.0  2.369863e+07    NY   Kings      36   \n",
       "4   11218       0  Brooklyn     72280.0  3.686880e+07    NY   Kings      36   \n",
       "\n",
       "  CTY_FIPS                   URL  SHAPE_AREA  SHAPE_LEN  \\\n",
       "0      081  http://www.usps.com/         0.0        0.0   \n",
       "1      047  http://www.usps.com/         0.0        0.0   \n",
       "2      047  http://www.usps.com/         0.0        0.0   \n",
       "3      047  http://www.usps.com/         0.0        0.0   \n",
       "4      047  http://www.usps.com/         0.0        0.0   \n",
       "\n",
       "                                            geometry  \n",
       "0  POLYGON ((1038098.252 188138.380, 1038141.936 ...  \n",
       "1  POLYGON ((1001613.713 186926.440, 1002314.243 ...  \n",
       "2  POLYGON ((1011174.276 183696.338, 1011373.584 ...  \n",
       "3  POLYGON ((995908.365 183617.613, 996522.848 18...  \n",
       "4  POLYGON ((991997.113 176307.496, 992042.798 17...  "
      ]
     },
     "execution_count": 328,
     "metadata": {},
     "output_type": "execute_result"
    }
   ],
   "source": [
    "shp_district.head()"
   ]
  },
  {
   "cell_type": "code",
   "execution_count": 331,
   "metadata": {},
   "outputs": [
    {
     "name": "stdout",
     "output_type": "stream",
     "text": [
      "POLYGON ((1038098.251871482 188138.3800067157, 1038141.935839221 188154.7877822965, 1038171.28978315 188165.8130227178, 1038280.151770145 188206.7030327916, 1038520.853060395 188296.7665009648, 1038764.226589397 188388.4182205498, 1039008.358318985 188480.262196973, 1039251.8240394 188571.7187069654, 1039504.487904146 188666.2785572112, 1039757.420141056 188761.6589438766, 1039853.95275639 188797.623110801, 1039876.902841732 188806.0961909592, 1039898.156736225 188814.2687467933, 1040001.024312645 188852.7857301384, 1040114.195674226 188895.895552054, 1040244.262015149 188944.6585778892, 1040360.036389887 188988.1483203024, 1040487.856344223 189036.3355598897, 1040731.019571811 189127.6096555442, 1040974.394413143 189218.6832922995, 1041221.44181931 189310.2083717138, 1041374.340135559 189368.7128478885, 1041391.659982815 189376.2292370498, 1041406.932590067 189382.8565203846, 1041423.310510054 189348.2476657182, 1041589.312146559 189067.3023614585, 1041715.325345978 188850.665327549, 1041723.99330765 188834.6423937082, 1041729.681616485 188814.3779985458, 1041737.803647473 188779.9417157173, 1041764.222885981 188679.2627832144, 1041774.488613471 188632.5768529624, 1041778.719904229 188604.5831425488, 1041780.255334228 188555.1006299704, 1041780.894112483 188353.8526728749, 1041777.425287396 188321.5915825516, 1041775.929555476 188285.9049741328, 1041753.351516649 188074.852574721, 1041753.252107397 188040.0258727223, 1041752.758998141 188003.650617376, 1041755.517194733 187990.2575995475, 1041776.319318473 187892.1613390446, 1041779.90526931 187875.2532363832, 1041798.762515068 187786.3252646327, 1041804.4488554 187760.102219969, 1041861.164621234 187504.4603427947, 1041865.190859899 187485.5401050448, 1041915.587740734 187260.5969853848, 1041940.480407476 187147.9945202917, 1041978.42980665 186994.9751413018, 1042019.437598646 186847.3235337138, 1042093.007005304 186595.4388668835, 1042163.600696146 186352.7963075489, 1042185.35360539 186276.4378644675, 1042220.993954062 186153.8390282989, 1042234.582837641 186113.1550545543, 1042315.51509048 185874.9383393824, 1042344.536685973 185793.1228862107, 1042404.549689308 185645.3659638762, 1042499.999957725 185400.881872803, 1042519.881479651 185363.3675121367, 1042531.183950484 185340.3731355518, 1042587.837708563 185225.8786138892, 1042629.200814813 185150.4276493043, 1042653.872681484 185105.4224899709, 1042680.424465641 185061.9150310457, 1042728.800681233 184999.8784097135, 1042873.030051559 184831.0582093, 1042973.837592721 184719.3924221396, 1043037.199014559 184630.5218649656, 1043039.521516472 184625.4979248792, 1043041.994608641 184607.2929088026, 1043042.24854514 184599.1174002141, 1043033.583208144 184542.9485493004, 1042969.467522725 184166.8695770502, 1042926.663146392 183929.4802880436, 1042829.543589979 183381.6513312161, 1042802.019038722 183232.4209866375, 1042740.204857901 182840.2669152915, 1042714.865669727 182675.1898176372, 1042696.570430726 182499.8784884661, 1042679.644611567 182337.4874090552, 1042671.560966313 182294.7224027216, 1042499.999957725 182305.9569603056, 1042398.137628645 182311.0225669593, 1042147.3241539 182340.4201459587, 1041904.501476809 182365.2691776305, 1041788.428546235 182375.5027529597, 1041658.204069138 182381.9492623806, 1041611.506327897 182376.9364771396, 1041541.392622977 182361.3400516361, 1041416.457177311 182350.1156646311, 1041293.010901898 182338.8745453805, 1041200.889366984 182333.9126130491, 1040535.093782559 182327.9477299601, 1040481.536474973 182326.6258822083, 1040462.755016476 182326.0461589694, 1040396.264007732 182294.4993060529, 1040322.347488895 182264.4711508751, 1040268.690115899 182242.6729661375, 1040210.405455559 182219.2858738005, 1040165.644718304 182203.4154987186, 1040133.309809223 182194.4955690503, 1040084.205248639 182184.3384371251, 1040048.097381234 182179.0881195515, 1039999.999708399 182175.1908176392, 1039905.661314398 182170.351260379, 1039704.283436313 182217.3226231337, 1039633.910545558 182227.626080215, 1039450.448314056 182246.5587851256, 1039365.891068473 182252.4035897106, 1039330.808461472 182254.0774708837, 1039272.433578223 182256.8635545522, 1039284.629748061 182324.0563335419, 1039289.926325396 182353.2734667212, 1039294.804596484 182381.0299728811, 1039304.108711734 182434.0610347986, 1039316.203175724 182499.8784884661, 1039345.652919978 182705.2793243825, 1039354.908150807 182804.5025511384, 1039358.980649233 182870.1743357927, 1039360.069557816 182887.7392612994, 1039372.101029813 183081.7277184725, 1039373.747023895 183108.1620488018, 1039375.381206974 183134.6127832979, 1039392.55604139 183500.6497808844, 1039392.662668481 183505.6832353771, 1039392.944492057 183519.7875378877, 1039394.027167067 183774.8096656352, 1039388.681705311 184048.5371365547, 1039378.182382479 184276.9818896353, 1039372.386462316 184361.4571143836, 1039362.326114982 184465.7505409718, 1039350.015444055 184552.0417069644, 1039323.551914304 184671.9279501289, 1039320.539781228 184699.9797312915, 1039297.114303142 184814.7541080415, 1039272.088106483 184914.8457713872, 1039251.545824721 184982.2376969606, 1039246.168210804 184999.8784097135, 1039235.003534973 185037.749068886, 1039219.470101476 185092.0166768879, 1039161.976121977 185250.6426719725, 1039034.56528756 185594.706288293, 1038934.759384811 185870.5935318023, 1038859.279548898 186058.0501778871, 1038817.259947896 186185.691326797, 1038807.112986565 186216.5154121369, 1038804.307217896 186224.1177591383, 1038790.185526982 186261.8325787187, 1038656.169718891 186620.6245120466, 1038600.992991984 186769.1166691333, 1038451.178987145 187162.0906207114, 1038385.174197897 187358.2874068022, 1038333.199564308 187499.8786590546, 1038298.242941305 187594.8810937107, 1038290.327602819 187616.3925336301, 1038112.447709233 188099.8167636395, 1038098.251871482 188138.3800067157))\n"
     ]
    }
   ],
   "source": [
    "print(shp_district['geometry'].values[0])"
   ]
  },
  {
   "cell_type": "code",
   "execution_count": null,
   "metadata": {},
   "outputs": [],
   "source": []
  },
  {
   "cell_type": "markdown",
   "metadata": {},
   "source": []
  },
  {
   "cell_type": "markdown",
   "metadata": {},
   "source": [
    "### Taxi Data"
   ]
  },
  {
   "cell_type": "code",
   "execution_count": 15,
   "metadata": {},
   "outputs": [],
   "source": [
    "taxi_data_root = \"/Users/ernestvmo/OneDrive - Universiteit Leiden/Q1/Urban Computing/Project/data/taxi_data/\"\n",
    "taxi_data_locations = [\"yellow_tripdata_2012-07.csv\", \n",
    "                        \"yellow_tripdata_2012-08.csv\", \n",
    "                        \"yellow_tripdata_2012-09.csv\", \n",
    "                        \"yellow_tripdata_2012-10.csv\", \n",
    "                        \"yellow_tripdata_2012-11.csv\", \n",
    "                        \"yellow_tripdata_2012-12.csv\", \n",
    "                        \"yellow_tripdata_2013-01.csv\", \n",
    "                        \"yellow_tripdata_2013-02.csv\", \n",
    "                        \"yellow_tripdata_2013-03.csv\", \n",
    "                        \"yellow_tripdata_2013-04.csv\", \n",
    "                        \"yellow_tripdata_2013-05.csv\", \n",
    "                        \"yellow_tripdata_2013-06.csv\"]"
   ]
  },
  {
   "cell_type": "code",
   "execution_count": null,
   "metadata": {},
   "outputs": [],
   "source": [
    "for f in taxi_data_locations:\n",
    "    # load csv\n",
    "    df_taxi = pd.read_csv(taxi_data_root + f)\n",
    "    \n",
    "    # drop unnecessary columns\n",
    "    df_taxi = df_taxi[['pickup_datetime', 'pickup_longitude', 'pickup_latitude', 'dropoff_datetime', 'dropoff_longitude', 'dropoff_latitude']]\n",
    "    \n",
    "    # project longitude/latitude to x/y coordinates\n",
    "    df_taxi['pickup_x_y_coords'] = project_coords(df_taxi[['pickup_longitude', 'pickup_latitude']].values)\n",
    "    df_taxi['dropoff_x_y_coords'] = project_coords(df_taxi[['dropoff_longitude', 'dropoff_latitude']].values)\n",
    "    \n",
    "    # delete rows where x_y_coords = zero\n",
    "    "
   ]
  },
  {
   "cell_type": "code",
   "execution_count": 16,
   "metadata": {},
   "outputs": [],
   "source": [
    "df_taxi = pd.read_csv(taxi_data_root + taxi_data_locations[0])"
   ]
  },
  {
   "cell_type": "code",
   "execution_count": 95,
   "metadata": {},
   "outputs": [],
   "source": [
    "def project_coords(coordinates):\n",
    "    proj = pyproj.Transformer.from_crs(\"EPSG:4326\", \"EPSG:2263\", always_xy=True)\n",
    "    # latitude, longitude = proj.transform(longitude, latitude)\n",
    "    x_y_projection = []\n",
    "\n",
    "    for lon, lat in coordinates:\n",
    "        if lon != 0 and lat != 0:\n",
    "            x, y = proj.transform(lon, lat)\n",
    "            x_y_projection.append((x,y))\n",
    "        else:\n",
    "            x_y_projection.append((lon, lat))\n",
    "\n",
    "    return x_y_projection"
   ]
  },
  {
   "cell_type": "code",
   "execution_count": 100,
   "metadata": {},
   "outputs": [],
   "source": [
    "df_taxi = df_taxi[['pickup_datetime', 'pickup_longitude', 'pickup_latitude', 'dropoff_datetime', 'dropoff_longitude', 'dropoff_latitude']]"
   ]
  },
  {
   "cell_type": "code",
   "execution_count": 102,
   "metadata": {},
   "outputs": [],
   "source": [
    "df_taxi['pickup_x_y_coords'] = project_coords(df_taxi[['pickup_longitude', 'pickup_latitude']].values)\n",
    "df_taxi['dropoff_x_y_coords'] = project_coords(df_taxi[['dropoff_longitude', 'dropoff_latitude']].values)"
   ]
  },
  {
   "cell_type": "code",
   "execution_count": 107,
   "metadata": {},
   "outputs": [],
   "source": [
    "df_taxi = df_taxi[df_taxi.pickup_x_y_coords != (0,0)]"
   ]
  },
  {
   "cell_type": "code",
   "execution_count": 143,
   "metadata": {},
   "outputs": [
    {
     "data": {
      "text/html": [
       "<div>\n",
       "<style scoped>\n",
       "    .dataframe tbody tr th:only-of-type {\n",
       "        vertical-align: middle;\n",
       "    }\n",
       "\n",
       "    .dataframe tbody tr th {\n",
       "        vertical-align: top;\n",
       "    }\n",
       "\n",
       "    .dataframe thead th {\n",
       "        text-align: right;\n",
       "    }\n",
       "</style>\n",
       "<table border=\"1\" class=\"dataframe\">\n",
       "  <thead>\n",
       "    <tr style=\"text-align: right;\">\n",
       "      <th></th>\n",
       "      <th>pickup_datetime</th>\n",
       "      <th>pickup_longitude</th>\n",
       "      <th>pickup_latitude</th>\n",
       "      <th>dropoff_datetime</th>\n",
       "      <th>dropoff_longitude</th>\n",
       "      <th>dropoff_latitude</th>\n",
       "      <th>pickup_x_y_coords</th>\n",
       "      <th>dropoff_x_y_coords</th>\n",
       "    </tr>\n",
       "  </thead>\n",
       "  <tbody>\n",
       "    <tr>\n",
       "      <th>0</th>\n",
       "      <td>2012-07-01 03:32:51</td>\n",
       "      <td>-73.966130</td>\n",
       "      <td>40.761309</td>\n",
       "      <td>2012-07-01 03:44:22</td>\n",
       "      <td>-73.986274</td>\n",
       "      <td>40.722112</td>\n",
       "      <td>(993632.8647532096, 216643.93698775012)</td>\n",
       "      <td>(988054.6942861767, 202361.70784783058)</td>\n",
       "    </tr>\n",
       "    <tr>\n",
       "      <th>1</th>\n",
       "      <td>2012-07-01 00:00:00</td>\n",
       "      <td>-73.866037</td>\n",
       "      <td>40.834670</td>\n",
       "      <td>2012-07-01 00:05:00</td>\n",
       "      <td>-73.866392</td>\n",
       "      <td>40.832757</td>\n",
       "      <td>(1021320.3220530733, 243398.43977192868)</td>\n",
       "      <td>(1021223.1493813082, 242701.31390845554)</td>\n",
       "    </tr>\n",
       "    <tr>\n",
       "      <th>2</th>\n",
       "      <td>2012-07-01 03:33:00</td>\n",
       "      <td>-73.981165</td>\n",
       "      <td>40.767080</td>\n",
       "      <td>2012-07-01 03:54:00</td>\n",
       "      <td>-73.840485</td>\n",
       "      <td>40.699652</td>\n",
       "      <td>(989467.3294474155, 218745.24948518354)</td>\n",
       "      <td>(1028480.6576917275, 194218.8243317324)</td>\n",
       "    </tr>\n",
       "    <tr>\n",
       "      <th>3</th>\n",
       "      <td>2012-07-01 03:32:40</td>\n",
       "      <td>-73.950839</td>\n",
       "      <td>40.785787</td>\n",
       "      <td>2012-07-01 03:56:31</td>\n",
       "      <td>-73.850864</td>\n",
       "      <td>40.875776</td>\n",
       "      <td>(997863.8612807143, 225564.09807745807)</td>\n",
       "      <td>(1025493.5021441872, 258381.69442031797)</td>\n",
       "    </tr>\n",
       "    <tr>\n",
       "      <th>4</th>\n",
       "      <td>2012-07-01 03:33:15</td>\n",
       "      <td>-73.991608</td>\n",
       "      <td>40.764888</td>\n",
       "      <td>2012-07-01 03:56:08</td>\n",
       "      <td>-73.830373</td>\n",
       "      <td>40.847396</td>\n",
       "      <td>(986574.675871825, 217946.1818522205)</td>\n",
       "      <td>(1031180.2961538866, 248052.09092505643)</td>\n",
       "    </tr>\n",
       "  </tbody>\n",
       "</table>\n",
       "</div>"
      ],
      "text/plain": [
       "       pickup_datetime  pickup_longitude  pickup_latitude  \\\n",
       "0  2012-07-01 03:32:51        -73.966130        40.761309   \n",
       "1  2012-07-01 00:00:00        -73.866037        40.834670   \n",
       "2  2012-07-01 03:33:00        -73.981165        40.767080   \n",
       "3  2012-07-01 03:32:40        -73.950839        40.785787   \n",
       "4  2012-07-01 03:33:15        -73.991608        40.764888   \n",
       "\n",
       "      dropoff_datetime  dropoff_longitude  dropoff_latitude  \\\n",
       "0  2012-07-01 03:44:22         -73.986274         40.722112   \n",
       "1  2012-07-01 00:05:00         -73.866392         40.832757   \n",
       "2  2012-07-01 03:54:00         -73.840485         40.699652   \n",
       "3  2012-07-01 03:56:31         -73.850864         40.875776   \n",
       "4  2012-07-01 03:56:08         -73.830373         40.847396   \n",
       "\n",
       "                          pickup_x_y_coords  \\\n",
       "0   (993632.8647532096, 216643.93698775012)   \n",
       "1  (1021320.3220530733, 243398.43977192868)   \n",
       "2   (989467.3294474155, 218745.24948518354)   \n",
       "3   (997863.8612807143, 225564.09807745807)   \n",
       "4     (986574.675871825, 217946.1818522205)   \n",
       "\n",
       "                         dropoff_x_y_coords  \n",
       "0   (988054.6942861767, 202361.70784783058)  \n",
       "1  (1021223.1493813082, 242701.31390845554)  \n",
       "2   (1028480.6576917275, 194218.8243317324)  \n",
       "3  (1025493.5021441872, 258381.69442031797)  \n",
       "4  (1031180.2961538866, 248052.09092505643)  "
      ]
     },
     "execution_count": 143,
     "metadata": {},
     "output_type": "execute_result"
    }
   ],
   "source": [
    "df_taxi.head()"
   ]
  },
  {
   "cell_type": "code",
   "execution_count": 144,
   "metadata": {},
   "outputs": [],
   "source": [
    "def assign_zip_code_df(dataframe):\n",
    "    dataframe['pickup_zipcode'] = None\n",
    "    dataframe['dropoff_zipcode'] = None\n",
    "\n",
    "    pickup_zips = []\n",
    "    dropoff_zips = []\n",
    "\n",
    "    for index, row in dataframe.iterrows():\n",
    "        pickup_loc = shapely.geometry.Point(row['pickup_x_y_coords'])\n",
    "        dropoff_loc = shapely.geometry.Point(row['dropoff_x_y_coords'])\n",
    "\n",
    "        isPickupAdded, isDropOffAdded = False, False\n",
    "\n",
    "        for zip in zip_codes_shp[['ZIPCODE', 'geometry']].values:\n",
    "            if zip[1].contains(pickup_loc) and isPickupAdded is False:\n",
    "                pickup_zips.append(zip[0])\n",
    "                isPickupAdded = True   \n",
    "\n",
    "            if zip[1].contains(dropoff_loc) and isDropOffAdded is False:\n",
    "                dropoff_zips.append(zip[0])\n",
    "                isDropOffAdded = True   \n",
    "\n",
    "            if isPickupAdded and isDropOffAdded:\n",
    "                break\n",
    "    return pickup_zips, dropoff_zips"
   ]
  },
  {
   "cell_type": "code",
   "execution_count": 145,
   "metadata": {},
   "outputs": [
    {
     "ename": "KeyboardInterrupt",
     "evalue": "",
     "output_type": "error",
     "traceback": [
      "\u001b[0;31m---------------------------------------------------------------------------\u001b[0m",
      "\u001b[0;31mKeyboardInterrupt\u001b[0m                         Traceback (most recent call last)",
      "\u001b[0;32m/var/folders/w5/5wf6r0p14r38dgytvnyprf9r0000gn/T/ipykernel_15410/535409185.py\u001b[0m in \u001b[0;36m<module>\u001b[0;34m\u001b[0m\n\u001b[0;32m----> 1\u001b[0;31m \u001b[0ml1\u001b[0m\u001b[0;34m,\u001b[0m \u001b[0ml2\u001b[0m \u001b[0;34m=\u001b[0m \u001b[0massign_zip_code_df\u001b[0m\u001b[0;34m(\u001b[0m\u001b[0mdf_taxi\u001b[0m\u001b[0;34m)\u001b[0m\u001b[0;34m\u001b[0m\u001b[0;34m\u001b[0m\u001b[0m\n\u001b[0m",
      "\u001b[0;32m/var/folders/w5/5wf6r0p14r38dgytvnyprf9r0000gn/T/ipykernel_15410/757421463.py\u001b[0m in \u001b[0;36massign_zip_code_df\u001b[0;34m(dataframe)\u001b[0m\n\u001b[1;32m     12\u001b[0m         \u001b[0misPickupAdded\u001b[0m\u001b[0;34m,\u001b[0m \u001b[0misDropOffAdded\u001b[0m \u001b[0;34m=\u001b[0m \u001b[0;32mFalse\u001b[0m\u001b[0;34m,\u001b[0m \u001b[0;32mFalse\u001b[0m\u001b[0;34m\u001b[0m\u001b[0;34m\u001b[0m\u001b[0m\n\u001b[1;32m     13\u001b[0m \u001b[0;34m\u001b[0m\u001b[0m\n\u001b[0;32m---> 14\u001b[0;31m         \u001b[0;32mfor\u001b[0m \u001b[0mzip\u001b[0m \u001b[0;32min\u001b[0m \u001b[0mzip_codes_shp\u001b[0m\u001b[0;34m[\u001b[0m\u001b[0;34m[\u001b[0m\u001b[0;34m'ZIPCODE'\u001b[0m\u001b[0;34m,\u001b[0m \u001b[0;34m'geometry'\u001b[0m\u001b[0;34m]\u001b[0m\u001b[0;34m]\u001b[0m\u001b[0;34m.\u001b[0m\u001b[0mvalues\u001b[0m\u001b[0;34m:\u001b[0m\u001b[0;34m\u001b[0m\u001b[0;34m\u001b[0m\u001b[0m\n\u001b[0m\u001b[1;32m     15\u001b[0m             \u001b[0;32mif\u001b[0m \u001b[0mzip\u001b[0m\u001b[0;34m[\u001b[0m\u001b[0;36m1\u001b[0m\u001b[0;34m]\u001b[0m\u001b[0;34m.\u001b[0m\u001b[0mcontains\u001b[0m\u001b[0;34m(\u001b[0m\u001b[0mpickup_loc\u001b[0m\u001b[0;34m)\u001b[0m \u001b[0;32mand\u001b[0m \u001b[0misPickupAdded\u001b[0m \u001b[0;32mis\u001b[0m \u001b[0;32mFalse\u001b[0m\u001b[0;34m:\u001b[0m\u001b[0;34m\u001b[0m\u001b[0;34m\u001b[0m\u001b[0m\n\u001b[1;32m     16\u001b[0m                 \u001b[0mpickup_zips\u001b[0m\u001b[0;34m.\u001b[0m\u001b[0mappend\u001b[0m\u001b[0;34m(\u001b[0m\u001b[0mzip\u001b[0m\u001b[0;34m[\u001b[0m\u001b[0;36m0\u001b[0m\u001b[0;34m]\u001b[0m\u001b[0;34m)\u001b[0m\u001b[0;34m\u001b[0m\u001b[0;34m\u001b[0m\u001b[0m\n",
      "\u001b[0;32m/Library/Frameworks/Python.framework/Versions/3.9/lib/python3.9/site-packages/geopandas/geodataframe.py\u001b[0m in \u001b[0;36m__getitem__\u001b[0;34m(self, key)\u001b[0m\n\u001b[1;32m   1325\u001b[0m         \u001b[0mGeoDataFrame\u001b[0m\u001b[0;34m.\u001b[0m\u001b[0;34m\u001b[0m\u001b[0;34m\u001b[0m\u001b[0m\n\u001b[1;32m   1326\u001b[0m         \"\"\"\n\u001b[0;32m-> 1327\u001b[0;31m         \u001b[0mresult\u001b[0m \u001b[0;34m=\u001b[0m \u001b[0msuper\u001b[0m\u001b[0;34m(\u001b[0m\u001b[0;34m)\u001b[0m\u001b[0;34m.\u001b[0m\u001b[0m__getitem__\u001b[0m\u001b[0;34m(\u001b[0m\u001b[0mkey\u001b[0m\u001b[0;34m)\u001b[0m\u001b[0;34m\u001b[0m\u001b[0;34m\u001b[0m\u001b[0m\n\u001b[0m\u001b[1;32m   1328\u001b[0m         \u001b[0mgeo_col\u001b[0m \u001b[0;34m=\u001b[0m \u001b[0mself\u001b[0m\u001b[0;34m.\u001b[0m\u001b[0m_geometry_column_name\u001b[0m\u001b[0;34m\u001b[0m\u001b[0;34m\u001b[0m\u001b[0m\n\u001b[1;32m   1329\u001b[0m         \u001b[0;32mif\u001b[0m \u001b[0misinstance\u001b[0m\u001b[0;34m(\u001b[0m\u001b[0mresult\u001b[0m\u001b[0;34m,\u001b[0m \u001b[0mSeries\u001b[0m\u001b[0;34m)\u001b[0m \u001b[0;32mand\u001b[0m \u001b[0misinstance\u001b[0m\u001b[0;34m(\u001b[0m\u001b[0mresult\u001b[0m\u001b[0;34m.\u001b[0m\u001b[0mdtype\u001b[0m\u001b[0;34m,\u001b[0m \u001b[0mGeometryDtype\u001b[0m\u001b[0;34m)\u001b[0m\u001b[0;34m:\u001b[0m\u001b[0;34m\u001b[0m\u001b[0;34m\u001b[0m\u001b[0m\n",
      "\u001b[0;32m/Library/Frameworks/Python.framework/Versions/3.9/lib/python3.9/site-packages/pandas/core/frame.py\u001b[0m in \u001b[0;36m__getitem__\u001b[0;34m(self, key)\u001b[0m\n\u001b[1;32m   3468\u001b[0m             \u001b[0mindexer\u001b[0m \u001b[0;34m=\u001b[0m \u001b[0mnp\u001b[0m\u001b[0;34m.\u001b[0m\u001b[0mwhere\u001b[0m\u001b[0;34m(\u001b[0m\u001b[0mindexer\u001b[0m\u001b[0;34m)\u001b[0m\u001b[0;34m[\u001b[0m\u001b[0;36m0\u001b[0m\u001b[0;34m]\u001b[0m\u001b[0;34m\u001b[0m\u001b[0;34m\u001b[0m\u001b[0m\n\u001b[1;32m   3469\u001b[0m \u001b[0;34m\u001b[0m\u001b[0m\n\u001b[0;32m-> 3470\u001b[0;31m         \u001b[0mdata\u001b[0m \u001b[0;34m=\u001b[0m \u001b[0mself\u001b[0m\u001b[0;34m.\u001b[0m\u001b[0m_take_with_is_copy\u001b[0m\u001b[0;34m(\u001b[0m\u001b[0mindexer\u001b[0m\u001b[0;34m,\u001b[0m \u001b[0maxis\u001b[0m\u001b[0;34m=\u001b[0m\u001b[0;36m1\u001b[0m\u001b[0;34m)\u001b[0m\u001b[0;34m\u001b[0m\u001b[0;34m\u001b[0m\u001b[0m\n\u001b[0m\u001b[1;32m   3471\u001b[0m \u001b[0;34m\u001b[0m\u001b[0m\n\u001b[1;32m   3472\u001b[0m         \u001b[0;32mif\u001b[0m \u001b[0mis_single_key\u001b[0m\u001b[0;34m:\u001b[0m\u001b[0;34m\u001b[0m\u001b[0;34m\u001b[0m\u001b[0m\n",
      "\u001b[0;32m/Library/Frameworks/Python.framework/Versions/3.9/lib/python3.9/site-packages/pandas/core/generic.py\u001b[0m in \u001b[0;36m_take_with_is_copy\u001b[0;34m(self, indices, axis)\u001b[0m\n\u001b[1;32m   3626\u001b[0m         \u001b[0mSee\u001b[0m \u001b[0mthe\u001b[0m \u001b[0mdocstring\u001b[0m \u001b[0mof\u001b[0m\u001b[0;31m \u001b[0m\u001b[0;31m`\u001b[0m\u001b[0mtake\u001b[0m\u001b[0;31m`\u001b[0m \u001b[0;32mfor\u001b[0m \u001b[0mfull\u001b[0m \u001b[0mexplanation\u001b[0m \u001b[0mof\u001b[0m \u001b[0mthe\u001b[0m \u001b[0mparameters\u001b[0m\u001b[0;34m.\u001b[0m\u001b[0;34m\u001b[0m\u001b[0;34m\u001b[0m\u001b[0m\n\u001b[1;32m   3627\u001b[0m         \"\"\"\n\u001b[0;32m-> 3628\u001b[0;31m         \u001b[0mresult\u001b[0m \u001b[0;34m=\u001b[0m \u001b[0mself\u001b[0m\u001b[0;34m.\u001b[0m\u001b[0mtake\u001b[0m\u001b[0;34m(\u001b[0m\u001b[0mindices\u001b[0m\u001b[0;34m=\u001b[0m\u001b[0mindices\u001b[0m\u001b[0;34m,\u001b[0m \u001b[0maxis\u001b[0m\u001b[0;34m=\u001b[0m\u001b[0maxis\u001b[0m\u001b[0;34m)\u001b[0m\u001b[0;34m\u001b[0m\u001b[0;34m\u001b[0m\u001b[0m\n\u001b[0m\u001b[1;32m   3629\u001b[0m         \u001b[0;31m# Maybe set copy if we didn't actually change the index.\u001b[0m\u001b[0;34m\u001b[0m\u001b[0;34m\u001b[0m\u001b[0;34m\u001b[0m\u001b[0m\n\u001b[1;32m   3630\u001b[0m         \u001b[0;32mif\u001b[0m \u001b[0;32mnot\u001b[0m \u001b[0mresult\u001b[0m\u001b[0;34m.\u001b[0m\u001b[0m_get_axis\u001b[0m\u001b[0;34m(\u001b[0m\u001b[0maxis\u001b[0m\u001b[0;34m)\u001b[0m\u001b[0;34m.\u001b[0m\u001b[0mequals\u001b[0m\u001b[0;34m(\u001b[0m\u001b[0mself\u001b[0m\u001b[0;34m.\u001b[0m\u001b[0m_get_axis\u001b[0m\u001b[0;34m(\u001b[0m\u001b[0maxis\u001b[0m\u001b[0;34m)\u001b[0m\u001b[0;34m)\u001b[0m\u001b[0;34m:\u001b[0m\u001b[0;34m\u001b[0m\u001b[0;34m\u001b[0m\u001b[0m\n",
      "\u001b[0;32m/Library/Frameworks/Python.framework/Versions/3.9/lib/python3.9/site-packages/pandas/core/generic.py\u001b[0m in \u001b[0;36mtake\u001b[0;34m(self, indices, axis, is_copy, **kwargs)\u001b[0m\n\u001b[1;32m   3616\u001b[0m             \u001b[0mindices\u001b[0m\u001b[0;34m,\u001b[0m \u001b[0maxis\u001b[0m\u001b[0;34m=\u001b[0m\u001b[0mself\u001b[0m\u001b[0;34m.\u001b[0m\u001b[0m_get_block_manager_axis\u001b[0m\u001b[0;34m(\u001b[0m\u001b[0maxis\u001b[0m\u001b[0;34m)\u001b[0m\u001b[0;34m,\u001b[0m \u001b[0mverify\u001b[0m\u001b[0;34m=\u001b[0m\u001b[0;32mTrue\u001b[0m\u001b[0;34m\u001b[0m\u001b[0;34m\u001b[0m\u001b[0m\n\u001b[1;32m   3617\u001b[0m         )\n\u001b[0;32m-> 3618\u001b[0;31m         \u001b[0;32mreturn\u001b[0m \u001b[0mself\u001b[0m\u001b[0;34m.\u001b[0m\u001b[0m_constructor\u001b[0m\u001b[0;34m(\u001b[0m\u001b[0mnew_data\u001b[0m\u001b[0;34m)\u001b[0m\u001b[0;34m.\u001b[0m\u001b[0m__finalize__\u001b[0m\u001b[0;34m(\u001b[0m\u001b[0mself\u001b[0m\u001b[0;34m,\u001b[0m \u001b[0mmethod\u001b[0m\u001b[0;34m=\u001b[0m\u001b[0;34m\"take\"\u001b[0m\u001b[0;34m)\u001b[0m\u001b[0;34m\u001b[0m\u001b[0;34m\u001b[0m\u001b[0m\n\u001b[0m\u001b[1;32m   3619\u001b[0m \u001b[0;34m\u001b[0m\u001b[0m\n\u001b[1;32m   3620\u001b[0m     \u001b[0;32mdef\u001b[0m \u001b[0m_take_with_is_copy\u001b[0m\u001b[0;34m(\u001b[0m\u001b[0mself\u001b[0m\u001b[0;34m:\u001b[0m \u001b[0mFrameOrSeries\u001b[0m\u001b[0;34m,\u001b[0m \u001b[0mindices\u001b[0m\u001b[0;34m,\u001b[0m \u001b[0maxis\u001b[0m\u001b[0;34m=\u001b[0m\u001b[0;36m0\u001b[0m\u001b[0;34m)\u001b[0m \u001b[0;34m->\u001b[0m \u001b[0mFrameOrSeries\u001b[0m\u001b[0;34m:\u001b[0m\u001b[0;34m\u001b[0m\u001b[0;34m\u001b[0m\u001b[0m\n",
      "\u001b[0;32m/Library/Frameworks/Python.framework/Versions/3.9/lib/python3.9/site-packages/geopandas/geodataframe.py\u001b[0m in \u001b[0;36m__init__\u001b[0;34m(self, data, geometry, crs, *args, **kwargs)\u001b[0m\n\u001b[1;32m    155\u001b[0m             \u001b[0;32mtry\u001b[0m\u001b[0;34m:\u001b[0m\u001b[0;34m\u001b[0m\u001b[0;34m\u001b[0m\u001b[0m\n\u001b[1;32m    156\u001b[0m                 if (\n\u001b[0;32m--> 157\u001b[0;31m                     \u001b[0mhasattr\u001b[0m\u001b[0;34m(\u001b[0m\u001b[0mself\u001b[0m\u001b[0;34m[\u001b[0m\u001b[0;34m\"geometry\"\u001b[0m\u001b[0;34m]\u001b[0m\u001b[0;34m.\u001b[0m\u001b[0mvalues\u001b[0m\u001b[0;34m,\u001b[0m \u001b[0;34m\"crs\"\u001b[0m\u001b[0;34m)\u001b[0m\u001b[0;34m\u001b[0m\u001b[0;34m\u001b[0m\u001b[0m\n\u001b[0m\u001b[1;32m    158\u001b[0m                     \u001b[0;32mand\u001b[0m \u001b[0mself\u001b[0m\u001b[0;34m[\u001b[0m\u001b[0;34m\"geometry\"\u001b[0m\u001b[0;34m]\u001b[0m\u001b[0;34m.\u001b[0m\u001b[0mvalues\u001b[0m\u001b[0;34m.\u001b[0m\u001b[0mcrs\u001b[0m\u001b[0;34m\u001b[0m\u001b[0;34m\u001b[0m\u001b[0m\n\u001b[1;32m    159\u001b[0m                     \u001b[0;32mand\u001b[0m \u001b[0mcrs\u001b[0m\u001b[0;34m\u001b[0m\u001b[0;34m\u001b[0m\u001b[0m\n",
      "\u001b[0;32m/Library/Frameworks/Python.framework/Versions/3.9/lib/python3.9/site-packages/geopandas/geodataframe.py\u001b[0m in \u001b[0;36m__getitem__\u001b[0;34m(self, key)\u001b[0m\n\u001b[1;32m   1325\u001b[0m         \u001b[0mGeoDataFrame\u001b[0m\u001b[0;34m.\u001b[0m\u001b[0;34m\u001b[0m\u001b[0;34m\u001b[0m\u001b[0m\n\u001b[1;32m   1326\u001b[0m         \"\"\"\n\u001b[0;32m-> 1327\u001b[0;31m         \u001b[0mresult\u001b[0m \u001b[0;34m=\u001b[0m \u001b[0msuper\u001b[0m\u001b[0;34m(\u001b[0m\u001b[0;34m)\u001b[0m\u001b[0;34m.\u001b[0m\u001b[0m__getitem__\u001b[0m\u001b[0;34m(\u001b[0m\u001b[0mkey\u001b[0m\u001b[0;34m)\u001b[0m\u001b[0;34m\u001b[0m\u001b[0;34m\u001b[0m\u001b[0m\n\u001b[0m\u001b[1;32m   1328\u001b[0m         \u001b[0mgeo_col\u001b[0m \u001b[0;34m=\u001b[0m \u001b[0mself\u001b[0m\u001b[0;34m.\u001b[0m\u001b[0m_geometry_column_name\u001b[0m\u001b[0;34m\u001b[0m\u001b[0;34m\u001b[0m\u001b[0m\n\u001b[1;32m   1329\u001b[0m         \u001b[0;32mif\u001b[0m \u001b[0misinstance\u001b[0m\u001b[0;34m(\u001b[0m\u001b[0mresult\u001b[0m\u001b[0;34m,\u001b[0m \u001b[0mSeries\u001b[0m\u001b[0;34m)\u001b[0m \u001b[0;32mand\u001b[0m \u001b[0misinstance\u001b[0m\u001b[0;34m(\u001b[0m\u001b[0mresult\u001b[0m\u001b[0;34m.\u001b[0m\u001b[0mdtype\u001b[0m\u001b[0;34m,\u001b[0m \u001b[0mGeometryDtype\u001b[0m\u001b[0;34m)\u001b[0m\u001b[0;34m:\u001b[0m\u001b[0;34m\u001b[0m\u001b[0;34m\u001b[0m\u001b[0m\n",
      "\u001b[0;32m/Library/Frameworks/Python.framework/Versions/3.9/lib/python3.9/site-packages/pandas/core/frame.py\u001b[0m in \u001b[0;36m__getitem__\u001b[0;34m(self, key)\u001b[0m\n\u001b[1;32m   3425\u001b[0m                 \u001b[0;32mif\u001b[0m \u001b[0misinstance\u001b[0m\u001b[0;34m(\u001b[0m\u001b[0mself\u001b[0m\u001b[0;34m.\u001b[0m\u001b[0mcolumns\u001b[0m\u001b[0;34m,\u001b[0m \u001b[0mMultiIndex\u001b[0m\u001b[0;34m)\u001b[0m\u001b[0;34m:\u001b[0m\u001b[0;34m\u001b[0m\u001b[0;34m\u001b[0m\u001b[0m\n\u001b[1;32m   3426\u001b[0m                     \u001b[0;32mreturn\u001b[0m \u001b[0mself\u001b[0m\u001b[0;34m.\u001b[0m\u001b[0m_getitem_multilevel\u001b[0m\u001b[0;34m(\u001b[0m\u001b[0mkey\u001b[0m\u001b[0;34m)\u001b[0m\u001b[0;34m\u001b[0m\u001b[0;34m\u001b[0m\u001b[0m\n\u001b[0;32m-> 3427\u001b[0;31m                 \u001b[0;32mreturn\u001b[0m \u001b[0mself\u001b[0m\u001b[0;34m.\u001b[0m\u001b[0m_get_item_cache\u001b[0m\u001b[0;34m(\u001b[0m\u001b[0mkey\u001b[0m\u001b[0;34m)\u001b[0m\u001b[0;34m\u001b[0m\u001b[0;34m\u001b[0m\u001b[0m\n\u001b[0m\u001b[1;32m   3428\u001b[0m \u001b[0;34m\u001b[0m\u001b[0m\n\u001b[1;32m   3429\u001b[0m         \u001b[0;31m# Do we have a slicer (on rows)?\u001b[0m\u001b[0;34m\u001b[0m\u001b[0;34m\u001b[0m\u001b[0;34m\u001b[0m\u001b[0m\n",
      "\u001b[0;32m/Library/Frameworks/Python.framework/Versions/3.9/lib/python3.9/site-packages/pandas/core/frame.py\u001b[0m in \u001b[0;36m_get_item_cache\u001b[0;34m(self, item)\u001b[0m\n\u001b[1;32m   3882\u001b[0m             \u001b[0;31m#  pending resolution of GH#33047\u001b[0m\u001b[0;34m\u001b[0m\u001b[0;34m\u001b[0m\u001b[0;34m\u001b[0m\u001b[0m\n\u001b[1;32m   3883\u001b[0m \u001b[0;34m\u001b[0m\u001b[0m\n\u001b[0;32m-> 3884\u001b[0;31m             \u001b[0mloc\u001b[0m \u001b[0;34m=\u001b[0m \u001b[0mself\u001b[0m\u001b[0;34m.\u001b[0m\u001b[0mcolumns\u001b[0m\u001b[0;34m.\u001b[0m\u001b[0mget_loc\u001b[0m\u001b[0;34m(\u001b[0m\u001b[0mitem\u001b[0m\u001b[0;34m)\u001b[0m\u001b[0;34m\u001b[0m\u001b[0;34m\u001b[0m\u001b[0m\n\u001b[0m\u001b[1;32m   3885\u001b[0m             \u001b[0mvalues\u001b[0m \u001b[0;34m=\u001b[0m \u001b[0mself\u001b[0m\u001b[0;34m.\u001b[0m\u001b[0m_mgr\u001b[0m\u001b[0;34m.\u001b[0m\u001b[0miget\u001b[0m\u001b[0;34m(\u001b[0m\u001b[0mloc\u001b[0m\u001b[0;34m)\u001b[0m\u001b[0;34m\u001b[0m\u001b[0;34m\u001b[0m\u001b[0m\n\u001b[1;32m   3886\u001b[0m             \u001b[0mres\u001b[0m \u001b[0;34m=\u001b[0m \u001b[0mself\u001b[0m\u001b[0;34m.\u001b[0m\u001b[0m_box_col_values\u001b[0m\u001b[0;34m(\u001b[0m\u001b[0mvalues\u001b[0m\u001b[0;34m,\u001b[0m \u001b[0mloc\u001b[0m\u001b[0;34m)\u001b[0m\u001b[0;34m.\u001b[0m\u001b[0m__finalize__\u001b[0m\u001b[0;34m(\u001b[0m\u001b[0mself\u001b[0m\u001b[0;34m)\u001b[0m\u001b[0;34m\u001b[0m\u001b[0;34m\u001b[0m\u001b[0m\n",
      "\u001b[0;32m/Library/Frameworks/Python.framework/Versions/3.9/lib/python3.9/site-packages/pandas/core/indexes/base.py\u001b[0m in \u001b[0;36mget_loc\u001b[0;34m(self, key, method, tolerance)\u001b[0m\n\u001b[1;32m   3357\u001b[0m                     \u001b[0;34m\"backfill or nearest lookups\"\u001b[0m\u001b[0;34m\u001b[0m\u001b[0;34m\u001b[0m\u001b[0m\n\u001b[1;32m   3358\u001b[0m                 )\n\u001b[0;32m-> 3359\u001b[0;31m             \u001b[0mcasted_key\u001b[0m \u001b[0;34m=\u001b[0m \u001b[0mself\u001b[0m\u001b[0;34m.\u001b[0m\u001b[0m_maybe_cast_indexer\u001b[0m\u001b[0;34m(\u001b[0m\u001b[0mkey\u001b[0m\u001b[0;34m)\u001b[0m\u001b[0;34m\u001b[0m\u001b[0;34m\u001b[0m\u001b[0m\n\u001b[0m\u001b[1;32m   3360\u001b[0m             \u001b[0;32mtry\u001b[0m\u001b[0;34m:\u001b[0m\u001b[0;34m\u001b[0m\u001b[0;34m\u001b[0m\u001b[0m\n\u001b[1;32m   3361\u001b[0m                 \u001b[0;32mreturn\u001b[0m \u001b[0mself\u001b[0m\u001b[0;34m.\u001b[0m\u001b[0m_engine\u001b[0m\u001b[0;34m.\u001b[0m\u001b[0mget_loc\u001b[0m\u001b[0;34m(\u001b[0m\u001b[0mcasted_key\u001b[0m\u001b[0;34m)\u001b[0m\u001b[0;34m\u001b[0m\u001b[0;34m\u001b[0m\u001b[0m\n",
      "\u001b[0;32m/Library/Frameworks/Python.framework/Versions/3.9/lib/python3.9/site-packages/pandas/core/indexes/base.py\u001b[0m in \u001b[0;36m_maybe_cast_indexer\u001b[0;34m(self, key)\u001b[0m\n\u001b[1;32m   5698\u001b[0m         \u001b[0mto\u001b[0m \u001b[0man\u001b[0m \u001b[0mint\u001b[0m \u001b[0;32mif\u001b[0m \u001b[0mequivalent\u001b[0m\u001b[0;34m.\u001b[0m\u001b[0;34m\u001b[0m\u001b[0;34m\u001b[0m\u001b[0m\n\u001b[1;32m   5699\u001b[0m         \"\"\"\n\u001b[0;32m-> 5700\u001b[0;31m         \u001b[0;32mif\u001b[0m \u001b[0;32mnot\u001b[0m \u001b[0mself\u001b[0m\u001b[0;34m.\u001b[0m\u001b[0mis_floating\u001b[0m\u001b[0;34m(\u001b[0m\u001b[0;34m)\u001b[0m\u001b[0;34m:\u001b[0m\u001b[0;34m\u001b[0m\u001b[0;34m\u001b[0m\u001b[0m\n\u001b[0m\u001b[1;32m   5701\u001b[0m             \u001b[0;32mreturn\u001b[0m \u001b[0mcom\u001b[0m\u001b[0;34m.\u001b[0m\u001b[0mcast_scalar_indexer\u001b[0m\u001b[0;34m(\u001b[0m\u001b[0mkey\u001b[0m\u001b[0;34m)\u001b[0m\u001b[0;34m\u001b[0m\u001b[0;34m\u001b[0m\u001b[0m\n\u001b[1;32m   5702\u001b[0m         \u001b[0;32mreturn\u001b[0m \u001b[0mkey\u001b[0m\u001b[0;34m\u001b[0m\u001b[0;34m\u001b[0m\u001b[0m\n",
      "\u001b[0;32m/Library/Frameworks/Python.framework/Versions/3.9/lib/python3.9/site-packages/pandas/core/indexes/base.py\u001b[0m in \u001b[0;36mis_floating\u001b[0;34m(self)\u001b[0m\n\u001b[1;32m   2170\u001b[0m         \u001b[0;32mFalse\u001b[0m\u001b[0;34m\u001b[0m\u001b[0;34m\u001b[0m\u001b[0m\n\u001b[1;32m   2171\u001b[0m         \"\"\"\n\u001b[0;32m-> 2172\u001b[0;31m         \u001b[0;32mreturn\u001b[0m \u001b[0mself\u001b[0m\u001b[0;34m.\u001b[0m\u001b[0minferred_type\u001b[0m \u001b[0;32min\u001b[0m \u001b[0;34m[\u001b[0m\u001b[0;34m\"floating\"\u001b[0m\u001b[0;34m,\u001b[0m \u001b[0;34m\"mixed-integer-float\"\u001b[0m\u001b[0;34m,\u001b[0m \u001b[0;34m\"integer-na\"\u001b[0m\u001b[0;34m]\u001b[0m\u001b[0;34m\u001b[0m\u001b[0;34m\u001b[0m\u001b[0m\n\u001b[0m\u001b[1;32m   2173\u001b[0m \u001b[0;34m\u001b[0m\u001b[0m\n\u001b[1;32m   2174\u001b[0m     \u001b[0;34m@\u001b[0m\u001b[0mfinal\u001b[0m\u001b[0;34m\u001b[0m\u001b[0;34m\u001b[0m\u001b[0m\n",
      "\u001b[0;32m/Library/Frameworks/Python.framework/Versions/3.9/lib/python3.9/site-packages/pandas/_libs/properties.pyx\u001b[0m in \u001b[0;36mpandas._libs.properties.CachedProperty.__get__\u001b[0;34m()\u001b[0m\n",
      "\u001b[0;32m/Library/Frameworks/Python.framework/Versions/3.9/lib/python3.9/site-packages/pandas/core/indexes/base.py\u001b[0m in \u001b[0;36minferred_type\u001b[0;34m(self)\u001b[0m\n\u001b[1;32m   2385\u001b[0m         \u001b[0mReturn\u001b[0m \u001b[0ma\u001b[0m \u001b[0mstring\u001b[0m \u001b[0mof\u001b[0m \u001b[0mthe\u001b[0m \u001b[0mtype\u001b[0m \u001b[0minferred\u001b[0m \u001b[0;32mfrom\u001b[0m \u001b[0mthe\u001b[0m \u001b[0mvalues\u001b[0m\u001b[0;34m.\u001b[0m\u001b[0;34m\u001b[0m\u001b[0;34m\u001b[0m\u001b[0m\n\u001b[1;32m   2386\u001b[0m         \"\"\"\n\u001b[0;32m-> 2387\u001b[0;31m         \u001b[0;32mreturn\u001b[0m \u001b[0mlib\u001b[0m\u001b[0;34m.\u001b[0m\u001b[0minfer_dtype\u001b[0m\u001b[0;34m(\u001b[0m\u001b[0mself\u001b[0m\u001b[0;34m.\u001b[0m\u001b[0m_values\u001b[0m\u001b[0;34m,\u001b[0m \u001b[0mskipna\u001b[0m\u001b[0;34m=\u001b[0m\u001b[0;32mFalse\u001b[0m\u001b[0;34m)\u001b[0m\u001b[0;34m\u001b[0m\u001b[0;34m\u001b[0m\u001b[0m\n\u001b[0m\u001b[1;32m   2388\u001b[0m \u001b[0;34m\u001b[0m\u001b[0m\n\u001b[1;32m   2389\u001b[0m     \u001b[0;34m@\u001b[0m\u001b[0mcache_readonly\u001b[0m\u001b[0;34m\u001b[0m\u001b[0;34m\u001b[0m\u001b[0m\n",
      "\u001b[0;32m/Library/Frameworks/Python.framework/Versions/3.9/lib/python3.9/site-packages/pandas/_libs/lib.pyx\u001b[0m in \u001b[0;36mpandas._libs.lib.infer_dtype\u001b[0;34m()\u001b[0m\n",
      "\u001b[0;32m/Library/Frameworks/Python.framework/Versions/3.9/lib/python3.9/site-packages/pandas/_libs/lib.pyx\u001b[0m in \u001b[0;36mpandas._libs.lib._try_infer_map\u001b[0;34m()\u001b[0m\n",
      "\u001b[0;32m/Library/Frameworks/Python.framework/Versions/3.9/lib/python3.9/site-packages/numpy/core/_dtype.py\u001b[0m in \u001b[0;36m_name_get\u001b[0;34m(dtype)\u001b[0m\n\u001b[1;32m    319\u001b[0m \u001b[0;34m\u001b[0m\u001b[0m\n\u001b[1;32m    320\u001b[0m \u001b[0;34m\u001b[0m\u001b[0m\n\u001b[0;32m--> 321\u001b[0;31m \u001b[0;32mdef\u001b[0m \u001b[0m_name_get\u001b[0m\u001b[0;34m(\u001b[0m\u001b[0mdtype\u001b[0m\u001b[0;34m)\u001b[0m\u001b[0;34m:\u001b[0m\u001b[0;34m\u001b[0m\u001b[0;34m\u001b[0m\u001b[0m\n\u001b[0m\u001b[1;32m    322\u001b[0m     \u001b[0;31m# provides dtype.name.__get__, documented as returning a \"bit name\"\u001b[0m\u001b[0;34m\u001b[0m\u001b[0;34m\u001b[0m\u001b[0;34m\u001b[0m\u001b[0m\n\u001b[1;32m    323\u001b[0m \u001b[0;34m\u001b[0m\u001b[0m\n",
      "\u001b[0;31mKeyboardInterrupt\u001b[0m: "
     ]
    }
   ],
   "source": [
    "l1, l2 = assign_zip_code_df(df_taxi)"
   ]
  },
  {
   "cell_type": "code",
   "execution_count": null,
   "metadata": {},
   "outputs": [],
   "source": []
  },
  {
   "cell_type": "code",
   "execution_count": 108,
   "metadata": {},
   "outputs": [
    {
     "data": {
      "text/html": [
       "<div>\n",
       "<style scoped>\n",
       "    .dataframe tbody tr th:only-of-type {\n",
       "        vertical-align: middle;\n",
       "    }\n",
       "\n",
       "    .dataframe tbody tr th {\n",
       "        vertical-align: top;\n",
       "    }\n",
       "\n",
       "    .dataframe thead th {\n",
       "        text-align: right;\n",
       "    }\n",
       "</style>\n",
       "<table border=\"1\" class=\"dataframe\">\n",
       "  <thead>\n",
       "    <tr style=\"text-align: right;\">\n",
       "      <th></th>\n",
       "      <th>pickup_datetime</th>\n",
       "      <th>pickup_longitude</th>\n",
       "      <th>pickup_latitude</th>\n",
       "      <th>dropoff_datetime</th>\n",
       "      <th>dropoff_longitude</th>\n",
       "      <th>dropoff_latitude</th>\n",
       "      <th>pickup_x_y_coords</th>\n",
       "      <th>dropoff_x_y_coords</th>\n",
       "    </tr>\n",
       "  </thead>\n",
       "  <tbody>\n",
       "    <tr>\n",
       "      <th>0</th>\n",
       "      <td>2012-07-01 03:32:51</td>\n",
       "      <td>-73.966130</td>\n",
       "      <td>40.761309</td>\n",
       "      <td>2012-07-01 03:44:22</td>\n",
       "      <td>-73.986274</td>\n",
       "      <td>40.722112</td>\n",
       "      <td>(993632.8647532096, 216643.93698775012)</td>\n",
       "      <td>(988054.6942861767, 202361.70784783058)</td>\n",
       "    </tr>\n",
       "    <tr>\n",
       "      <th>1</th>\n",
       "      <td>2012-07-01 00:00:00</td>\n",
       "      <td>-73.866037</td>\n",
       "      <td>40.834670</td>\n",
       "      <td>2012-07-01 00:05:00</td>\n",
       "      <td>-73.866392</td>\n",
       "      <td>40.832757</td>\n",
       "      <td>(1021320.3220530733, 243398.43977192868)</td>\n",
       "      <td>(1021223.1493813082, 242701.31390845554)</td>\n",
       "    </tr>\n",
       "    <tr>\n",
       "      <th>2</th>\n",
       "      <td>2012-07-01 03:33:00</td>\n",
       "      <td>-73.981165</td>\n",
       "      <td>40.767080</td>\n",
       "      <td>2012-07-01 03:54:00</td>\n",
       "      <td>-73.840485</td>\n",
       "      <td>40.699652</td>\n",
       "      <td>(989467.3294474155, 218745.24948518354)</td>\n",
       "      <td>(1028480.6576917275, 194218.8243317324)</td>\n",
       "    </tr>\n",
       "    <tr>\n",
       "      <th>3</th>\n",
       "      <td>2012-07-01 03:32:40</td>\n",
       "      <td>-73.950839</td>\n",
       "      <td>40.785787</td>\n",
       "      <td>2012-07-01 03:56:31</td>\n",
       "      <td>-73.850864</td>\n",
       "      <td>40.875776</td>\n",
       "      <td>(997863.8612807143, 225564.09807745807)</td>\n",
       "      <td>(1025493.5021441872, 258381.69442031797)</td>\n",
       "    </tr>\n",
       "    <tr>\n",
       "      <th>4</th>\n",
       "      <td>2012-07-01 03:33:15</td>\n",
       "      <td>-73.991608</td>\n",
       "      <td>40.764888</td>\n",
       "      <td>2012-07-01 03:56:08</td>\n",
       "      <td>-73.830373</td>\n",
       "      <td>40.847396</td>\n",
       "      <td>(986574.675871825, 217946.1818522205)</td>\n",
       "      <td>(1031180.2961538866, 248052.09092505643)</td>\n",
       "    </tr>\n",
       "    <tr>\n",
       "      <th>5</th>\n",
       "      <td>2012-07-01 03:33:00</td>\n",
       "      <td>-73.969915</td>\n",
       "      <td>40.797525</td>\n",
       "      <td>2012-07-01 03:34:00</td>\n",
       "      <td>-73.968187</td>\n",
       "      <td>40.800715</td>\n",
       "      <td>(992579.7903589916, 229838.26656730482)</td>\n",
       "      <td>(993057.8085915954, 231000.66391055068)</td>\n",
       "    </tr>\n",
       "    <tr>\n",
       "      <th>6</th>\n",
       "      <td>2012-07-01 03:34:00</td>\n",
       "      <td>-74.003912</td>\n",
       "      <td>40.742082</td>\n",
       "      <td>2012-07-01 03:36:00</td>\n",
       "      <td>-73.996915</td>\n",
       "      <td>40.739155</td>\n",
       "      <td>(983165.9621022862, 209637.12999328435)</td>\n",
       "      <td>(985104.908955954, 208570.7218703883)</td>\n",
       "    </tr>\n",
       "    <tr>\n",
       "      <th>8</th>\n",
       "      <td>2012-07-01 03:33:00</td>\n",
       "      <td>-73.997570</td>\n",
       "      <td>40.720637</td>\n",
       "      <td>2012-07-01 03:45:00</td>\n",
       "      <td>-74.004312</td>\n",
       "      <td>40.742327</td>\n",
       "      <td>(984923.5838388423, 201824.03122715623)</td>\n",
       "      <td>(983055.1241754547, 209726.39648990502)</td>\n",
       "    </tr>\n",
       "    <tr>\n",
       "      <th>9</th>\n",
       "      <td>2012-07-01 00:00:00</td>\n",
       "      <td>-73.996542</td>\n",
       "      <td>40.760025</td>\n",
       "      <td>2012-07-01 00:03:00</td>\n",
       "      <td>-73.989002</td>\n",
       "      <td>40.768525</td>\n",
       "      <td>(985207.9737997081, 216174.33863792234)</td>\n",
       "      <td>(987296.4000315237, 219271.34123561982)</td>\n",
       "    </tr>\n",
       "    <tr>\n",
       "      <th>10</th>\n",
       "      <td>2012-07-01 03:33:00</td>\n",
       "      <td>-73.950293</td>\n",
       "      <td>40.776340</td>\n",
       "      <td>2012-07-01 03:42:00</td>\n",
       "      <td>-73.976730</td>\n",
       "      <td>40.788518</td>\n",
       "      <td>(998017.0148570617, 222122.32167877074)</td>\n",
       "      <td>(990693.75766849, 226556.13059187777)</td>\n",
       "    </tr>\n",
       "  </tbody>\n",
       "</table>\n",
       "</div>"
      ],
      "text/plain": [
       "        pickup_datetime  pickup_longitude  pickup_latitude  \\\n",
       "0   2012-07-01 03:32:51        -73.966130        40.761309   \n",
       "1   2012-07-01 00:00:00        -73.866037        40.834670   \n",
       "2   2012-07-01 03:33:00        -73.981165        40.767080   \n",
       "3   2012-07-01 03:32:40        -73.950839        40.785787   \n",
       "4   2012-07-01 03:33:15        -73.991608        40.764888   \n",
       "5   2012-07-01 03:33:00        -73.969915        40.797525   \n",
       "6   2012-07-01 03:34:00        -74.003912        40.742082   \n",
       "8   2012-07-01 03:33:00        -73.997570        40.720637   \n",
       "9   2012-07-01 00:00:00        -73.996542        40.760025   \n",
       "10  2012-07-01 03:33:00        -73.950293        40.776340   \n",
       "\n",
       "       dropoff_datetime  dropoff_longitude  dropoff_latitude  \\\n",
       "0   2012-07-01 03:44:22         -73.986274         40.722112   \n",
       "1   2012-07-01 00:05:00         -73.866392         40.832757   \n",
       "2   2012-07-01 03:54:00         -73.840485         40.699652   \n",
       "3   2012-07-01 03:56:31         -73.850864         40.875776   \n",
       "4   2012-07-01 03:56:08         -73.830373         40.847396   \n",
       "5   2012-07-01 03:34:00         -73.968187         40.800715   \n",
       "6   2012-07-01 03:36:00         -73.996915         40.739155   \n",
       "8   2012-07-01 03:45:00         -74.004312         40.742327   \n",
       "9   2012-07-01 00:03:00         -73.989002         40.768525   \n",
       "10  2012-07-01 03:42:00         -73.976730         40.788518   \n",
       "\n",
       "                           pickup_x_y_coords  \\\n",
       "0    (993632.8647532096, 216643.93698775012)   \n",
       "1   (1021320.3220530733, 243398.43977192868)   \n",
       "2    (989467.3294474155, 218745.24948518354)   \n",
       "3    (997863.8612807143, 225564.09807745807)   \n",
       "4      (986574.675871825, 217946.1818522205)   \n",
       "5    (992579.7903589916, 229838.26656730482)   \n",
       "6    (983165.9621022862, 209637.12999328435)   \n",
       "8    (984923.5838388423, 201824.03122715623)   \n",
       "9    (985207.9737997081, 216174.33863792234)   \n",
       "10   (998017.0148570617, 222122.32167877074)   \n",
       "\n",
       "                          dropoff_x_y_coords  \n",
       "0    (988054.6942861767, 202361.70784783058)  \n",
       "1   (1021223.1493813082, 242701.31390845554)  \n",
       "2    (1028480.6576917275, 194218.8243317324)  \n",
       "3   (1025493.5021441872, 258381.69442031797)  \n",
       "4   (1031180.2961538866, 248052.09092505643)  \n",
       "5    (993057.8085915954, 231000.66391055068)  \n",
       "6      (985104.908955954, 208570.7218703883)  \n",
       "8    (983055.1241754547, 209726.39648990502)  \n",
       "9    (987296.4000315237, 219271.34123561982)  \n",
       "10     (990693.75766849, 226556.13059187777)  "
      ]
     },
     "execution_count": 108,
     "metadata": {},
     "output_type": "execute_result"
    }
   ],
   "source": [
    "df_taxi.head(10)"
   ]
  },
  {
   "cell_type": "code",
   "execution_count": 20,
   "metadata": {},
   "outputs": [
    {
     "data": {
      "text/html": [
       "<div>\n",
       "<style scoped>\n",
       "    .dataframe tbody tr th:only-of-type {\n",
       "        vertical-align: middle;\n",
       "    }\n",
       "\n",
       "    .dataframe tbody tr th {\n",
       "        vertical-align: top;\n",
       "    }\n",
       "\n",
       "    .dataframe thead th {\n",
       "        text-align: right;\n",
       "    }\n",
       "</style>\n",
       "<table border=\"1\" class=\"dataframe\">\n",
       "  <thead>\n",
       "    <tr style=\"text-align: right;\">\n",
       "      <th></th>\n",
       "      <th>vendor_id</th>\n",
       "      <th>pickup_datetime</th>\n",
       "      <th>dropoff_datetime</th>\n",
       "      <th>passenger_count</th>\n",
       "      <th>trip_distance</th>\n",
       "      <th>pickup_longitude</th>\n",
       "      <th>pickup_latitude</th>\n",
       "      <th>rate_code</th>\n",
       "      <th>store_and_fwd_flag</th>\n",
       "      <th>dropoff_longitude</th>\n",
       "      <th>dropoff_latitude</th>\n",
       "      <th>payment_type</th>\n",
       "      <th>fare_amount</th>\n",
       "      <th>surcharge</th>\n",
       "      <th>mta_tax</th>\n",
       "      <th>tip_amount</th>\n",
       "      <th>tolls_amount</th>\n",
       "      <th>total_amount</th>\n",
       "    </tr>\n",
       "  </thead>\n",
       "  <tbody>\n",
       "    <tr>\n",
       "      <th>14379302</th>\n",
       "      <td>VTS</td>\n",
       "      <td>2012-07-28 19:35:00</td>\n",
       "      <td>2012-07-28 19:49:00</td>\n",
       "      <td>3</td>\n",
       "      <td>1.75</td>\n",
       "      <td>-73.989152</td>\n",
       "      <td>40.742678</td>\n",
       "      <td>1</td>\n",
       "      <td>NaN</td>\n",
       "      <td>-73.986675</td>\n",
       "      <td>40.761750</td>\n",
       "      <td>CRD</td>\n",
       "      <td>8.5</td>\n",
       "      <td>0.0</td>\n",
       "      <td>0.5</td>\n",
       "      <td>1.7</td>\n",
       "      <td>0.0</td>\n",
       "      <td>10.7</td>\n",
       "    </tr>\n",
       "    <tr>\n",
       "      <th>14379303</th>\n",
       "      <td>VTS</td>\n",
       "      <td>2012-07-28 04:23:00</td>\n",
       "      <td>2012-07-28 04:31:00</td>\n",
       "      <td>5</td>\n",
       "      <td>2.43</td>\n",
       "      <td>-73.855890</td>\n",
       "      <td>40.751350</td>\n",
       "      <td>1</td>\n",
       "      <td>NaN</td>\n",
       "      <td>-73.869515</td>\n",
       "      <td>40.773292</td>\n",
       "      <td>CSH</td>\n",
       "      <td>7.7</td>\n",
       "      <td>0.5</td>\n",
       "      <td>0.5</td>\n",
       "      <td>0.0</td>\n",
       "      <td>0.0</td>\n",
       "      <td>8.7</td>\n",
       "    </tr>\n",
       "    <tr>\n",
       "      <th>14379304</th>\n",
       "      <td>CMT</td>\n",
       "      <td>2012-07-28 13:26:38</td>\n",
       "      <td>2012-07-28 13:39:38</td>\n",
       "      <td>2</td>\n",
       "      <td>1.50</td>\n",
       "      <td>-73.981764</td>\n",
       "      <td>40.765116</td>\n",
       "      <td>1</td>\n",
       "      <td>N</td>\n",
       "      <td>-73.984835</td>\n",
       "      <td>40.747975</td>\n",
       "      <td>CSH</td>\n",
       "      <td>8.5</td>\n",
       "      <td>0.0</td>\n",
       "      <td>0.5</td>\n",
       "      <td>0.0</td>\n",
       "      <td>0.0</td>\n",
       "      <td>9.0</td>\n",
       "    </tr>\n",
       "    <tr>\n",
       "      <th>14379305</th>\n",
       "      <td>CMT</td>\n",
       "      <td>2012-07-28 13:27:19</td>\n",
       "      <td>2012-07-28 13:29:07</td>\n",
       "      <td>1</td>\n",
       "      <td>0.40</td>\n",
       "      <td>-73.988704</td>\n",
       "      <td>40.767389</td>\n",
       "      <td>1</td>\n",
       "      <td>N</td>\n",
       "      <td>-73.994511</td>\n",
       "      <td>40.766237</td>\n",
       "      <td>CSH</td>\n",
       "      <td>3.3</td>\n",
       "      <td>0.0</td>\n",
       "      <td>0.5</td>\n",
       "      <td>0.0</td>\n",
       "      <td>0.0</td>\n",
       "      <td>3.8</td>\n",
       "    </tr>\n",
       "    <tr>\n",
       "      <th>14379306</th>\n",
       "      <td>CMT</td>\n",
       "      <td>2012-07-28 18:23:03</td>\n",
       "      <td>2012-07-28 18:41:13</td>\n",
       "      <td>1</td>\n",
       "      <td>1.90</td>\n",
       "      <td>-73.963550</td>\n",
       "      <td>40.771552</td>\n",
       "      <td>1</td>\n",
       "      <td>N</td>\n",
       "      <td>-73.988742</td>\n",
       "      <td>40.770938</td>\n",
       "      <td>CSH</td>\n",
       "      <td>10.9</td>\n",
       "      <td>0.0</td>\n",
       "      <td>0.5</td>\n",
       "      <td>0.0</td>\n",
       "      <td>0.0</td>\n",
       "      <td>11.4</td>\n",
       "    </tr>\n",
       "  </tbody>\n",
       "</table>\n",
       "</div>"
      ],
      "text/plain": [
       "         vendor_id      pickup_datetime     dropoff_datetime  passenger_count  \\\n",
       "14379302       VTS  2012-07-28 19:35:00  2012-07-28 19:49:00                3   \n",
       "14379303       VTS  2012-07-28 04:23:00  2012-07-28 04:31:00                5   \n",
       "14379304       CMT  2012-07-28 13:26:38  2012-07-28 13:39:38                2   \n",
       "14379305       CMT  2012-07-28 13:27:19  2012-07-28 13:29:07                1   \n",
       "14379306       CMT  2012-07-28 18:23:03  2012-07-28 18:41:13                1   \n",
       "\n",
       "          trip_distance  pickup_longitude  pickup_latitude  rate_code  \\\n",
       "14379302           1.75        -73.989152        40.742678          1   \n",
       "14379303           2.43        -73.855890        40.751350          1   \n",
       "14379304           1.50        -73.981764        40.765116          1   \n",
       "14379305           0.40        -73.988704        40.767389          1   \n",
       "14379306           1.90        -73.963550        40.771552          1   \n",
       "\n",
       "         store_and_fwd_flag  dropoff_longitude  dropoff_latitude payment_type  \\\n",
       "14379302                NaN         -73.986675         40.761750          CRD   \n",
       "14379303                NaN         -73.869515         40.773292          CSH   \n",
       "14379304                  N         -73.984835         40.747975          CSH   \n",
       "14379305                  N         -73.994511         40.766237          CSH   \n",
       "14379306                  N         -73.988742         40.770938          CSH   \n",
       "\n",
       "          fare_amount  surcharge  mta_tax  tip_amount  tolls_amount  \\\n",
       "14379302          8.5        0.0      0.5         1.7           0.0   \n",
       "14379303          7.7        0.5      0.5         0.0           0.0   \n",
       "14379304          8.5        0.0      0.5         0.0           0.0   \n",
       "14379305          3.3        0.0      0.5         0.0           0.0   \n",
       "14379306         10.9        0.0      0.5         0.0           0.0   \n",
       "\n",
       "          total_amount  \n",
       "14379302          10.7  \n",
       "14379303           8.7  \n",
       "14379304           9.0  \n",
       "14379305           3.8  \n",
       "14379306          11.4  "
      ]
     },
     "execution_count": 20,
     "metadata": {},
     "output_type": "execute_result"
    }
   ],
   "source": [
    "df_taxi['pickup_datetime']"
   ]
  },
  {
   "cell_type": "code",
   "execution_count": 23,
   "metadata": {},
   "outputs": [
    {
     "ename": "IndentationError",
     "evalue": "expected an indented block (770424268.py, line 2)",
     "output_type": "error",
     "traceback": [
      "\u001b[0;36m  File \u001b[0;32m\"/var/folders/w5/5wf6r0p14r38dgytvnyprf9r0000gn/T/ipykernel_15410/770424268.py\"\u001b[0;36m, line \u001b[0;32m2\u001b[0m\n\u001b[0;31m    \u001b[0m\n\u001b[0m    ^\u001b[0m\n\u001b[0;31mIndentationError\u001b[0m\u001b[0;31m:\u001b[0m expected an indented block\n"
     ]
    }
   ],
   "source": [
    "def assign_zip(coords):\n",
    "    for zip in zip_codes:\n",
    "        "
   ]
  },
  {
   "cell_type": "code",
   "execution_count": 21,
   "metadata": {},
   "outputs": [
    {
     "name": "stdout",
     "output_type": "stream",
     "text": [
      "-73.96613 40.761309\n",
      "-73.866037 40.83467\n",
      "-73.981165 40.76708\n",
      "-73.950839 40.785787\n",
      "-73.991608 40.764888\n",
      "-73.969915 40.797525\n",
      "-74.003912 40.742082\n",
      "0.0 0.0\n",
      "-73.99756999999998 40.720637\n",
      "-73.996542 40.760025\n"
     ]
    }
   ],
   "source": [
    "# pickup\n",
    "for longitude, latitude, _ in zip(df_taxi['pickup_longitude'].values, df_taxi['pickup_latitude'].values, range(10)):\n",
    "    print(longitude, latitude)\n",
    "    assign_zipcode(coords=(longitude, latitude))"
   ]
  },
  {
   "cell_type": "code",
   "execution_count": null,
   "metadata": {},
   "outputs": [],
   "source": []
  }
 ],
 "metadata": {
  "interpreter": {
   "hash": "aee8b7b246df8f9039afb4144a1f6fd8d2ca17a180786b69acc140d282b71a49"
  },
  "kernelspec": {
   "display_name": "Python 3.9.4 64-bit",
   "language": "python",
   "name": "python3"
  },
  "language_info": {
   "codemirror_mode": {
    "name": "ipython",
    "version": 3
   },
   "file_extension": ".py",
   "mimetype": "text/x-python",
   "name": "python",
   "nbconvert_exporter": "python",
   "pygments_lexer": "ipython3",
   "version": "3.9.4"
  },
  "orig_nbformat": 4
 },
 "nbformat": 4,
 "nbformat_minor": 2
}
