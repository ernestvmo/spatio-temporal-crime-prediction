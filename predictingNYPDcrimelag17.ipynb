{
 "cells": [
  {
   "cell_type": "markdown",
   "metadata": {},
   "source": [
    "# Testing Gradient Boosting on lag 1 and lag 7 data"
   ]
  },
  {
   "cell_type": "code",
   "execution_count": 1,
   "metadata": {},
   "outputs": [],
   "source": [
    "from sklearn.ensemble import GradientBoostingRegressor\n",
    "from sklearn.model_selection import train_test_split"
   ]
  },
  {
   "cell_type": "code",
   "execution_count": 2,
   "metadata": {},
   "outputs": [],
   "source": [
    "import pandas as pd\n",
    "import numpy as np"
   ]
  },
  {
   "cell_type": "code",
   "execution_count": 116,
   "metadata": {},
   "outputs": [
    {
     "data": {
      "text/html": [
       "<div>\n",
       "<style scoped>\n",
       "    .dataframe tbody tr th:only-of-type {\n",
       "        vertical-align: middle;\n",
       "    }\n",
       "\n",
       "    .dataframe tbody tr th {\n",
       "        vertical-align: top;\n",
       "    }\n",
       "\n",
       "    .dataframe thead th {\n",
       "        text-align: right;\n",
       "    }\n",
       "</style>\n",
       "<table border=\"1\" class=\"dataframe\">\n",
       "  <thead>\n",
       "    <tr style=\"text-align: right;\">\n",
       "      <th></th>\n",
       "      <th>datestop</th>\n",
       "      <th>x</th>\n",
       "      <th>y</th>\n",
       "      <th>SAF_COUNT</th>\n",
       "      <th>311_complaints_COUNT</th>\n",
       "      <th>passenger_count_pickup</th>\n",
       "      <th>total_amount_pickup</th>\n",
       "      <th>passenger_count_dropoff</th>\n",
       "      <th>total_amount_dropoff</th>\n",
       "      <th>NN_SAF</th>\n",
       "      <th>...</th>\n",
       "      <th>NS_TAXI_P_FARE</th>\n",
       "      <th>NS_TAXI_D_FARE</th>\n",
       "      <th>SAF_lag</th>\n",
       "      <th>311_lag</th>\n",
       "      <th>NYPD_lag</th>\n",
       "      <th>TAXI_P_PASSENGER_lag</th>\n",
       "      <th>TAXI_D_PASSENGER_lag</th>\n",
       "      <th>TAXI_P_FARE_lag</th>\n",
       "      <th>TAXI_D_FARE_lag</th>\n",
       "      <th>nypd_complaints_COUNT</th>\n",
       "    </tr>\n",
       "  </thead>\n",
       "  <tbody>\n",
       "    <tr>\n",
       "      <th>0</th>\n",
       "      <td>1372543200</td>\n",
       "      <td>22</td>\n",
       "      <td>14</td>\n",
       "      <td>0.0</td>\n",
       "      <td>0.0</td>\n",
       "      <td>16.0</td>\n",
       "      <td>312.93</td>\n",
       "      <td>26.0</td>\n",
       "      <td>579.03</td>\n",
       "      <td>0.0</td>\n",
       "      <td>...</td>\n",
       "      <td>0.0</td>\n",
       "      <td>0.0</td>\n",
       "      <td>0.0</td>\n",
       "      <td>0.0</td>\n",
       "      <td>0.0</td>\n",
       "      <td>0.0</td>\n",
       "      <td>0.0</td>\n",
       "      <td>0.00</td>\n",
       "      <td>0.00</td>\n",
       "      <td>1</td>\n",
       "    </tr>\n",
       "    <tr>\n",
       "      <th>1</th>\n",
       "      <td>1372543200</td>\n",
       "      <td>12</td>\n",
       "      <td>7</td>\n",
       "      <td>0.0</td>\n",
       "      <td>0.0</td>\n",
       "      <td>52105.0</td>\n",
       "      <td>374601.91</td>\n",
       "      <td>54970.0</td>\n",
       "      <td>382690.74</td>\n",
       "      <td>0.0</td>\n",
       "      <td>...</td>\n",
       "      <td>0.0</td>\n",
       "      <td>0.0</td>\n",
       "      <td>3.0</td>\n",
       "      <td>26.0</td>\n",
       "      <td>21.0</td>\n",
       "      <td>64307.0</td>\n",
       "      <td>61028.0</td>\n",
       "      <td>459089.86</td>\n",
       "      <td>408074.78</td>\n",
       "      <td>9</td>\n",
       "    </tr>\n",
       "    <tr>\n",
       "      <th>2</th>\n",
       "      <td>1372543200</td>\n",
       "      <td>12</td>\n",
       "      <td>15</td>\n",
       "      <td>2.0</td>\n",
       "      <td>12.0</td>\n",
       "      <td>66.0</td>\n",
       "      <td>809.62</td>\n",
       "      <td>461.0</td>\n",
       "      <td>9323.87</td>\n",
       "      <td>0.0</td>\n",
       "      <td>...</td>\n",
       "      <td>0.0</td>\n",
       "      <td>0.0</td>\n",
       "      <td>3.0</td>\n",
       "      <td>25.0</td>\n",
       "      <td>11.0</td>\n",
       "      <td>57.0</td>\n",
       "      <td>390.0</td>\n",
       "      <td>660.83</td>\n",
       "      <td>8008.99</td>\n",
       "      <td>7</td>\n",
       "    </tr>\n",
       "    <tr>\n",
       "      <th>3</th>\n",
       "      <td>1372543200</td>\n",
       "      <td>12</td>\n",
       "      <td>14</td>\n",
       "      <td>9.0</td>\n",
       "      <td>10.0</td>\n",
       "      <td>86.0</td>\n",
       "      <td>757.78</td>\n",
       "      <td>923.0</td>\n",
       "      <td>15469.21</td>\n",
       "      <td>0.0</td>\n",
       "      <td>...</td>\n",
       "      <td>0.0</td>\n",
       "      <td>0.0</td>\n",
       "      <td>11.0</td>\n",
       "      <td>56.0</td>\n",
       "      <td>23.0</td>\n",
       "      <td>116.0</td>\n",
       "      <td>896.0</td>\n",
       "      <td>1312.94</td>\n",
       "      <td>15219.87</td>\n",
       "      <td>15</td>\n",
       "    </tr>\n",
       "    <tr>\n",
       "      <th>4</th>\n",
       "      <td>1372543200</td>\n",
       "      <td>12</td>\n",
       "      <td>13</td>\n",
       "      <td>9.0</td>\n",
       "      <td>30.0</td>\n",
       "      <td>585.0</td>\n",
       "      <td>5544.04</td>\n",
       "      <td>2652.0</td>\n",
       "      <td>35447.31</td>\n",
       "      <td>0.0</td>\n",
       "      <td>...</td>\n",
       "      <td>0.0</td>\n",
       "      <td>0.0</td>\n",
       "      <td>10.0</td>\n",
       "      <td>52.0</td>\n",
       "      <td>18.0</td>\n",
       "      <td>659.0</td>\n",
       "      <td>2587.0</td>\n",
       "      <td>5611.30</td>\n",
       "      <td>33921.34</td>\n",
       "      <td>5</td>\n",
       "    </tr>\n",
       "  </tbody>\n",
       "</table>\n",
       "<p>5 rows × 45 columns</p>\n",
       "</div>"
      ],
      "text/plain": [
       "     datestop   x   y  SAF_COUNT  311_complaints_COUNT  \\\n",
       "0  1372543200  22  14        0.0                   0.0   \n",
       "1  1372543200  12   7        0.0                   0.0   \n",
       "2  1372543200  12  15        2.0                  12.0   \n",
       "3  1372543200  12  14        9.0                  10.0   \n",
       "4  1372543200  12  13        9.0                  30.0   \n",
       "\n",
       "   passenger_count_pickup  total_amount_pickup  passenger_count_dropoff  \\\n",
       "0                    16.0               312.93                     26.0   \n",
       "1                 52105.0            374601.91                  54970.0   \n",
       "2                    66.0               809.62                    461.0   \n",
       "3                    86.0               757.78                    923.0   \n",
       "4                   585.0              5544.04                   2652.0   \n",
       "\n",
       "   total_amount_dropoff  NN_SAF  ...  NS_TAXI_P_FARE  NS_TAXI_D_FARE  SAF_lag  \\\n",
       "0                579.03     0.0  ...             0.0             0.0      0.0   \n",
       "1             382690.74     0.0  ...             0.0             0.0      3.0   \n",
       "2               9323.87     0.0  ...             0.0             0.0      3.0   \n",
       "3              15469.21     0.0  ...             0.0             0.0     11.0   \n",
       "4              35447.31     0.0  ...             0.0             0.0     10.0   \n",
       "\n",
       "   311_lag  NYPD_lag  TAXI_P_PASSENGER_lag  TAXI_D_PASSENGER_lag  \\\n",
       "0      0.0       0.0                   0.0                   0.0   \n",
       "1     26.0      21.0               64307.0               61028.0   \n",
       "2     25.0      11.0                  57.0                 390.0   \n",
       "3     56.0      23.0                 116.0                 896.0   \n",
       "4     52.0      18.0                 659.0                2587.0   \n",
       "\n",
       "   TAXI_P_FARE_lag  TAXI_D_FARE_lag  nypd_complaints_COUNT  \n",
       "0             0.00             0.00                      1  \n",
       "1        459089.86        408074.78                      9  \n",
       "2           660.83          8008.99                      7  \n",
       "3          1312.94         15219.87                     15  \n",
       "4          5611.30         33921.34                      5  \n",
       "\n",
       "[5 rows x 45 columns]"
      ]
     },
     "execution_count": 116,
     "metadata": {},
     "output_type": "execute_result"
    }
   ],
   "source": [
    "data_1=pd.read_csv('data_lag1.csv',index_col=0)\n",
    "data_1.head()"
   ]
  },
  {
   "cell_type": "code",
   "execution_count": 117,
   "metadata": {},
   "outputs": [
    {
     "data": {
      "text/html": [
       "<div>\n",
       "<style scoped>\n",
       "    .dataframe tbody tr th:only-of-type {\n",
       "        vertical-align: middle;\n",
       "    }\n",
       "\n",
       "    .dataframe tbody tr th {\n",
       "        vertical-align: top;\n",
       "    }\n",
       "\n",
       "    .dataframe thead th {\n",
       "        text-align: right;\n",
       "    }\n",
       "</style>\n",
       "<table border=\"1\" class=\"dataframe\">\n",
       "  <thead>\n",
       "    <tr style=\"text-align: right;\">\n",
       "      <th></th>\n",
       "      <th>datestop</th>\n",
       "      <th>x</th>\n",
       "      <th>y</th>\n",
       "      <th>SAF_COUNT</th>\n",
       "      <th>311_complaints_COUNT</th>\n",
       "      <th>passenger_count_pickup</th>\n",
       "      <th>total_amount_pickup</th>\n",
       "      <th>passenger_count_dropoff</th>\n",
       "      <th>total_amount_dropoff</th>\n",
       "      <th>NN_SAF</th>\n",
       "      <th>...</th>\n",
       "      <th>NS_TAXI_P_FARE</th>\n",
       "      <th>NS_TAXI_D_FARE</th>\n",
       "      <th>SAF_lag</th>\n",
       "      <th>311_lag</th>\n",
       "      <th>NYPD_lag</th>\n",
       "      <th>TAXI_P_PASSENGER_lag</th>\n",
       "      <th>TAXI_D_PASSENGER_lag</th>\n",
       "      <th>TAXI_P_FARE_lag</th>\n",
       "      <th>TAXI_D_FARE_lag</th>\n",
       "      <th>nypd_complaints_COUNT</th>\n",
       "    </tr>\n",
       "  </thead>\n",
       "  <tbody>\n",
       "    <tr>\n",
       "      <th>0</th>\n",
       "      <td>1372543200</td>\n",
       "      <td>22</td>\n",
       "      <td>14</td>\n",
       "      <td>0.0</td>\n",
       "      <td>0.0</td>\n",
       "      <td>16.0</td>\n",
       "      <td>312.93</td>\n",
       "      <td>26.0</td>\n",
       "      <td>579.03</td>\n",
       "      <td>0.0</td>\n",
       "      <td>...</td>\n",
       "      <td>0.0</td>\n",
       "      <td>0.0</td>\n",
       "      <td>0.0</td>\n",
       "      <td>0.0</td>\n",
       "      <td>0.0</td>\n",
       "      <td>0.0</td>\n",
       "      <td>0.0</td>\n",
       "      <td>0.00</td>\n",
       "      <td>0.00</td>\n",
       "      <td>1</td>\n",
       "    </tr>\n",
       "    <tr>\n",
       "      <th>1</th>\n",
       "      <td>1372543200</td>\n",
       "      <td>12</td>\n",
       "      <td>7</td>\n",
       "      <td>0.0</td>\n",
       "      <td>0.0</td>\n",
       "      <td>52105.0</td>\n",
       "      <td>374601.91</td>\n",
       "      <td>54970.0</td>\n",
       "      <td>382690.74</td>\n",
       "      <td>0.0</td>\n",
       "      <td>...</td>\n",
       "      <td>0.0</td>\n",
       "      <td>0.0</td>\n",
       "      <td>4.0</td>\n",
       "      <td>38.0</td>\n",
       "      <td>9.0</td>\n",
       "      <td>53490.0</td>\n",
       "      <td>60145.0</td>\n",
       "      <td>371204.39</td>\n",
       "      <td>424270.61</td>\n",
       "      <td>9</td>\n",
       "    </tr>\n",
       "    <tr>\n",
       "      <th>2</th>\n",
       "      <td>1372543200</td>\n",
       "      <td>12</td>\n",
       "      <td>15</td>\n",
       "      <td>2.0</td>\n",
       "      <td>12.0</td>\n",
       "      <td>66.0</td>\n",
       "      <td>809.62</td>\n",
       "      <td>461.0</td>\n",
       "      <td>9323.87</td>\n",
       "      <td>0.0</td>\n",
       "      <td>...</td>\n",
       "      <td>0.0</td>\n",
       "      <td>0.0</td>\n",
       "      <td>0.0</td>\n",
       "      <td>42.0</td>\n",
       "      <td>5.0</td>\n",
       "      <td>38.0</td>\n",
       "      <td>405.0</td>\n",
       "      <td>471.89</td>\n",
       "      <td>8388.73</td>\n",
       "      <td>7</td>\n",
       "    </tr>\n",
       "    <tr>\n",
       "      <th>3</th>\n",
       "      <td>1372543200</td>\n",
       "      <td>12</td>\n",
       "      <td>14</td>\n",
       "      <td>9.0</td>\n",
       "      <td>10.0</td>\n",
       "      <td>86.0</td>\n",
       "      <td>757.78</td>\n",
       "      <td>923.0</td>\n",
       "      <td>15469.21</td>\n",
       "      <td>0.0</td>\n",
       "      <td>...</td>\n",
       "      <td>0.0</td>\n",
       "      <td>0.0</td>\n",
       "      <td>19.0</td>\n",
       "      <td>47.0</td>\n",
       "      <td>14.0</td>\n",
       "      <td>158.0</td>\n",
       "      <td>939.0</td>\n",
       "      <td>1755.31</td>\n",
       "      <td>15156.58</td>\n",
       "      <td>15</td>\n",
       "    </tr>\n",
       "    <tr>\n",
       "      <th>4</th>\n",
       "      <td>1372543200</td>\n",
       "      <td>12</td>\n",
       "      <td>13</td>\n",
       "      <td>9.0</td>\n",
       "      <td>30.0</td>\n",
       "      <td>585.0</td>\n",
       "      <td>5544.04</td>\n",
       "      <td>2652.0</td>\n",
       "      <td>35447.31</td>\n",
       "      <td>0.0</td>\n",
       "      <td>...</td>\n",
       "      <td>0.0</td>\n",
       "      <td>0.0</td>\n",
       "      <td>5.0</td>\n",
       "      <td>41.0</td>\n",
       "      <td>8.0</td>\n",
       "      <td>730.0</td>\n",
       "      <td>2552.0</td>\n",
       "      <td>7227.51</td>\n",
       "      <td>36292.56</td>\n",
       "      <td>5</td>\n",
       "    </tr>\n",
       "  </tbody>\n",
       "</table>\n",
       "<p>5 rows × 45 columns</p>\n",
       "</div>"
      ],
      "text/plain": [
       "     datestop   x   y  SAF_COUNT  311_complaints_COUNT  \\\n",
       "0  1372543200  22  14        0.0                   0.0   \n",
       "1  1372543200  12   7        0.0                   0.0   \n",
       "2  1372543200  12  15        2.0                  12.0   \n",
       "3  1372543200  12  14        9.0                  10.0   \n",
       "4  1372543200  12  13        9.0                  30.0   \n",
       "\n",
       "   passenger_count_pickup  total_amount_pickup  passenger_count_dropoff  \\\n",
       "0                    16.0               312.93                     26.0   \n",
       "1                 52105.0            374601.91                  54970.0   \n",
       "2                    66.0               809.62                    461.0   \n",
       "3                    86.0               757.78                    923.0   \n",
       "4                   585.0              5544.04                   2652.0   \n",
       "\n",
       "   total_amount_dropoff  NN_SAF  ...  NS_TAXI_P_FARE  NS_TAXI_D_FARE  SAF_lag  \\\n",
       "0                579.03     0.0  ...             0.0             0.0      0.0   \n",
       "1             382690.74     0.0  ...             0.0             0.0      4.0   \n",
       "2               9323.87     0.0  ...             0.0             0.0      0.0   \n",
       "3              15469.21     0.0  ...             0.0             0.0     19.0   \n",
       "4              35447.31     0.0  ...             0.0             0.0      5.0   \n",
       "\n",
       "   311_lag  NYPD_lag  TAXI_P_PASSENGER_lag  TAXI_D_PASSENGER_lag  \\\n",
       "0      0.0       0.0                   0.0                   0.0   \n",
       "1     38.0       9.0               53490.0               60145.0   \n",
       "2     42.0       5.0                  38.0                 405.0   \n",
       "3     47.0      14.0                 158.0                 939.0   \n",
       "4     41.0       8.0                 730.0                2552.0   \n",
       "\n",
       "   TAXI_P_FARE_lag  TAXI_D_FARE_lag  nypd_complaints_COUNT  \n",
       "0             0.00             0.00                      1  \n",
       "1        371204.39        424270.61                      9  \n",
       "2           471.89          8388.73                      7  \n",
       "3          1755.31         15156.58                     15  \n",
       "4          7227.51         36292.56                      5  \n",
       "\n",
       "[5 rows x 45 columns]"
      ]
     },
     "execution_count": 117,
     "metadata": {},
     "output_type": "execute_result"
    }
   ],
   "source": [
    "data_7=pd.read_csv('data_lag7.csv',index_col=0)\n",
    "data_7.head()"
   ]
  },
  {
   "cell_type": "code",
   "execution_count": 20,
   "metadata": {},
   "outputs": [],
   "source": []
  },
  {
   "cell_type": "code",
   "execution_count": 140,
   "metadata": {},
   "outputs": [],
   "source": [
    "X_1 = data_1[['datestop', 'x', 'y', 'SAF_COUNT', '311_complaints_COUNT',\n",
    "\n",
    "'passenger_count_pickup', 'total_amount_pickup',\n",
    "\n",
    "'passenger_count_dropoff', 'total_amount_dropoff', 'NN_SAF', 'NN_311', 'NN_NYPD',\n",
    "\n",
    "'NN_TAXI_P_PASSENGER', 'NN_TAXI_D_PASSENGER', 'NN_TAXI_P_FARE',\n",
    "\n",
    "'NN_TAXI_D_FARE', 'NW_SAF', 'NW_311', 'NW_NYPD', 'NW_TAXI_P_PASSENGER',\n",
    "\n",
    "'NW_TAXI_D_PASSENGER', 'NW_TAXI_P_FARE', 'NW_TAXI_D_FARE', 'NE_SAF',\n",
    "\n",
    "'NE_311', 'NE_NYPD', 'NE_TAXI_P_PASSENGER', 'NE_TAXI_D_PASSENGER',\n",
    "\n",
    "'NE_TAXI_P_FARE', 'NE_TAXI_D_FARE', 'NS_SAF', 'NS_311', 'NS_NYPD',\n",
    "\n",
    "'NS_TAXI_P_PASSENGER', 'NS_TAXI_D_PASSENGER', 'NS_TAXI_P_FARE',\n",
    "\n",
    "'NS_TAXI_D_FARE', 'SAF_lag', '311_lag', 'NYPD_lag',\n",
    "\n",
    "'TAXI_P_PASSENGER_lag', 'TAXI_D_PASSENGER_lag', 'TAXI_P_FARE_lag',\n",
    "\n",
    "'TAXI_D_FARE_lag', 'nypd_complaints_COUNT']].to_numpy()\n",
    "\n",
    "y_1 = data_1[['nypd_complaints_COUNT']].to_numpy()\n",
    "\n"
   ]
  },
  {
   "cell_type": "code",
   "execution_count": 139,
   "metadata": {},
   "outputs": [],
   "source": [
    "X_7 = data_7[['datestop', 'x', 'y', 'SAF_COUNT', '311_complaints_COUNT',\n",
    "\n",
    "'passenger_count_pickup', 'total_amount_pickup',\n",
    "\n",
    "'passenger_count_dropoff', 'total_amount_dropoff', 'NN_SAF', 'NN_311', 'NN_NYPD',\n",
    "\n",
    "'NN_TAXI_P_PASSENGER', 'NN_TAXI_D_PASSENGER', 'NN_TAXI_P_FARE',\n",
    "\n",
    "'NN_TAXI_D_FARE', 'NW_SAF', 'NW_311', 'NW_NYPD', 'NW_TAXI_P_PASSENGER',\n",
    "\n",
    "'NW_TAXI_D_PASSENGER', 'NW_TAXI_P_FARE', 'NW_TAXI_D_FARE', 'NE_SAF',\n",
    "\n",
    "'NE_311', 'NE_NYPD', 'NE_TAXI_P_PASSENGER', 'NE_TAXI_D_PASSENGER',\n",
    "\n",
    "'NE_TAXI_P_FARE', 'NE_TAXI_D_FARE', 'NS_SAF', 'NS_311', 'NS_NYPD',\n",
    "\n",
    "'NS_TAXI_P_PASSENGER', 'NS_TAXI_D_PASSENGER', 'NS_TAXI_P_FARE',\n",
    "\n",
    "'NS_TAXI_D_FARE', 'SAF_lag', '311_lag', 'NYPD_lag',\n",
    "\n",
    "'TAXI_P_PASSENGER_lag', 'TAXI_D_PASSENGER_lag', 'TAXI_P_FARE_lag',\n",
    "\n",
    "'TAXI_D_FARE_lag', 'nypd_complaints_COUNT']].to_numpy()\n",
    "\n",
    "y_7 = data_7[['nypd_complaints_COUNT']].to_numpy()\n",
    "\n"
   ]
  },
  {
   "cell_type": "code",
   "execution_count": 141,
   "metadata": {},
   "outputs": [],
   "source": [
    "X_train1, X_test1, y_train1, y_test1 = train_test_split(X_1, y_1, test_size=.2, random_state=42)\n",
    "X_train7, X_test7, y_train7, y_test7 = train_test_split(X_7, y_7, test_size=.2, random_state=42)"
   ]
  },
  {
   "cell_type": "code",
   "execution_count": 142,
   "metadata": {},
   "outputs": [],
   "source": [
    "from sklearn.metrics import mean_squared_error"
   ]
  },
  {
   "cell_type": "code",
   "execution_count": 143,
   "metadata": {},
   "outputs": [],
   "source": [
    "from sklearn import svm\n",
    "from sklearn.preprocessing import StandardScaler\n",
    "from sklearn.pipeline import make_pipeline\n",
    "from sklearn.ensemble import GradientBoostingRegressor"
   ]
  },
  {
   "cell_type": "markdown",
   "metadata": {},
   "source": [
    "need to scale for svm to work better!!\n",
    "### Support Vector machines"
   ]
  },
  {
   "cell_type": "code",
   "execution_count": 144,
   "metadata": {},
   "outputs": [
    {
     "name": "stdout",
     "output_type": "stream",
     "text": [
      "aRMSE 2.177582588456455\n"
     ]
    }
   ],
   "source": [
    "regr1 = make_pipeline(StandardScaler(), svm.SVR())\n",
    "regr1.fit(X_train1, y_train1.ravel())\n",
    "aRMSE1=mean_squared_error(y_test1.ravel(), regr1.predict(X_test1), multioutput='uniform_average')\n",
    "print('aRMSE',aRMSE1)"
   ]
  },
  {
   "cell_type": "code",
   "execution_count": 145,
   "metadata": {},
   "outputs": [
    {
     "name": "stdout",
     "output_type": "stream",
     "text": [
      "aRMSE 1.5634106890945219\n"
     ]
    }
   ],
   "source": [
    "regr7 = make_pipeline(StandardScaler(), svm.SVR())\n",
    "regr7.fit(X_train7, y_train7.ravel())\n",
    "aRMSE7=mean_squared_error(y_test7.ravel(), regr7.predict(X_test7), multioutput='uniform_average')\n",
    "print('aRMSE',aRMSE7)"
   ]
  },
  {
   "cell_type": "code",
   "execution_count": 146,
   "metadata": {},
   "outputs": [],
   "source": [
    "from sklearn.ensemble import RandomForestRegressor\n",
    "from sklearn import linear_model"
   ]
  },
  {
   "cell_type": "code",
   "execution_count": 147,
   "metadata": {},
   "outputs": [
    {
     "name": "stdout",
     "output_type": "stream",
     "text": [
      "aRMSE 1.0547627202353789\n"
     ]
    }
   ],
   "source": [
    "regr1 = make_pipeline(StandardScaler(),linear_model.Lasso())\n",
    "regr1.fit(X_train1,y_train1.ravel())\n",
    "aRMSE1=mean_squared_error(y_test1.ravel(), regr1.predict(X_test1), multioutput='uniform_average')\n",
    "print('aRMSE',aRMSE1)"
   ]
  },
  {
   "cell_type": "code",
   "execution_count": 148,
   "metadata": {},
   "outputs": [
    {
     "name": "stdout",
     "output_type": "stream",
     "text": [
      "aRMSE 0.9827734606233235\n"
     ]
    }
   ],
   "source": [
    "regr7 = make_pipeline(StandardScaler(),linear_model.Lasso())\n",
    "regr7.fit(X_train7,y_train7.ravel())\n",
    "aRMSE7=mean_squared_error(y_test7.ravel(), regr7.predict(X_test7), multioutput='uniform_average')\n",
    "print('aRMSE',aRMSE7)"
   ]
  },
  {
   "cell_type": "code",
   "execution_count": 149,
   "metadata": {},
   "outputs": [
    {
     "name": "stdout",
     "output_type": "stream",
     "text": [
      "aRMSE 0.006061551621541203\n"
     ]
    }
   ],
   "source": [
    "regr1=make_pipeline(StandardScaler(),RandomForestRegressor()).fit(X_train1,y_train1.ravel())\n",
    "aRMSE1=mean_squared_error(y_test1.ravel(), regr1.predict(X_test1), multioutput='uniform_average')\n",
    "print('aRMSE',aRMSE1)"
   ]
  },
  {
   "cell_type": "code",
   "execution_count": 150,
   "metadata": {},
   "outputs": [
    {
     "name": "stdout",
     "output_type": "stream",
     "text": [
      "aRMSE 0.00285839007414132\n"
     ]
    }
   ],
   "source": [
    "regr7=make_pipeline(StandardScaler(),RandomForestRegressor()).fit(X_train7,y_train7.ravel())\n",
    "aRMSE7=mean_squared_error(y_test7.ravel(), regr1.predict(X_test7), multioutput='uniform_average')\n",
    "print('aRMSE',aRMSE7)"
   ]
  },
  {
   "cell_type": "code",
   "execution_count": 151,
   "metadata": {},
   "outputs": [
    {
     "name": "stdout",
     "output_type": "stream",
     "text": [
      "aRMSE 0.0017773979677851042\n"
     ]
    }
   ],
   "source": [
    "regr1=make_pipeline(StandardScaler(),GradientBoostingRegressor()).fit(X_train1,y_train1.ravel())\n",
    "aRMSE1=mean_squared_error(y_test1.ravel(), regr1.predict(X_test1), multioutput='uniform_average')\n",
    "print('aRMSE',aRMSE1)"
   ]
  },
  {
   "cell_type": "code",
   "execution_count": 152,
   "metadata": {},
   "outputs": [
    {
     "name": "stdout",
     "output_type": "stream",
     "text": [
      "aRMSE 0.00041419405719613265\n"
     ]
    }
   ],
   "source": [
    "regr7=make_pipeline(StandardScaler(),GradientBoostingRegressor()).fit(X_train7,y_train7.ravel())\n",
    "aRMSE7=mean_squared_error(y_test7.ravel(), regr1.predict(X_test7), multioutput='uniform_average')\n",
    "print('aRMSE',aRMSE7)"
   ]
  },
  {
   "cell_type": "markdown",
   "metadata": {},
   "source": [
    "+ trying some nearest neighbour if possible!!"
   ]
  },
  {
   "cell_type": "code",
   "execution_count": 153,
   "metadata": {},
   "outputs": [],
   "source": [
    "from sklearn.neighbors import KNeighborsRegressor"
   ]
  },
  {
   "cell_type": "code",
   "execution_count": 154,
   "metadata": {},
   "outputs": [
    {
     "name": "stdout",
     "output_type": "stream",
     "text": [
      "aRMSE 3.8080243975007435\n"
     ]
    }
   ],
   "source": [
    "regr1=make_pipeline(StandardScaler(),KNeighborsRegressor()).fit(X_train1,y_train1.ravel())\n",
    "aRMSE1=mean_squared_error(y_test1.ravel(), regr1.predict(X_test1), multioutput='uniform_average')\n",
    "print('aRMSE',aRMSE1)"
   ]
  },
  {
   "cell_type": "code",
   "execution_count": 155,
   "metadata": {},
   "outputs": [
    {
     "name": "stdout",
     "output_type": "stream",
     "text": [
      "aRMSE 3.3285398698744135\n"
     ]
    }
   ],
   "source": [
    "regr7=make_pipeline(StandardScaler(),KNeighborsRegressor()).fit(X_train7,y_train7.ravel())\n",
    "aRMSE7=mean_squared_error(y_test7.ravel(), regr1.predict(X_test7), multioutput='uniform_average')\n",
    "print('aRMSE',aRMSE7)"
   ]
  },
  {
   "cell_type": "code",
   "execution_count": 52,
   "metadata": {},
   "outputs": [],
   "source": [
    "from sklearn.neighbors import RadiusNeighborsRegressor\n",
    "#will not be using becasue it performs terrible here"
   ]
  },
  {
   "cell_type": "code",
   "execution_count": 70,
   "metadata": {},
   "outputs": [
    {
     "name": "stdout",
     "output_type": "stream",
     "text": [
      "aRMSE 2.422271832366395e+37\n"
     ]
    }
   ],
   "source": [
    "regr1=make_pipeline(StandardScaler(),RadiusNeighborsRegressor()).fit(X_train1,y_train1.ravel())\n",
    "aRMSE1=mean_squared_error(y_test1.ravel(), regr1.predict(X_test1), multioutput='uniform_average')\n",
    "print('aRMSE',aRMSE1)"
   ]
  },
  {
   "cell_type": "code",
   "execution_count": 71,
   "metadata": {},
   "outputs": [
    {
     "name": "stdout",
     "output_type": "stream",
     "text": [
      "aRMSE 2.0202495645423396e+37\n"
     ]
    }
   ],
   "source": [
    "regr7=make_pipeline(StandardScaler(),RadiusNeighborsRegressor()).fit(X_train7,y_train7.ravel())\n",
    "aRMSE7=mean_squared_error(y_test7.ravel(), regr1.predict(X_test7), multioutput='uniform_average')\n",
    "print('aRMSE',aRMSE7)"
   ]
  },
  {
   "cell_type": "markdown",
   "metadata": {},
   "source": [
    "Guess we're not using that one ahhahaha, trying again with SGDRegressor and MLPregressor with the standardscaler to see if it helps us with getting better values?! no not for SGDRegressor, sure it gave better result but not nearly good enought to be considered for the task."
   ]
  },
  {
   "cell_type": "code",
   "execution_count": 156,
   "metadata": {},
   "outputs": [],
   "source": [
    "from sklearn.neural_network import MLPRegressor"
   ]
  },
  {
   "cell_type": "code",
   "execution_count": 157,
   "metadata": {},
   "outputs": [
    {
     "name": "stdout",
     "output_type": "stream",
     "text": [
      "aRMSE 0.018537281269497174\n"
     ]
    }
   ],
   "source": [
    "regr1=make_pipeline(StandardScaler(),MLPRegressor()).fit(X_train1,y_train1.ravel())\n",
    "aRMSE1=mean_squared_error(y_test1.ravel(), regr1.predict(X_test1), multioutput='uniform_average')\n",
    "print('aRMSE',aRMSE1)"
   ]
  },
  {
   "cell_type": "code",
   "execution_count": 158,
   "metadata": {},
   "outputs": [
    {
     "name": "stdout",
     "output_type": "stream",
     "text": [
      "aRMSE 0.0036999347099115187\n"
     ]
    }
   ],
   "source": [
    "regr7=make_pipeline(StandardScaler(),MLPRegressor()).fit(X_train7,y_train7.ravel())\n",
    "aRMSE7=mean_squared_error(y_test7.ravel(), regr1.predict(X_test7), multioutput='uniform_average')\n",
    "print('aRMSE',aRMSE7)"
   ]
  },
  {
   "cell_type": "markdown",
   "metadata": {},
   "source": [
    "## New attempt with K-fold and standardscaler in the pipeline"
   ]
  },
  {
   "cell_type": "code",
   "execution_count": 159,
   "metadata": {},
   "outputs": [],
   "source": [
    "from sklearn.model_selection import ShuffleSplit"
   ]
  },
  {
   "cell_type": "code",
   "execution_count": 160,
   "metadata": {},
   "outputs": [],
   "source": [
    "ss = ShuffleSplit(n_splits=5, test_size=0.20,random_state=42)"
   ]
  },
  {
   "cell_type": "code",
   "execution_count": 161,
   "metadata": {},
   "outputs": [
    {
     "name": "stdout",
     "output_type": "stream",
     "text": [
      "0.03783170955537885 for shufflesplit validation lag: 1 day, model: MLPRegressor\n"
     ]
    }
   ],
   "source": [
    "aRMSE1=[]\n",
    "i=0\n",
    "for train, test in ss.split(X_1):\n",
    "    X_train1ss, X_test1ss, y_train1ss, y_test1ss = X_1[train], X_1[test], y_1[train], y_1[test]\n",
    "    regr1=make_pipeline(StandardScaler(),MLPRegressor()).fit(X_train1ss,y_train1ss.ravel())\n",
    "    aRMSE1.append(mean_squared_error(y_test1ss.ravel(), regr1.predict(X_test1ss), multioutput='uniform_average'))\n",
    "    #print('aRMSE',aRMSE1[i], 'for one version of KFold', i)\n",
    "    #i+=1\n",
    "print(np.mean(aRMSE1), 'for shufflesplit validation lag: 1 day, model: MLPRegressor')"
   ]
  },
  {
   "cell_type": "code",
   "execution_count": 162,
   "metadata": {},
   "outputs": [
    {
     "name": "stdout",
     "output_type": "stream",
     "text": [
      "0.032997691503888496 for shufflesplit validation lag: 7 day, model: MLPRegressor\n"
     ]
    }
   ],
   "source": [
    "aRMSE7=[]\n",
    "i=0\n",
    "for train, test in ss.split(X_7):\n",
    "    X_train7ss, X_test7ss, y_train7ss, y_test7ss = X_7[train], X_7[test], y_7[train], y_7[test]\n",
    "    regr7=make_pipeline(StandardScaler(),MLPRegressor()).fit(X_train7ss,y_train7ss.ravel())\n",
    "    aRMSE7.append(mean_squared_error(y_test7ss.ravel(), regr7.predict(X_test7ss), multioutput='uniform_average'))\n",
    "    #print('aRMSE',aRMSE7[i], 'for one version of KFold', i)\n",
    "    #i+=1\n",
    "print(np.mean(aRMSE7),'for shufflesplit validation lag: 7 day, model: MLPRegressor')"
   ]
  },
  {
   "cell_type": "code",
   "execution_count": 163,
   "metadata": {},
   "outputs": [
    {
     "name": "stdout",
     "output_type": "stream",
     "text": [
      "0.003962086548645787 for shufflesplit validation lag: 7 day, model: RandomForestRegressor\n"
     ]
    }
   ],
   "source": [
    "aRMSE7=[]\n",
    "i=0\n",
    "for train, test in ss.split(X_7):\n",
    "    X_train7ss, X_test7ss, y_train7ss, y_test7ss = X_7[train], X_7[test], y_7[train], y_7[test]\n",
    "    regr7=make_pipeline(StandardScaler(),RandomForestRegressor()).fit(X_train7ss,y_train7ss.ravel())\n",
    "    aRMSE7.append(mean_squared_error(y_test7ss.ravel(), regr7.predict(X_test7ss), multioutput='uniform_average'))\n",
    "    #print('aRMSE',aRMSE7[i], 'for one version of KFold', i)\n",
    "    #i+=1\n",
    "print(np.mean(aRMSE7),'for shufflesplit validation lag: 7 day, model: RandomForestRegressor')"
   ]
  },
  {
   "cell_type": "code",
   "execution_count": 164,
   "metadata": {},
   "outputs": [
    {
     "name": "stdout",
     "output_type": "stream",
     "text": [
      "0.001198805037930691 for shufflesplit validation lag: 1 day, model: GradientBoostingRegressor\n"
     ]
    }
   ],
   "source": [
    "aRMSE1=[]\n",
    "i=0\n",
    "for train, test in ss.split(X_1):\n",
    "    X_train1ss, X_test1ss, y_train1ss, y_test1ss = X_1[train], X_1[test], y_1[train], y_1[test]\n",
    "    regr1=make_pipeline(StandardScaler(),GradientBoostingRegressor()).fit(X_train1ss,y_train1ss.ravel())\n",
    "    aRMSE1.append(mean_squared_error(y_test1ss.ravel(), regr1.predict(X_test1ss), multioutput='uniform_average'))\n",
    "    #print('aRMSE',aRMSE7[i], 'for one version of KFold', i)\n",
    "    #i+=1\n",
    "print(np.mean(aRMSE1),'for shufflesplit validation lag: 1 day, model: GradientBoostingRegressor')"
   ]
  },
  {
   "cell_type": "markdown",
   "metadata": {},
   "source": [
    " testing other scalers, such as normalizer aswell."
   ]
  },
  {
   "cell_type": "code",
   "execution_count": 165,
   "metadata": {},
   "outputs": [
    {
     "name": "stdout",
     "output_type": "stream",
     "text": [
      "0.0009258135304499173\n"
     ]
    }
   ],
   "source": [
    "\n",
    "aRMSE7=[]\n",
    "i=0\n",
    "for train, test in ss.split(X_7):\n",
    "    X_train7ss, X_test7ss, y_train7ss, y_test7ss = X_7[train], X_7[test], y_7[train], y_7[test]\n",
    "    regr7=make_pipeline(StandardScaler(),GradientBoostingRegressor()).fit(X_train7ss,y_train7ss.ravel())\n",
    "    aRMSE7.append(mean_squared_error(y_test7ss.ravel(), regr7.predict(X_test7ss), multioutput='uniform_average'))\n",
    "    #print('aRMSE',aRMSE7[i], 'for one version of KFold', i)\n",
    "    #i+=1\n",
    "print(np.mean(aRMSE7))"
   ]
  },
  {
   "cell_type": "code",
   "execution_count": 166,
   "metadata": {},
   "outputs": [],
   "source": [
    "from sklearn.preprocessing import Normalizer"
   ]
  },
  {
   "cell_type": "code",
   "execution_count": 167,
   "metadata": {},
   "outputs": [
    {
     "name": "stdout",
     "output_type": "stream",
     "text": [
      "43.64854058049916\n"
     ]
    }
   ],
   "source": [
    "aRMSE7=[]\n",
    "i=0\n",
    "for train, test in ss.split(X_7):\n",
    "    X_train7ss, X_test7ss, y_train7ss, y_test7ss = X_7[train], X_7[test], y_7[train], y_7[test]\n",
    "    regr7=make_pipeline(Normalizer(),GradientBoostingRegressor()).fit(X_train7ss,y_train7ss.ravel())\n",
    "    aRMSE7.append(mean_squared_error(y_test7ss.ravel(), regr7.predict(X_test7ss), multioutput='uniform_average'))\n",
    "    #print('aRMSE',aRMSE7[i], 'for one version of KFold', i)\n",
    "    #i+=1\n",
    "print(np.mean(aRMSE7))"
   ]
  },
  {
   "cell_type": "code",
   "execution_count": 168,
   "metadata": {},
   "outputs": [
    {
     "name": "stdout",
     "output_type": "stream",
     "text": [
      "30.782760117946186\n"
     ]
    }
   ],
   "source": [
    "aRMSE7=[]\n",
    "i=0\n",
    "for train, test in ss.split(X_7):\n",
    "    X_train7ss, X_test7ss, y_train7ss, y_test7ss = X_7[train], X_7[test], y_7[train], y_7[test]\n",
    "    regr7=make_pipeline(Normalizer(),RandomForestRegressor()).fit(X_train7ss,y_train7ss.ravel())\n",
    "    aRMSE7.append(mean_squared_error(y_test7ss.ravel(), regr7.predict(X_test7ss), multioutput='uniform_average'))\n",
    "    #print('aRMSE',aRMSE7[i], 'for one version of KFold', i)\n",
    "    #i+=1\n",
    "print(np.mean(aRMSE7))"
   ]
  },
  {
   "cell_type": "code",
   "execution_count": 169,
   "metadata": {},
   "outputs": [
    {
     "name": "stdout",
     "output_type": "stream",
     "text": [
      "67.68220243550618\n"
     ]
    }
   ],
   "source": [
    "aRMSE1=[]\n",
    "i=0\n",
    "for train, test in ss.split(X_1):\n",
    "    X_train1ss, X_test1ss, y_train1ss, y_test1ss = X_1[train], X_1[test], y_1[train], y_1[test]\n",
    "    regr1=make_pipeline(Normalizer(),linear_model.Lasso()).fit(X_train1ss,y_train1ss.ravel())\n",
    "    aRMSE1.append(mean_squared_error(y_test1ss.ravel(), regr1.predict(X_test1ss), multioutput='uniform_average'))\n",
    "    #print('aRMSE',aRMSE1[i], 'for one version of KFold', i)\n",
    "    #i+=1\n",
    "print(np.mean(aRMSE1))"
   ]
  },
  {
   "cell_type": "markdown",
   "metadata": {},
   "source": [
    "so, standardscaler is SIGNIFICANTLY better than normalizer here."
   ]
  },
  {
   "cell_type": "markdown",
   "metadata": {},
   "source": [
    "# now correlation matrixes & feature analysis"
   ]
  },
  {
   "cell_type": "code",
   "execution_count": 75,
   "metadata": {},
   "outputs": [],
   "source": [
    "import seaborn as sns\n"
   ]
  },
  {
   "cell_type": "code",
   "execution_count": 89,
   "metadata": {},
   "outputs": [
    {
     "data": {
      "text/plain": [
       "<AxesSubplot:>"
      ]
     },
     "execution_count": 89,
     "metadata": {},
     "output_type": "execute_result"
    },
    {
     "data": {
      "image/png": "[encoded data removed]",
      "text/plain": [
       "<Figure size 432x288 with 2 Axes>"
      ]
     },
     "metadata": {
      "needs_background": "light"
     },
     "output_type": "display_data"
    }
   ],
   "source": [
    "sns.heatmap(data_7.corr(),cmap=\"Blues\")"
   ]
  },
  {
   "cell_type": "markdown",
   "metadata": {},
   "source": [
    "Too hard to see anything, aswell as I dont think all features can be considered. Will only check the ones for today, aswell as the NYPD-values for all the neighbours and the lag."
   ]
  },
  {
   "cell_type": "code",
   "execution_count": 88,
   "metadata": {},
   "outputs": [
    {
     "data": {
      "text/plain": [
       "<AxesSubplot:>"
      ]
     },
     "execution_count": 88,
     "metadata": {},
     "output_type": "execute_result"
    },
    {
     "data": {
      "image/png": "[encoded data removed]",
      "text/plain": [
       "<Figure size 432x288 with 2 Axes>"
      ]
     },
     "metadata": {
      "needs_background": "light"
     },
     "output_type": "display_data"
    }
   ],
   "source": [
    "sns.heatmap(data_1[[ 'SAF_COUNT', '311_complaints_COUNT',\n",
    "       'passenger_count_pickup', 'total_amount_pickup',\n",
    "       'passenger_count_dropoff', 'total_amount_dropoff','NN_NYPD','NW_NYPD','NS_NYPD','NE_NYPD','NYPD_lag','nypd_complaints_COUNT']].corr(),cmap=\"Blues\")"
   ]
  },
  {
   "cell_type": "code",
   "execution_count": 87,
   "metadata": {},
   "outputs": [
    {
     "data": {
      "text/plain": [
       "<AxesSubplot:>"
      ]
     },
     "execution_count": 87,
     "metadata": {},
     "output_type": "execute_result"
    },
    {
     "data": {
      "image/png": "[encoded data removed]",
      "text/plain": [
       "<Figure size 432x288 with 2 Axes>"
      ]
     },
     "metadata": {
      "needs_background": "light"
     },
     "output_type": "display_data"
    }
   ],
   "source": [
    "sns.heatmap(data_7[[ 'SAF_COUNT', '311_complaints_COUNT',\n",
    "       'passenger_count_pickup', 'total_amount_pickup',\n",
    "       'passenger_count_dropoff', 'total_amount_dropoff','NN_NYPD','NW_NYPD','NS_NYPD','NE_NYPD','NYPD_lag','nypd_complaints_COUNT']].corr(),cmap=\"Blues\")"
   ]
  },
  {
   "cell_type": "markdown",
   "metadata": {},
   "source": [
    "## gradientBoostingRegressor but minus 1 feature and its values"
   ]
  },
  {
   "cell_type": "markdown",
   "metadata": {},
   "source": [
    "regr7=make_pipeline(StandardScaler(),GradientBoostingRegressor()).fit(X_train7,y_train7.ravel())\n",
    "aRMSE7=mean_squared_error(y_test7.ravel(), regr7.predict(X_test7), multioutput='uniform_average')\n",
    "print('aRMSE',aRMSE7)"
   ]
  },
  {
   "cell_type": "markdown",
   "metadata": {},
   "source": [
    "regr1=make_pipeline(StandardScaler(),GradientBoostingRegressor()).fit(X_train1,y_train1.ravel())\n",
    "aRMSE1=mean_squared_error(y_test1.ravel(), regr1.predict(X_test1), multioutput='uniform_average')\n",
    "print('aRMSE',aRMSE1)"
   ]
  },
  {
   "cell_type": "code",
   "execution_count": 170,
   "metadata": {},
   "outputs": [],
   "source": [
    "X_1_saf = data_1[['datestop', 'x', 'y', '311_complaints_COUNT',\n",
    "\n",
    "'passenger_count_pickup', 'total_amount_pickup',\n",
    "\n",
    "'passenger_count_dropoff', 'total_amount_dropoff', 'NN_311', 'NN_NYPD',\n",
    "\n",
    "'NN_TAXI_P_PASSENGER', 'NN_TAXI_D_PASSENGER', 'NN_TAXI_P_FARE',\n",
    "\n",
    "'NN_TAXI_D_FARE', 'NW_311', 'NW_NYPD', 'NW_TAXI_P_PASSENGER',\n",
    "\n",
    "'NW_TAXI_D_PASSENGER', 'NW_TAXI_P_FARE', 'NW_TAXI_D_FARE',\n",
    "\n",
    "'NE_311', 'NE_NYPD', 'NE_TAXI_P_PASSENGER', 'NE_TAXI_D_PASSENGER',\n",
    "\n",
    "'NE_TAXI_P_FARE', 'NE_TAXI_D_FARE', 'NS_311', 'NS_NYPD',\n",
    "\n",
    "'NS_TAXI_P_PASSENGER', 'NS_TAXI_D_PASSENGER', 'NS_TAXI_P_FARE',\n",
    "\n",
    "'NS_TAXI_D_FARE', '311_lag', 'NYPD_lag',\n",
    "\n",
    "'TAXI_P_PASSENGER_lag', 'TAXI_D_PASSENGER_lag', 'TAXI_P_FARE_lag',\n",
    "\n",
    "'TAXI_D_FARE_lag', 'nypd_complaints_COUNT']].to_numpy()\n",
    "\n",
    "y_1 = data_1[['nypd_complaints_COUNT']].to_numpy()"
   ]
  },
  {
   "cell_type": "code",
   "execution_count": 171,
   "metadata": {},
   "outputs": [],
   "source": [
    "X_1_311 = data_1[['datestop', 'x', 'y', 'SAF_COUNT',\n",
    "\n",
    "'passenger_count_pickup', 'total_amount_pickup',\n",
    "\n",
    "'passenger_count_dropoff', 'total_amount_dropoff', 'NN_SAF', 'NN_NYPD',\n",
    "\n",
    "'NN_TAXI_P_PASSENGER', 'NN_TAXI_D_PASSENGER', 'NN_TAXI_P_FARE',\n",
    "\n",
    "'NN_TAXI_D_FARE', 'NW_SAF', 'NW_NYPD', 'NW_TAXI_P_PASSENGER',\n",
    "\n",
    "'NW_TAXI_D_PASSENGER', 'NW_TAXI_P_FARE', 'NW_TAXI_D_FARE', 'NE_SAF', 'NE_NYPD', 'NE_TAXI_P_PASSENGER', 'NE_TAXI_D_PASSENGER',\n",
    "\n",
    "'NE_TAXI_P_FARE', 'NE_TAXI_D_FARE', 'NS_SAF', 'NS_NYPD',\n",
    "\n",
    "'NS_TAXI_P_PASSENGER', 'NS_TAXI_D_PASSENGER', 'NS_TAXI_P_FARE',\n",
    "\n",
    "'NS_TAXI_D_FARE', 'SAF_lag', 'NYPD_lag',\n",
    "\n",
    "'TAXI_P_PASSENGER_lag', 'TAXI_D_PASSENGER_lag', 'TAXI_P_FARE_lag',\n",
    "\n",
    "'TAXI_D_FARE_lag', 'nypd_complaints_COUNT']].to_numpy()\n"
   ]
  },
  {
   "cell_type": "code",
   "execution_count": 172,
   "metadata": {},
   "outputs": [],
   "source": [
    "X_1_taxi = data_1[['datestop', 'x', 'y', 'SAF_COUNT', '311_complaints_COUNT', 'NN_SAF', 'NN_311', 'NN_NYPD',\n",
    "\n",
    "'NN_TAXI_D_FARE', 'NW_SAF', 'NW_311', 'NW_NYPD', 'NE_SAF',\n",
    "\n",
    "'NE_311', 'NE_NYPD', 'NS_SAF', 'NS_311', 'NS_NYPD', 'SAF_lag', '311_lag', 'NYPD_lag', 'nypd_complaints_COUNT']].to_numpy()"
   ]
  },
  {
   "cell_type": "code",
   "execution_count": 173,
   "metadata": {},
   "outputs": [],
   "source": [
    "X_1_neigh = data_1[['datestop', 'x', 'y', 'SAF_COUNT', '311_complaints_COUNT',\n",
    "\n",
    "'passenger_count_pickup', 'total_amount_pickup',\n",
    "\n",
    "'passenger_count_dropoff', 'total_amount_dropoff', 'SAF_lag', '311_lag', 'NYPD_lag',\n",
    "\n",
    "'TAXI_P_PASSENGER_lag', 'TAXI_D_PASSENGER_lag', 'TAXI_P_FARE_lag',\n",
    "\n",
    "'TAXI_D_FARE_lag', 'nypd_complaints_COUNT']].to_numpy()\n",
    "\n",
    "\n",
    "X_1_lag = data_1[['datestop', 'x', 'y', 'SAF_COUNT', '311_complaints_COUNT',\n",
    "\n",
    "'passenger_count_pickup', 'total_amount_pickup',\n",
    "\n",
    "'passenger_count_dropoff', 'total_amount_dropoff', 'NN_SAF', 'NN_311', 'NN_NYPD',\n",
    "\n",
    "'NN_TAXI_P_PASSENGER', 'NN_TAXI_D_PASSENGER', 'NN_TAXI_P_FARE',\n",
    "\n",
    "'NN_TAXI_D_FARE', 'NW_SAF', 'NW_311', 'NW_NYPD', 'NW_TAXI_P_PASSENGER',\n",
    "\n",
    "'NW_TAXI_D_PASSENGER', 'NW_TAXI_P_FARE', 'NW_TAXI_D_FARE', 'NE_SAF',\n",
    "\n",
    "'NE_311', 'NE_NYPD', 'NE_TAXI_P_PASSENGER', 'NE_TAXI_D_PASSENGER',\n",
    "\n",
    "'NE_TAXI_P_FARE', 'NE_TAXI_D_FARE', 'NS_SAF', 'NS_311', 'NS_NYPD',\n",
    "\n",
    "'NS_TAXI_P_PASSENGER', 'NS_TAXI_D_PASSENGER', 'NS_TAXI_P_FARE',\n",
    "\n",
    "'NS_TAXI_D_FARE', 'nypd_complaints_COUNT']].to_numpy()"
   ]
  },
  {
   "cell_type": "code",
   "execution_count": 174,
   "metadata": {},
   "outputs": [],
   "source": [
    "X_7_saf = data_7[['datestop', 'x', 'y', '311_complaints_COUNT',\n",
    "\n",
    "'passenger_count_pickup', 'total_amount_pickup',\n",
    "\n",
    "'passenger_count_dropoff', 'total_amount_dropoff', 'NN_311', 'NN_NYPD',\n",
    "\n",
    "'NN_TAXI_P_PASSENGER', 'NN_TAXI_D_PASSENGER', 'NN_TAXI_P_FARE',\n",
    "\n",
    "'NN_TAXI_D_FARE', 'NW_311', 'NW_NYPD', 'NW_TAXI_P_PASSENGER',\n",
    "\n",
    "'NW_TAXI_D_PASSENGER', 'NW_TAXI_P_FARE', 'NW_TAXI_D_FARE',\n",
    "\n",
    "'NE_311', 'NE_NYPD', 'NE_TAXI_P_PASSENGER', 'NE_TAXI_D_PASSENGER',\n",
    "\n",
    "'NE_TAXI_P_FARE', 'NE_TAXI_D_FARE', 'NS_311', 'NS_NYPD',\n",
    "\n",
    "'NS_TAXI_P_PASSENGER', 'NS_TAXI_D_PASSENGER', 'NS_TAXI_P_FARE',\n",
    "\n",
    "'NS_TAXI_D_FARE', '311_lag', 'NYPD_lag',\n",
    "\n",
    "'TAXI_P_PASSENGER_lag', 'TAXI_D_PASSENGER_lag', 'TAXI_P_FARE_lag',\n",
    "\n",
    "'TAXI_D_FARE_lag', 'nypd_complaints_COUNT']].to_numpy()\n",
    "\n",
    "y_7 = data_7[['nypd_complaints_COUNT']].to_numpy()\n",
    "\n",
    "X_7_311 = data_7[['datestop', 'x', 'y', 'SAF_COUNT',\n",
    "\n",
    "'passenger_count_pickup', 'total_amount_pickup',\n",
    "\n",
    "'passenger_count_dropoff', 'total_amount_dropoff', 'NN_SAF', 'NN_NYPD',\n",
    "\n",
    "'NN_TAXI_P_PASSENGER', 'NN_TAXI_D_PASSENGER', 'NN_TAXI_P_FARE',\n",
    "\n",
    "'NN_TAXI_D_FARE', 'NW_SAF', 'NW_NYPD', 'NW_TAXI_P_PASSENGER',\n",
    "\n",
    "'NW_TAXI_D_PASSENGER', 'NW_TAXI_P_FARE', 'NW_TAXI_D_FARE', 'NE_SAF', 'NE_NYPD', 'NE_TAXI_P_PASSENGER', 'NE_TAXI_D_PASSENGER',\n",
    "\n",
    "'NE_TAXI_P_FARE', 'NE_TAXI_D_FARE', 'NS_SAF', 'NS_NYPD',\n",
    "\n",
    "'NS_TAXI_P_PASSENGER', 'NS_TAXI_D_PASSENGER', 'NS_TAXI_P_FARE',\n",
    "\n",
    "'NS_TAXI_D_FARE', 'SAF_lag', 'NYPD_lag',\n",
    "\n",
    "'TAXI_P_PASSENGER_lag', 'TAXI_D_PASSENGER_lag', 'TAXI_P_FARE_lag',\n",
    "\n",
    "'TAXI_D_FARE_lag', 'nypd_complaints_COUNT']].to_numpy()\n",
    "\n",
    "X_7_taxi = data_7[['datestop', 'x', 'y', 'SAF_COUNT', '311_complaints_COUNT', 'NN_SAF', 'NN_311', 'NN_NYPD',\n",
    "\n",
    "'NN_TAXI_D_FARE', 'NW_SAF', 'NW_311', 'NW_NYPD', 'NE_SAF',\n",
    "\n",
    "'NE_311', 'NE_NYPD', 'NS_SAF', 'NS_311', 'NS_NYPD', 'SAF_lag', '311_lag', 'NYPD_lag', 'nypd_complaints_COUNT']].to_numpy()\n",
    "\n",
    "\n",
    "X_7_neigh = data_7[['datestop', 'x', 'y', 'SAF_COUNT', '311_complaints_COUNT',\n",
    "\n",
    "'passenger_count_pickup', 'total_amount_pickup',\n",
    "\n",
    "'passenger_count_dropoff', 'total_amount_dropoff', 'SAF_lag', '311_lag', 'NYPD_lag',\n",
    "\n",
    "'TAXI_P_PASSENGER_lag', 'TAXI_D_PASSENGER_lag', 'TAXI_P_FARE_lag',\n",
    "\n",
    "'TAXI_D_FARE_lag', 'nypd_complaints_COUNT']].to_numpy()\n",
    "\n",
    "\n",
    "X_7_lag = data_7[['datestop', 'x', 'y', 'SAF_COUNT', '311_complaints_COUNT',\n",
    "\n",
    "'passenger_count_pickup', 'total_amount_pickup',\n",
    "\n",
    "'passenger_count_dropoff', 'total_amount_dropoff', 'NN_SAF', 'NN_311', 'NN_NYPD',\n",
    "\n",
    "'NN_TAXI_P_PASSENGER', 'NN_TAXI_D_PASSENGER', 'NN_TAXI_P_FARE',\n",
    "\n",
    "'NN_TAXI_D_FARE', 'NW_SAF', 'NW_311', 'NW_NYPD', 'NW_TAXI_P_PASSENGER',\n",
    "\n",
    "'NW_TAXI_D_PASSENGER', 'NW_TAXI_P_FARE', 'NW_TAXI_D_FARE', 'NE_SAF',\n",
    "\n",
    "'NE_311', 'NE_NYPD', 'NE_TAXI_P_PASSENGER', 'NE_TAXI_D_PASSENGER',\n",
    "\n",
    "'NE_TAXI_P_FARE', 'NE_TAXI_D_FARE', 'NS_SAF', 'NS_311', 'NS_NYPD',\n",
    "\n",
    "'NS_TAXI_P_PASSENGER', 'NS_TAXI_D_PASSENGER', 'NS_TAXI_P_FARE',\n",
    "\n",
    "'NS_TAXI_D_FARE', 'nypd_complaints_COUNT']].to_numpy()"
   ]
  },
  {
   "cell_type": "code",
   "execution_count": 175,
   "metadata": {},
   "outputs": [],
   "source": [
    "X_train1_311, X_test1_311, y_train1_311, y_test1_311 = train_test_split(X_1_311, y_1, test_size=.2, random_state=42)\n",
    "X_train7_311, X_test7_311, y_train7_311, y_test7_311 = train_test_split(X_7_311, y_7, test_size=.2, random_state=42)\n",
    "\n",
    "X_train1_saf, X_test1_saf, y_train1_saf, y_test1_saf = train_test_split(X_1_saf, y_1, test_size=.2, random_state=42)\n",
    "X_train7_saf, X_test7_saf, y_train7_saf, y_test7_saf = train_test_split(X_7_saf, y_7, test_size=.2, random_state=42)\n",
    "\n",
    "X_train1_taxi, X_test1_taxi, y_train1_taxi, y_test1_taxi = train_test_split(X_1_taxi, y_1, test_size=.2, random_state=42)\n",
    "X_train7_taxi, X_test7_taxi, y_train7_taxi, y_test7_taxi = train_test_split(X_7_taxi, y_7, test_size=.2, random_state=42)\n",
    "\n",
    "X_train1_neigh, X_test1_neigh, y_train1_neigh, y_test1_neigh = train_test_split(X_1_neigh, y_1, test_size=.2, random_state=42)\n",
    "X_train7_neigh, X_test7_neigh, y_train7_neigh, y_test7_neigh = train_test_split(X_7_neigh, y_7, test_size=.2, random_state=42)\n",
    "\n",
    "X_train1_lag, X_test1_lag, y_train1_lag, y_test1_lag = train_test_split(X_1_lag, y_1, test_size=.2, random_state=42)\n",
    "X_train7_lag, X_test7_lag, y_train7_lag, y_test7_lag = train_test_split(X_7_lag, y_7, test_size=.2, random_state=42)"
   ]
  },
  {
   "cell_type": "markdown",
   "metadata": {},
   "source": [
    "311 complaints"
   ]
  },
  {
   "cell_type": "code",
   "execution_count": 176,
   "metadata": {},
   "outputs": [
    {
     "name": "stdout",
     "output_type": "stream",
     "text": [
      "aRMSE 0.0017857391517231856 for GradientBoostingRegressor minus 311 complaints lag 1\n",
      "aRMSE 0.0013895284485207606 for GradientBoostingRegressor minus 311 complaints lag 7\n"
     ]
    }
   ],
   "source": [
    "regr1=make_pipeline(StandardScaler(),GradientBoostingRegressor()).fit(X_train1_311,y_train1_311.ravel())\n",
    "aRMSE1=mean_squared_error(y_test1_311.ravel(), regr1.predict(X_test1_311), multioutput='uniform_average')\n",
    "print('aRMSE',aRMSE1,'for GradientBoostingRegressor minus 311 complaints lag 1')\n",
    "\n",
    "regr7=make_pipeline(StandardScaler(),GradientBoostingRegressor()).fit(X_train7_311,y_train7_311.ravel())\n",
    "aRMSE7=mean_squared_error(y_test7_311.ravel(), regr7.predict(X_test7_311), multioutput='uniform_average')\n",
    "print('aRMSE',aRMSE7,'for GradientBoostingRegressor minus 311 complaints lag 7')"
   ]
  },
  {
   "cell_type": "markdown",
   "metadata": {},
   "source": [
    "saf"
   ]
  },
  {
   "cell_type": "code",
   "execution_count": 177,
   "metadata": {},
   "outputs": [
    {
     "name": "stdout",
     "output_type": "stream",
     "text": [
      "aRMSE 0.001826921884520987 for GradientBoostingRegressor minus saf complaints lag 1\n",
      "aRMSE 0.0013976282502486527 for GradientBoostingRegressor minus saf complaints lag 7\n"
     ]
    }
   ],
   "source": [
    "regr1=make_pipeline(StandardScaler(),GradientBoostingRegressor()).fit(X_train1_saf,y_train1_saf.ravel())\n",
    "aRMSE1=mean_squared_error(y_test1_saf.ravel(), regr1.predict(X_test1_saf), multioutput='uniform_average')\n",
    "print('aRMSE',aRMSE1,'for GradientBoostingRegressor minus saf complaints lag 1')\n",
    "\n",
    "regr7=make_pipeline(StandardScaler(),GradientBoostingRegressor()).fit(X_train7_saf,y_train7_saf.ravel())\n",
    "aRMSE7=mean_squared_error(y_test7_saf.ravel(), regr7.predict(X_test7_saf), multioutput='uniform_average')\n",
    "print('aRMSE',aRMSE7,'for GradientBoostingRegressor minus saf complaints lag 7')"
   ]
  },
  {
   "cell_type": "markdown",
   "metadata": {},
   "source": [
    "taxi"
   ]
  },
  {
   "cell_type": "code",
   "execution_count": 178,
   "metadata": {},
   "outputs": [
    {
     "name": "stdout",
     "output_type": "stream",
     "text": [
      "aRMSE 0.0018795194244052489 for GradientBoostingRegressor minus taxi complaints lag 1\n",
      "aRMSE 0.0010761305678599036 for GradientBoostingRegressor minus taxi complaints lag 7\n"
     ]
    }
   ],
   "source": [
    "regr1=make_pipeline(StandardScaler(),GradientBoostingRegressor()).fit(X_train1_taxi,y_train1_taxi.ravel())\n",
    "aRMSE1=mean_squared_error(y_test1_taxi.ravel(), regr1.predict(X_test1_taxi), multioutput='uniform_average')\n",
    "print('aRMSE',aRMSE1,'for GradientBoostingRegressor minus taxi complaints lag 1')\n",
    "\n",
    "regr7=make_pipeline(StandardScaler(),GradientBoostingRegressor()).fit(X_train7_taxi,y_train7_taxi.ravel())\n",
    "aRMSE7=mean_squared_error(y_test7_taxi.ravel(), regr7.predict(X_test7_taxi), multioutput='uniform_average')\n",
    "print('aRMSE',aRMSE7,'for GradientBoostingRegressor minus taxi complaints lag 7')"
   ]
  },
  {
   "cell_type": "markdown",
   "metadata": {},
   "source": [
    "neighbours"
   ]
  },
  {
   "cell_type": "code",
   "execution_count": 179,
   "metadata": {},
   "outputs": [
    {
     "name": "stdout",
     "output_type": "stream",
     "text": [
      "aRMSE 0.002132407028508389 for GradientBoostingRegressor minus neigh lag 1\n",
      "aRMSE 0.0012533750957996242 for GradientBoostingRegressor minus neighbour info lag 7\n"
     ]
    }
   ],
   "source": [
    "regr1=make_pipeline(StandardScaler(),GradientBoostingRegressor()).fit(X_train1_neigh,y_train1_neigh.ravel())\n",
    "aRMSE1=mean_squared_error(y_test1_neigh.ravel(), regr1.predict(X_test1_neigh), multioutput='uniform_average')\n",
    "print('aRMSE',aRMSE1,'for GradientBoostingRegressor minus neigh lag 1')\n",
    "\n",
    "regr7=make_pipeline(StandardScaler(),GradientBoostingRegressor()).fit(X_train7_neigh,y_train7_neigh.ravel())\n",
    "aRMSE7=mean_squared_error(y_test7_neigh.ravel(), regr7.predict(X_test7_neigh), multioutput='uniform_average')\n",
    "print('aRMSE',aRMSE7,'for GradientBoostingRegressor minus neighbour info lag 7')"
   ]
  },
  {
   "cell_type": "markdown",
   "metadata": {},
   "source": [
    "days lag"
   ]
  },
  {
   "cell_type": "code",
   "execution_count": 180,
   "metadata": {},
   "outputs": [
    {
     "name": "stdout",
     "output_type": "stream",
     "text": [
      "aRMSE 0.0015688863819538032 for GradientBoostingRegressor minus lag 1 \n",
      "aRMSE 0.0011756070922773608 for GradientBoostingRegressor minus lag 7\n"
     ]
    }
   ],
   "source": [
    "regr1=make_pipeline(StandardScaler(),GradientBoostingRegressor()).fit(X_train1_lag,y_train1_lag.ravel())\n",
    "aRMSE1=mean_squared_error(y_test1_lag.ravel(), regr1.predict(X_test1_lag), multioutput='uniform_average')\n",
    "print('aRMSE',aRMSE1,'for GradientBoostingRegressor minus lag 1 ')\n",
    "\n",
    "regr7=make_pipeline(StandardScaler(),GradientBoostingRegressor()).fit(X_train7_lag,y_train7_lag.ravel())\n",
    "aRMSE7=mean_squared_error(y_test7_lag.ravel(), regr7.predict(X_test7_lag), multioutput='uniform_average')\n",
    "print('aRMSE',aRMSE7,'for GradientBoostingRegressor minus lag 7')"
   ]
  }
 ],
 "metadata": {
  "interpreter": {
   "hash": "4bd0aa0d2cfa261ac92b919594313a561b65a0bc91bd6de20b7d045bb52fdc0a"
  },
  "kernelspec": {
   "display_name": "Python 3.9.9 64-bit (windows store)",
   "language": "python",
   "name": "python3"
  },
  "language_info": {
   "codemirror_mode": {
    "name": "ipython",
    "version": 3
   },
   "file_extension": ".py",
   "mimetype": "text/x-python",
   "name": "python",
   "nbconvert_exporter": "python",
   "pygments_lexer": "ipython3",
   "version": "3.9.9"
  },
  "orig_nbformat": 4
 },
 "nbformat": 4,
 "nbformat_minor": 2
}
