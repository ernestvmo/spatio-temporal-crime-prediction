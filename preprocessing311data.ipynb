{
 "cells": [
  {
   "cell_type": "markdown",
   "metadata": {},
   "source": [
    "# 311 service request data"
   ]
  },
  {
   "cell_type": "code",
   "execution_count": 4,
   "metadata": {},
   "outputs": [],
   "source": [
    "import pandas as pd\n",
    "import numpy as np"
   ]
  },
  {
   "cell_type": "code",
   "execution_count": 5,
   "metadata": {},
   "outputs": [
    {
     "name": "stderr",
     "output_type": "stream",
     "text": [
      "C:\\Users\\erika\\AppData\\Local\\Packages\\PythonSoftwareFoundation.Python.3.9_qbz5n2kfra8p0\\LocalCache\\local-packages\\Python39\\site-packages\\IPython\\core\\interactiveshell.py:3444: DtypeWarning: Columns (8,17,34,35,36,37) have mixed types.Specify dtype option on import or set low_memory=False.\n",
      "  exec(code_obj, self.user_global_ns, self.user_ns)\n"
     ]
    }
   ],
   "source": [
    "df_311=pd.read_csv('311_Service_Requests_from_2010_to_Present.csv')"
   ]
  },
  {
   "cell_type": "code",
   "execution_count": 6,
   "metadata": {},
   "outputs": [
    {
     "data": {
      "text/html": [
       "<div>\n",
       "<style scoped>\n",
       "    .dataframe tbody tr th:only-of-type {\n",
       "        vertical-align: middle;\n",
       "    }\n",
       "\n",
       "    .dataframe tbody tr th {\n",
       "        vertical-align: top;\n",
       "    }\n",
       "\n",
       "    .dataframe thead th {\n",
       "        text-align: right;\n",
       "    }\n",
       "</style>\n",
       "<table border=\"1\" class=\"dataframe\">\n",
       "  <thead>\n",
       "    <tr style=\"text-align: right;\">\n",
       "      <th></th>\n",
       "      <th>Unique Key</th>\n",
       "      <th>Created Date</th>\n",
       "      <th>Closed Date</th>\n",
       "      <th>Agency</th>\n",
       "      <th>Agency Name</th>\n",
       "      <th>Complaint Type</th>\n",
       "      <th>Descriptor</th>\n",
       "      <th>Location Type</th>\n",
       "      <th>Incident Zip</th>\n",
       "      <th>Incident Address</th>\n",
       "      <th>...</th>\n",
       "      <th>Vehicle Type</th>\n",
       "      <th>Taxi Company Borough</th>\n",
       "      <th>Taxi Pick Up Location</th>\n",
       "      <th>Bridge Highway Name</th>\n",
       "      <th>Bridge Highway Direction</th>\n",
       "      <th>Road Ramp</th>\n",
       "      <th>Bridge Highway Segment</th>\n",
       "      <th>Latitude</th>\n",
       "      <th>Longitude</th>\n",
       "      <th>Location</th>\n",
       "    </tr>\n",
       "  </thead>\n",
       "  <tbody>\n",
       "    <tr>\n",
       "      <th>0</th>\n",
       "      <td>23525569</td>\n",
       "      <td>07/01/2012 12:00:00 AM</td>\n",
       "      <td>07/05/2012 12:00:00 AM</td>\n",
       "      <td>HPD</td>\n",
       "      <td>Department of Housing Preservation and Develop...</td>\n",
       "      <td>NONCONST</td>\n",
       "      <td>RUBBISH</td>\n",
       "      <td>RESIDENTIAL BUILDING</td>\n",
       "      <td>10454</td>\n",
       "      <td>226 WILLIS AVENUE</td>\n",
       "      <td>...</td>\n",
       "      <td>NaN</td>\n",
       "      <td>NaN</td>\n",
       "      <td>NaN</td>\n",
       "      <td>NaN</td>\n",
       "      <td>NaN</td>\n",
       "      <td>NaN</td>\n",
       "      <td>NaN</td>\n",
       "      <td>40.808520</td>\n",
       "      <td>-73.923296</td>\n",
       "      <td>(40.80852004566505, -73.92329572996589)</td>\n",
       "    </tr>\n",
       "    <tr>\n",
       "      <th>1</th>\n",
       "      <td>23530609</td>\n",
       "      <td>07/01/2012 12:00:00 AM</td>\n",
       "      <td>07/09/2012 12:00:00 AM</td>\n",
       "      <td>HPD</td>\n",
       "      <td>Department of Housing Preservation and Develop...</td>\n",
       "      <td>PLUMBING</td>\n",
       "      <td>TOILET</td>\n",
       "      <td>RESIDENTIAL BUILDING</td>\n",
       "      <td>10467</td>\n",
       "      <td>3230 CRUGER AVENUE</td>\n",
       "      <td>...</td>\n",
       "      <td>NaN</td>\n",
       "      <td>NaN</td>\n",
       "      <td>NaN</td>\n",
       "      <td>NaN</td>\n",
       "      <td>NaN</td>\n",
       "      <td>NaN</td>\n",
       "      <td>NaN</td>\n",
       "      <td>40.872255</td>\n",
       "      <td>-73.866129</td>\n",
       "      <td>(40.87225493792927, -73.8661287701622)</td>\n",
       "    </tr>\n",
       "    <tr>\n",
       "      <th>2</th>\n",
       "      <td>23530576</td>\n",
       "      <td>07/01/2012 12:00:00 AM</td>\n",
       "      <td>07/17/2012 12:00:00 AM</td>\n",
       "      <td>HPD</td>\n",
       "      <td>Department of Housing Preservation and Develop...</td>\n",
       "      <td>NONCONST</td>\n",
       "      <td>VERMIN</td>\n",
       "      <td>RESIDENTIAL BUILDING</td>\n",
       "      <td>11221</td>\n",
       "      <td>112 PATCHEN AVENUE</td>\n",
       "      <td>...</td>\n",
       "      <td>NaN</td>\n",
       "      <td>NaN</td>\n",
       "      <td>NaN</td>\n",
       "      <td>NaN</td>\n",
       "      <td>NaN</td>\n",
       "      <td>NaN</td>\n",
       "      <td>NaN</td>\n",
       "      <td>40.687910</td>\n",
       "      <td>-73.927073</td>\n",
       "      <td>(40.68790999907652, -73.9270727247861)</td>\n",
       "    </tr>\n",
       "    <tr>\n",
       "      <th>3</th>\n",
       "      <td>23531354</td>\n",
       "      <td>07/01/2012 12:00:00 AM</td>\n",
       "      <td>07/09/2012 12:00:00 AM</td>\n",
       "      <td>HPD</td>\n",
       "      <td>Department of Housing Preservation and Develop...</td>\n",
       "      <td>PAINT - PLASTER</td>\n",
       "      <td>CEILING</td>\n",
       "      <td>RESIDENTIAL BUILDING</td>\n",
       "      <td>10454</td>\n",
       "      <td>297 ALEXANDER AVENUE</td>\n",
       "      <td>...</td>\n",
       "      <td>NaN</td>\n",
       "      <td>NaN</td>\n",
       "      <td>NaN</td>\n",
       "      <td>NaN</td>\n",
       "      <td>NaN</td>\n",
       "      <td>NaN</td>\n",
       "      <td>NaN</td>\n",
       "      <td>40.811222</td>\n",
       "      <td>-73.924300</td>\n",
       "      <td>(40.8112215178464, -73.92430049850458)</td>\n",
       "    </tr>\n",
       "    <tr>\n",
       "      <th>4</th>\n",
       "      <td>23530949</td>\n",
       "      <td>07/01/2012 12:00:00 AM</td>\n",
       "      <td>07/10/2012 12:00:00 AM</td>\n",
       "      <td>HPD</td>\n",
       "      <td>Department of Housing Preservation and Develop...</td>\n",
       "      <td>PAINT - PLASTER</td>\n",
       "      <td>CEILING</td>\n",
       "      <td>RESIDENTIAL BUILDING</td>\n",
       "      <td>11361</td>\n",
       "      <td>210-02 42 AVENUE</td>\n",
       "      <td>...</td>\n",
       "      <td>NaN</td>\n",
       "      <td>NaN</td>\n",
       "      <td>NaN</td>\n",
       "      <td>NaN</td>\n",
       "      <td>NaN</td>\n",
       "      <td>NaN</td>\n",
       "      <td>NaN</td>\n",
       "      <td>40.762116</td>\n",
       "      <td>-73.774047</td>\n",
       "      <td>(40.76211639957578, -73.77404696406886)</td>\n",
       "    </tr>\n",
       "  </tbody>\n",
       "</table>\n",
       "<p>5 rows × 41 columns</p>\n",
       "</div>"
      ],
      "text/plain": [
       "   Unique Key            Created Date             Closed Date Agency  \\\n",
       "0    23525569  07/01/2012 12:00:00 AM  07/05/2012 12:00:00 AM    HPD   \n",
       "1    23530609  07/01/2012 12:00:00 AM  07/09/2012 12:00:00 AM    HPD   \n",
       "2    23530576  07/01/2012 12:00:00 AM  07/17/2012 12:00:00 AM    HPD   \n",
       "3    23531354  07/01/2012 12:00:00 AM  07/09/2012 12:00:00 AM    HPD   \n",
       "4    23530949  07/01/2012 12:00:00 AM  07/10/2012 12:00:00 AM    HPD   \n",
       "\n",
       "                                         Agency Name   Complaint Type  \\\n",
       "0  Department of Housing Preservation and Develop...         NONCONST   \n",
       "1  Department of Housing Preservation and Develop...         PLUMBING   \n",
       "2  Department of Housing Preservation and Develop...         NONCONST   \n",
       "3  Department of Housing Preservation and Develop...  PAINT - PLASTER   \n",
       "4  Department of Housing Preservation and Develop...  PAINT - PLASTER   \n",
       "\n",
       "  Descriptor         Location Type Incident Zip      Incident Address  ...  \\\n",
       "0    RUBBISH  RESIDENTIAL BUILDING        10454     226 WILLIS AVENUE  ...   \n",
       "1     TOILET  RESIDENTIAL BUILDING        10467    3230 CRUGER AVENUE  ...   \n",
       "2     VERMIN  RESIDENTIAL BUILDING        11221    112 PATCHEN AVENUE  ...   \n",
       "3    CEILING  RESIDENTIAL BUILDING        10454  297 ALEXANDER AVENUE  ...   \n",
       "4    CEILING  RESIDENTIAL BUILDING        11361      210-02 42 AVENUE  ...   \n",
       "\n",
       "  Vehicle Type Taxi Company Borough Taxi Pick Up Location Bridge Highway Name  \\\n",
       "0          NaN                  NaN                   NaN                 NaN   \n",
       "1          NaN                  NaN                   NaN                 NaN   \n",
       "2          NaN                  NaN                   NaN                 NaN   \n",
       "3          NaN                  NaN                   NaN                 NaN   \n",
       "4          NaN                  NaN                   NaN                 NaN   \n",
       "\n",
       "  Bridge Highway Direction Road Ramp Bridge Highway Segment   Latitude  \\\n",
       "0                      NaN       NaN                    NaN  40.808520   \n",
       "1                      NaN       NaN                    NaN  40.872255   \n",
       "2                      NaN       NaN                    NaN  40.687910   \n",
       "3                      NaN       NaN                    NaN  40.811222   \n",
       "4                      NaN       NaN                    NaN  40.762116   \n",
       "\n",
       "   Longitude                                 Location  \n",
       "0 -73.923296  (40.80852004566505, -73.92329572996589)  \n",
       "1 -73.866129   (40.87225493792927, -73.8661287701622)  \n",
       "2 -73.927073   (40.68790999907652, -73.9270727247861)  \n",
       "3 -73.924300   (40.8112215178464, -73.92430049850458)  \n",
       "4 -73.774047  (40.76211639957578, -73.77404696406886)  \n",
       "\n",
       "[5 rows x 41 columns]"
      ]
     },
     "execution_count": 6,
     "metadata": {},
     "output_type": "execute_result"
    }
   ],
   "source": [
    "df_311.head()"
   ]
  },
  {
   "cell_type": "code",
   "execution_count": 4,
   "metadata": {},
   "outputs": [
    {
     "data": {
      "text/plain": [
       "0          07/01/2012 12:00:00 AM\n",
       "1          07/01/2012 12:00:00 AM\n",
       "2          07/01/2012 12:00:00 AM\n",
       "3          07/01/2012 12:00:00 AM\n",
       "4          07/01/2012 12:00:00 AM\n",
       "                    ...          \n",
       "1853020    06/30/2013 12:00:00 AM\n",
       "1853021    06/30/2013 12:00:00 AM\n",
       "1853022    06/30/2013 12:00:00 AM\n",
       "1853023    06/30/2013 12:00:00 AM\n",
       "1853024    06/30/2013 12:00:00 AM\n",
       "Name: Created Date, Length: 1853025, dtype: object"
      ]
     },
     "execution_count": 4,
     "metadata": {},
     "output_type": "execute_result"
    }
   ],
   "source": [
    "df_311['Created Date'] #it was already filtered weeey"
   ]
  },
  {
   "cell_type": "code",
   "execution_count": 7,
   "metadata": {},
   "outputs": [
    {
     "data": {
      "text/plain": [
       "Index(['Unique Key', 'Created Date', 'Closed Date', 'Agency', 'Agency Name',\n",
       "       'Complaint Type', 'Descriptor', 'Location Type', 'Incident Zip',\n",
       "       'Incident Address', 'Street Name', 'Cross Street 1', 'Cross Street 2',\n",
       "       'Intersection Street 1', 'Intersection Street 2', 'Address Type',\n",
       "       'City', 'Landmark', 'Facility Type', 'Status', 'Due Date',\n",
       "       'Resolution Description', 'Resolution Action Updated Date',\n",
       "       'Community Board', 'BBL', 'Borough', 'X Coordinate (State Plane)',\n",
       "       'Y Coordinate (State Plane)', 'Open Data Channel Type',\n",
       "       'Park Facility Name', 'Park Borough', 'Vehicle Type',\n",
       "       'Taxi Company Borough', 'Taxi Pick Up Location', 'Bridge Highway Name',\n",
       "       'Bridge Highway Direction', 'Road Ramp', 'Bridge Highway Segment',\n",
       "       'Latitude', 'Longitude', 'Location'],\n",
       "      dtype='object')"
      ]
     },
     "execution_count": 7,
     "metadata": {},
     "output_type": "execute_result"
    }
   ],
   "source": [
    "df_311.columns"
   ]
  },
  {
   "cell_type": "code",
   "execution_count": 10,
   "metadata": {},
   "outputs": [],
   "source": [
    "#now a list of the chosen colums to store for later!\n",
    "listOfCol=['Created Date','Closed Date','Complaint Type','Descriptor','Incident Zip','X Coordinate (State Plane)','Y Coordinate (State Plane)']"
   ]
  },
  {
   "cell_type": "code",
   "execution_count": 6,
   "metadata": {},
   "outputs": [
    {
     "data": {
      "text/plain": [
       "0          1005484.0\n",
       "1          1021274.0\n",
       "2          1004475.0\n",
       "3          1005205.0\n",
       "4          1046844.0\n",
       "             ...    \n",
       "1853020    1003028.0\n",
       "1853021    1003928.0\n",
       "1853022    1018302.0\n",
       "1853023     949019.0\n",
       "1853024     989836.0\n",
       "Name: X Coordinate (State Plane), Length: 1853025, dtype: float64"
      ]
     },
     "execution_count": 6,
     "metadata": {},
     "output_type": "execute_result"
    }
   ],
   "source": [
    "df_311['X Coordinate (State Plane)'] #okay so this was the format the other one used aswell!"
   ]
  },
  {
   "cell_type": "markdown",
   "metadata": {},
   "source": [
    "But since this data already have longitude/latitude for us, we might as well delete those rows to make the data smaller!"
   ]
  },
  {
   "cell_type": "code",
   "execution_count": 83,
   "metadata": {},
   "outputs": [
    {
     "data": {
      "text/plain": [
       "Index(['Unique Key', 'Created Date', 'Closed Date', 'Agency', 'Agency Name',\n",
       "       'Complaint Type', 'Descriptor', 'Location Type', 'Incident Zip',\n",
       "       'Incident Address', 'Street Name', 'Cross Street 1', 'Cross Street 2',\n",
       "       'Intersection Street 1', 'Intersection Street 2', 'Address Type',\n",
       "       'City', 'Landmark', 'Facility Type', 'Status', 'Due Date',\n",
       "       'Resolution Description', 'Resolution Action Updated Date',\n",
       "       'Community Board', 'BBL', 'Borough', 'Open Data Channel Type',\n",
       "       'Park Facility Name', 'Park Borough', 'Vehicle Type',\n",
       "       'Taxi Company Borough', 'Taxi Pick Up Location', 'Bridge Highway Name',\n",
       "       'Bridge Highway Direction', 'Road Ramp', 'Bridge Highway Segment',\n",
       "       'Latitude', 'Longitude', 'Location'],\n",
       "      dtype='object')"
      ]
     },
     "execution_count": 83,
     "metadata": {},
     "output_type": "execute_result"
    }
   ],
   "source": [
    "df_311=df_311.drop(columns=['X Coordinate (State Plane)','Y Coordinate (State Plane)'])\n",
    "df_311.columns"
   ]
  },
  {
   "cell_type": "code",
   "execution_count": 11,
   "metadata": {},
   "outputs": [
    {
     "data": {
      "text/html": [
       "<div>\n",
       "<style scoped>\n",
       "    .dataframe tbody tr th:only-of-type {\n",
       "        vertical-align: middle;\n",
       "    }\n",
       "\n",
       "    .dataframe tbody tr th {\n",
       "        vertical-align: top;\n",
       "    }\n",
       "\n",
       "    .dataframe thead th {\n",
       "        text-align: right;\n",
       "    }\n",
       "</style>\n",
       "<table border=\"1\" class=\"dataframe\">\n",
       "  <thead>\n",
       "    <tr style=\"text-align: right;\">\n",
       "      <th></th>\n",
       "      <th>Created Date</th>\n",
       "      <th>Closed Date</th>\n",
       "      <th>Complaint Type</th>\n",
       "      <th>Descriptor</th>\n",
       "      <th>Incident Zip</th>\n",
       "      <th>X Coordinate (State Plane)</th>\n",
       "      <th>Y Coordinate (State Plane)</th>\n",
       "    </tr>\n",
       "  </thead>\n",
       "  <tbody>\n",
       "    <tr>\n",
       "      <th>0</th>\n",
       "      <td>07/01/2012 12:00:00 AM</td>\n",
       "      <td>07/05/2012 12:00:00 AM</td>\n",
       "      <td>NONCONST</td>\n",
       "      <td>RUBBISH</td>\n",
       "      <td>10454</td>\n",
       "      <td>1005484.0</td>\n",
       "      <td>233852.0</td>\n",
       "    </tr>\n",
       "    <tr>\n",
       "      <th>1</th>\n",
       "      <td>07/01/2012 12:00:00 AM</td>\n",
       "      <td>07/09/2012 12:00:00 AM</td>\n",
       "      <td>PLUMBING</td>\n",
       "      <td>TOILET</td>\n",
       "      <td>10467</td>\n",
       "      <td>1021274.0</td>\n",
       "      <td>257092.0</td>\n",
       "    </tr>\n",
       "    <tr>\n",
       "      <th>2</th>\n",
       "      <td>07/01/2012 12:00:00 AM</td>\n",
       "      <td>07/17/2012 12:00:00 AM</td>\n",
       "      <td>NONCONST</td>\n",
       "      <td>VERMIN</td>\n",
       "      <td>11221</td>\n",
       "      <td>1004475.0</td>\n",
       "      <td>189909.0</td>\n",
       "    </tr>\n",
       "    <tr>\n",
       "      <th>3</th>\n",
       "      <td>07/01/2012 12:00:00 AM</td>\n",
       "      <td>07/09/2012 12:00:00 AM</td>\n",
       "      <td>PAINT - PLASTER</td>\n",
       "      <td>CEILING</td>\n",
       "      <td>10454</td>\n",
       "      <td>1005205.0</td>\n",
       "      <td>234836.0</td>\n",
       "    </tr>\n",
       "    <tr>\n",
       "      <th>4</th>\n",
       "      <td>07/01/2012 12:00:00 AM</td>\n",
       "      <td>07/10/2012 12:00:00 AM</td>\n",
       "      <td>PAINT - PLASTER</td>\n",
       "      <td>CEILING</td>\n",
       "      <td>11361</td>\n",
       "      <td>1046844.0</td>\n",
       "      <td>217017.0</td>\n",
       "    </tr>\n",
       "  </tbody>\n",
       "</table>\n",
       "</div>"
      ],
      "text/plain": [
       "             Created Date             Closed Date   Complaint Type Descriptor  \\\n",
       "0  07/01/2012 12:00:00 AM  07/05/2012 12:00:00 AM         NONCONST    RUBBISH   \n",
       "1  07/01/2012 12:00:00 AM  07/09/2012 12:00:00 AM         PLUMBING     TOILET   \n",
       "2  07/01/2012 12:00:00 AM  07/17/2012 12:00:00 AM         NONCONST     VERMIN   \n",
       "3  07/01/2012 12:00:00 AM  07/09/2012 12:00:00 AM  PAINT - PLASTER    CEILING   \n",
       "4  07/01/2012 12:00:00 AM  07/10/2012 12:00:00 AM  PAINT - PLASTER    CEILING   \n",
       "\n",
       "  Incident Zip  X Coordinate (State Plane)  Y Coordinate (State Plane)  \n",
       "0        10454                   1005484.0                    233852.0  \n",
       "1        10467                   1021274.0                    257092.0  \n",
       "2        11221                   1004475.0                    189909.0  \n",
       "3        10454                   1005205.0                    234836.0  \n",
       "4        11361                   1046844.0                    217017.0  "
      ]
     },
     "execution_count": 11,
     "metadata": {},
     "output_type": "execute_result"
    }
   ],
   "source": [
    "df=df_311[listOfCol] #closed date was the date that the service request was closed by responding agency - here again should only pick first date?\n",
    "df.head()"
   ]
  },
  {
   "cell_type": "markdown",
   "metadata": {},
   "source": [
    "## Next step, assign to regions!"
   ]
  },
  {
   "cell_type": "code",
   "execution_count": 14,
   "metadata": {},
   "outputs": [],
   "source": [
    "df.to_csv('311filtered.csv')"
   ]
  }
 ],
 "metadata": {
  "interpreter": {
   "hash": "4bd0aa0d2cfa261ac92b919594313a561b65a0bc91bd6de20b7d045bb52fdc0a"
  },
  "kernelspec": {
   "display_name": "Python 3.9.9 64-bit (windows store)",
   "language": "python",
   "name": "python3"
  },
  "language_info": {
   "codemirror_mode": {
    "name": "ipython",
    "version": 3
   },
   "file_extension": ".py",
   "mimetype": "text/x-python",
   "name": "python",
   "nbconvert_exporter": "python",
   "pygments_lexer": "ipython3",
   "version": "3.9.9"
  },
  "orig_nbformat": 4
 },
 "nbformat": 4,
 "nbformat_minor": 2
}
