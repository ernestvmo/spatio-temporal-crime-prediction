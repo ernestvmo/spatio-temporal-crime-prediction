{
 "cells": [
  {
   "cell_type": "markdown",
   "metadata": {},
   "source": [
    "### Shorten File"
   ]
  },
  {
   "cell_type": "markdown",
   "metadata": {},
   "source": [
    "Take the file and remove any unnecessary columns from the datasets."
   ]
  },
  {
   "cell_type": "code",
   "execution_count": 1,
   "metadata": {},
   "outputs": [],
   "source": [
    "import pandas as pd"
   ]
  },
  {
   "cell_type": "code",
   "execution_count": 18,
   "metadata": {},
   "outputs": [],
   "source": [
    "root = \"D:/\"\n",
    "files = [\n",
    "    \"yellow_tripdata_2012-07.csv\",\n",
    "    \"yellow_tripdata_2012-08.csv\",\n",
    "    \"yellow_tripdata_2012-09.csv\",\n",
    "    \"yellow_tripdata_2012-10.csv\",\n",
    "    \"yellow_tripdata_2012-11.csv\",\n",
    "    \"yellow_tripdata_2012-12.csv\",\n",
    "    \"yellow_tripdata_2013-01.csv\",\n",
    "    \"yellow_tripdata_2013-02.csv\",\n",
    "    \"yellow_tripdata_2013-03.csv\",\n",
    "    \"yellow_tripdata_2013-04.csv\",\n",
    "    \"yellow_tripdata_2013-05.csv\",\n",
    "    \"yellow_tripdata_2013-06.csv\",\n",
    "    ]"
   ]
  },
  {
   "cell_type": "code",
   "execution_count": 13,
   "metadata": {},
   "outputs": [
    {
     "data": {
      "text/plain": [
       "'2012-11.csv'"
      ]
     },
     "execution_count": 13,
     "metadata": {},
     "output_type": "execute_result"
    }
   ],
   "source": [
    "files[0][-11:]"
   ]
  },
  {
   "cell_type": "code",
   "execution_count": 19,
   "metadata": {},
   "outputs": [
    {
     "name": "stdout",
     "output_type": "stream",
     "text": [
      "yellow_tripdata_2012-11.csv opened\n",
      "yellow_tripdata_2012-11.csv split\n",
      "yellow_tripdata_2012-11.csv saved\n",
      "yellow_tripdata_2012-12.csv opened\n",
      "yellow_tripdata_2012-12.csv split\n",
      "yellow_tripdata_2012-12.csv saved\n",
      "yellow_tripdata_2013-01.csv opened\n",
      "yellow_tripdata_2013-01.csv split\n",
      "yellow_tripdata_2013-01.csv saved\n"
     ]
    },
    {
     "name": "stderr",
     "output_type": "stream",
     "text": [
      "C:\\Users\\Ernest\\anaconda3\\lib\\site-packages\\IPython\\core\\interactiveshell.py:3165: DtypeWarning: Columns (10) have mixed types.Specify dtype option on import or set low_memory=False.\n",
      "  has_raised = await self.run_ast_nodes(code_ast.body, cell_name,\n"
     ]
    },
    {
     "name": "stdout",
     "output_type": "stream",
     "text": [
      "yellow_tripdata_2013-02.csv opened\n",
      "yellow_tripdata_2013-02.csv split\n",
      "yellow_tripdata_2013-02.csv saved\n",
      "yellow_tripdata_2013-03.csv opened\n",
      "yellow_tripdata_2013-03.csv split\n",
      "yellow_tripdata_2013-03.csv saved\n",
      "yellow_tripdata_2013-04.csv opened\n",
      "yellow_tripdata_2013-04.csv split\n",
      "yellow_tripdata_2013-04.csv saved\n",
      "yellow_tripdata_2013-05.csv opened\n",
      "yellow_tripdata_2013-05.csv split\n",
      "yellow_tripdata_2013-05.csv saved\n",
      "yellow_tripdata_2013-06.csv opened\n",
      "yellow_tripdata_2013-06.csv split\n",
      "yellow_tripdata_2013-06.csv saved\n"
     ]
    }
   ],
   "source": [
    "for f in files:\n",
    "    df = pd.read_csv(root + f, error_bad_lines=False)\n",
    "    print(f'{f} opened')\n",
    "    df_p = df[['pickup_datetime', 'passenger_count', 'pickup_longitude', 'pickup_latitude', 'total_amount']]\n",
    "    df_d = df[['dropoff_datetime', 'passenger_count', 'dropoff_longitude', 'dropoff_latitude', 'total_amount']]\n",
    "    print(f'{f} split')\n",
    "    df_p.to_csv(root + \"shortened/\" + f'pickup_{f[-11:]}')\n",
    "    df_d.to_csv(root + \"shortened/\" + f'dropoff_{f[-11:]}')\n",
    "    print(f'{f} saved')"
   ]
  },
  {
   "cell_type": "markdown",
   "metadata": {},
   "source": [
    "### Convert Coords"
   ]
  },
  {
   "cell_type": "markdown",
   "metadata": {},
   "source": [
    "Currently the coordinates are in the longiture-latitude format, and we want to convert them to X/Y coordinates with pyproj."
   ]
  },
  {
   "cell_type": "code",
   "execution_count": 22,
   "metadata": {},
   "outputs": [],
   "source": [
    "import pandas as pd\n",
    "import numpy as np\n",
    "import pyproj"
   ]
  },
  {
   "cell_type": "code",
   "execution_count": 30,
   "metadata": {},
   "outputs": [],
   "source": [
    "root = \"D:/shortened/\"\n",
    "pickup_files = [\n",
    "    \"pickup_2012-07.csv\",\n",
    "    \"pickup_2012-08.csv\",\n",
    "    \"pickup_2012-09.csv\",\n",
    "    \"pickup_2012-10.csv\",\n",
    "    \"pickup_2012-11.csv\",\n",
    "    \"pickup_2012-12.csv\",\n",
    "    \"pickup_2013-01.csv\",\n",
    "    \"pickup_2013-02.csv\",\n",
    "    \"pickup_2013-03.csv\",\n",
    "    \"pickup_2013-04.csv\",\n",
    "    \"pickup_2013-05.csv\",\n",
    "    \"pickup_2013-06.csv\",\n",
    "    ]\n",
    "dropoff_files = [\n",
    "    \"dropoff_2012-07.csv\",\n",
    "    \"dropoff_2012-08.csv\",\n",
    "    \"dropoff_2012-09.csv\",\n",
    "    \"dropoff_2012-10.csv\",\n",
    "    \"dropoff_2012-11.csv\",\n",
    "    \"dropoff_2012-12.csv\",\n",
    "    \"dropoff_2013-01.csv\",\n",
    "    \"dropoff_2013-02.csv\",\n",
    "    \"dropoff_2013-03.csv\",\n",
    "    \"dropoff_2013-04.csv\",\n",
    "    \"dropoff_2013-05.csv\",\n",
    "    \"dropoff_2013-06.csv\",\n",
    "    ]"
   ]
  },
  {
   "cell_type": "code",
   "execution_count": 32,
   "metadata": {},
   "outputs": [
    {
     "name": "stdout",
     "output_type": "stream",
     "text": [
      "pickup_2012-07.csv opened\n",
      "coords assigned pickup\n",
      "pickup_2012-07.csv saved\n",
      "pickup_2012-08.csv opened\n",
      "coords assigned pickup\n",
      "pickup_2012-08.csv saved\n"
     ]
    }
   ],
   "source": [
    "proj = pyproj.Transformer.from_crs(\"EPSG:4326\", \"EPSG:2263\", always_xy=True)\n",
    "\n",
    "for f in pickup_files:\n",
    "    df = pd.read_csv(root + f, error_bad_lines=False, index_col=0)\n",
    "    print(f'{f} opened')\n",
    "\n",
    "    pickup_lon_np = df['pickup_longitude'].values\n",
    "    pickup_lat_np = df['pickup_latitude'].values\n",
    "    x_pickup, y_pickup = [], []\n",
    "    for i in range(len(pickup_lon_np)):\n",
    "        x,y = proj.transform(pickup_lon_np[i], pickup_lat_np[i])\n",
    "        x_pickup.append(x)\n",
    "        y_pickup.append(y)\n",
    "    df['xcoord'] = x_pickup\n",
    "    df['ycoord'] = y_pickup\n",
    "\n",
    "    del pickup_lon_np, pickup_lat_np\n",
    "    del df['pickup_longitude'], df['pickup_latitude']\n",
    "    print('coords assigned pickup')\n",
    "    \n",
    "    df.to_csv(root + \"indexed/\" + f'pickup_{f[-11:]}')\n",
    "    print(f'{f} saved')"
   ]
  },
  {
   "cell_type": "code",
   "execution_count": 33,
   "metadata": {},
   "outputs": [
    {
     "name": "stdout",
     "output_type": "stream",
     "text": [
      "dropoff_2012-07.csv opened\n",
      "coords assigned dropoff\n",
      "dropoff_2012-07.csv saved\n",
      "dropoff_2012-08.csv opened\n",
      "coords assigned dropoff\n",
      "dropoff_2012-08.csv saved\n",
      "dropoff_2012-09.csv opened\n",
      "coords assigned dropoff\n",
      "dropoff_2012-09.csv saved\n",
      "dropoff_2012-10.csv opened\n",
      "coords assigned dropoff\n",
      "dropoff_2012-10.csv saved\n",
      "dropoff_2012-11.csv opened\n",
      "coords assigned dropoff\n",
      "dropoff_2012-11.csv saved\n",
      "dropoff_2012-12.csv opened\n",
      "coords assigned dropoff\n",
      "dropoff_2012-12.csv saved\n",
      "dropoff_2013-01.csv opened\n",
      "coords assigned dropoff\n",
      "dropoff_2013-01.csv saved\n",
      "dropoff_2013-02.csv opened\n",
      "coords assigned dropoff\n",
      "dropoff_2013-02.csv saved\n",
      "dropoff_2013-03.csv opened\n",
      "coords assigned dropoff\n",
      "dropoff_2013-03.csv saved\n",
      "dropoff_2013-04.csv opened\n",
      "coords assigned dropoff\n",
      "dropoff_2013-04.csv saved\n",
      "dropoff_2013-05.csv opened\n",
      "coords assigned dropoff\n",
      "dropoff_2013-05.csv saved\n",
      "dropoff_2013-06.csv opened\n",
      "coords assigned dropoff\n",
      "dropoff_2013-06.csv saved\n"
     ]
    }
   ],
   "source": [
    "proj = pyproj.Transformer.from_crs(\"EPSG:4326\", \"EPSG:2263\", always_xy=True)\n",
    "\n",
    "for f in dropoff_files:\n",
    "    df = pd.read_csv(root + f, error_bad_lines=False)\n",
    "    print(f'{f} opened')\n",
    "\n",
    "    dropoff_lon_np = df['dropoff_longitude'].values\n",
    "    dropoff_lat_np = df['dropoff_latitude'].values\n",
    "    proj = pyproj.Transformer.from_crs(\"EPSG:4326\", \"EPSG:2263\", always_xy=True)\n",
    "    x_dropoff, y_dropoff = [], []\n",
    "    for i in range(len(dropoff_lat_np)):\n",
    "        x, y = proj.transform(dropoff_lon_np[i], dropoff_lat_np[i])\n",
    "        x_dropoff.append(x)\n",
    "        y_dropoff.append(y)\n",
    "    df['xcoord'] = x_dropoff\n",
    "    df['ycoord'] = y_dropoff\n",
    "    print('coords assigned dropoff')\n",
    "\n",
    "    del dropoff_lon_np, dropoff_lat_np\n",
    "    del df['dropoff_longitude'], df['dropoff_latitude']\n",
    "    \n",
    "    df.to_csv(root + \"indexed/\" + f'dropoff_{f[-11:]}')\n",
    "    print(f'{f} saved')"
   ]
  },
  {
   "cell_type": "markdown",
   "metadata": {},
   "source": [
    "### Indexing"
   ]
  },
  {
   "cell_type": "code",
   "execution_count": 1,
   "metadata": {},
   "outputs": [],
   "source": [
    "import pandas as pd\n",
    "import numpy as np"
   ]
  },
  {
   "cell_type": "code",
   "execution_count": 2,
   "metadata": {},
   "outputs": [],
   "source": [
    "root = \"D:/shortened/indexed/\"\n",
    "pickup_files = [\n",
    "    \"pickup_2012-07.csv\",\n",
    "    \"pickup_2012-08.csv\",\n",
    "    \"pickup_2012-09.csv\",\n",
    "    \"pickup_2012-10.csv\",\n",
    "    \"pickup_2012-11.csv\",\n",
    "    \"pickup_2012-12.csv\",\n",
    "    \"pickup_2013-01.csv\",\n",
    "    \"pickup_2013-02.csv\",\n",
    "    \"pickup_2013-03.csv\",\n",
    "    \"pickup_2013-04.csv\",\n",
    "    \"pickup_2013-05.csv\",\n",
    "    \"pickup_2013-06.csv\",\n",
    "    ]\n",
    "dropoff_files = [\n",
    "    \"dropoff_2012-07.csv\",\n",
    "    \"dropoff_2012-08.csv\",\n",
    "    \"dropoff_2012-09.csv\",\n",
    "    \"dropoff_2012-10.csv\",\n",
    "    \"dropoff_2012-11.csv\",\n",
    "    \"dropoff_2012-12.csv\",\n",
    "    \"dropoff_2013-01.csv\",\n",
    "    \"dropoff_2013-02.csv\",\n",
    "    \"dropoff_2013-03.csv\",\n",
    "    \"dropoff_2013-04.csv\",\n",
    "    \"dropoff_2013-05.csv\",\n",
    "    \"dropoff_2013-06.csv\",\n",
    "    ]"
   ]
  },
  {
   "cell_type": "code",
   "execution_count": 4,
   "metadata": {},
   "outputs": [],
   "source": [
    "min_x = 913175.1090087884\n",
    "max_x = 1067382.508422852\n",
    "\n",
    "min_y = 120128.36999505223\n",
    "max_y = 272844.2938231766\n",
    "\n",
    "grid_00 = (min_x, max_y)\n",
    "grid_01 = (max_x, max_y)\n",
    "grid_10 = (min_x, min_y)\n",
    "grid_11 = (max_x, min_y)\n",
    "\n",
    "cell_x_diff = 6579.3\n",
    "cell_y_diff = -6574.5"
   ]
  },
  {
   "cell_type": "code",
   "execution_count": 6,
   "metadata": {},
   "outputs": [
    {
     "name": "stderr",
     "output_type": "stream",
     "text": [
      "C:\\Users\\Ernest\\anaconda3\\lib\\site-packages\\numpy\\lib\\arraysetops.py:583: FutureWarning: elementwise comparison failed; returning scalar instead, but in the future will perform elementwise comparison\n",
      "  mask |= (ar1 == a)\n"
     ]
    },
    {
     "name": "stdout",
     "output_type": "stream",
     "text": [
      "pickup_2012-07.csv opened\n",
      "date changed\n",
      "coordinates limited\n",
      "coordinates created\n",
      "pickup_2012-07.csv saved\n"
     ]
    },
    {
     "name": "stderr",
     "output_type": "stream",
     "text": [
      "C:\\Users\\Ernest\\anaconda3\\lib\\site-packages\\numpy\\lib\\arraysetops.py:583: FutureWarning: elementwise comparison failed; returning scalar instead, but in the future will perform elementwise comparison\n",
      "  mask |= (ar1 == a)\n"
     ]
    },
    {
     "name": "stdout",
     "output_type": "stream",
     "text": [
      "pickup_2012-08.csv opened\n",
      "date changed\n",
      "coordinates limited\n",
      "coordinates created\n",
      "pickup_2012-08.csv saved\n"
     ]
    },
    {
     "name": "stderr",
     "output_type": "stream",
     "text": [
      "C:\\Users\\Ernest\\anaconda3\\lib\\site-packages\\numpy\\lib\\arraysetops.py:583: FutureWarning: elementwise comparison failed; returning scalar instead, but in the future will perform elementwise comparison\n",
      "  mask |= (ar1 == a)\n"
     ]
    },
    {
     "name": "stdout",
     "output_type": "stream",
     "text": [
      "pickup_2012-09.csv opened\n",
      "date changed\n",
      "coordinates limited\n",
      "coordinates created\n",
      "pickup_2012-09.csv saved\n"
     ]
    },
    {
     "name": "stderr",
     "output_type": "stream",
     "text": [
      "C:\\Users\\Ernest\\anaconda3\\lib\\site-packages\\numpy\\lib\\arraysetops.py:583: FutureWarning: elementwise comparison failed; returning scalar instead, but in the future will perform elementwise comparison\n",
      "  mask |= (ar1 == a)\n"
     ]
    },
    {
     "name": "stdout",
     "output_type": "stream",
     "text": [
      "pickup_2012-10.csv opened\n",
      "date changed\n",
      "coordinates limited\n",
      "coordinates created\n",
      "pickup_2012-10.csv saved\n"
     ]
    },
    {
     "name": "stderr",
     "output_type": "stream",
     "text": [
      "C:\\Users\\Ernest\\anaconda3\\lib\\site-packages\\numpy\\lib\\arraysetops.py:583: FutureWarning: elementwise comparison failed; returning scalar instead, but in the future will perform elementwise comparison\n",
      "  mask |= (ar1 == a)\n"
     ]
    },
    {
     "name": "stdout",
     "output_type": "stream",
     "text": [
      "pickup_2012-11.csv opened\n",
      "date changed\n",
      "coordinates limited\n",
      "coordinates created\n",
      "pickup_2012-11.csv saved\n"
     ]
    },
    {
     "name": "stderr",
     "output_type": "stream",
     "text": [
      "C:\\Users\\Ernest\\anaconda3\\lib\\site-packages\\numpy\\lib\\arraysetops.py:583: FutureWarning: elementwise comparison failed; returning scalar instead, but in the future will perform elementwise comparison\n",
      "  mask |= (ar1 == a)\n"
     ]
    },
    {
     "name": "stdout",
     "output_type": "stream",
     "text": [
      "pickup_2012-12.csv opened\n",
      "date changed\n",
      "coordinates limited\n",
      "coordinates created\n",
      "pickup_2012-12.csv saved\n"
     ]
    },
    {
     "name": "stderr",
     "output_type": "stream",
     "text": [
      "C:\\Users\\Ernest\\anaconda3\\lib\\site-packages\\numpy\\lib\\arraysetops.py:583: FutureWarning: elementwise comparison failed; returning scalar instead, but in the future will perform elementwise comparison\n",
      "  mask |= (ar1 == a)\n"
     ]
    },
    {
     "name": "stdout",
     "output_type": "stream",
     "text": [
      "pickup_2013-01.csv opened\n",
      "date changed\n",
      "coordinates limited\n",
      "coordinates created\n",
      "pickup_2013-01.csv saved\n"
     ]
    },
    {
     "name": "stderr",
     "output_type": "stream",
     "text": [
      "C:\\Users\\Ernest\\anaconda3\\lib\\site-packages\\numpy\\lib\\arraysetops.py:583: FutureWarning: elementwise comparison failed; returning scalar instead, but in the future will perform elementwise comparison\n",
      "  mask |= (ar1 == a)\n"
     ]
    },
    {
     "name": "stdout",
     "output_type": "stream",
     "text": [
      "pickup_2013-02.csv opened\n",
      "date changed\n",
      "coordinates limited\n",
      "coordinates created\n",
      "pickup_2013-02.csv saved\n"
     ]
    },
    {
     "name": "stderr",
     "output_type": "stream",
     "text": [
      "C:\\Users\\Ernest\\anaconda3\\lib\\site-packages\\numpy\\lib\\arraysetops.py:583: FutureWarning: elementwise comparison failed; returning scalar instead, but in the future will perform elementwise comparison\n",
      "  mask |= (ar1 == a)\n"
     ]
    },
    {
     "name": "stdout",
     "output_type": "stream",
     "text": [
      "pickup_2013-03.csv opened\n",
      "date changed\n",
      "coordinates limited\n",
      "coordinates created\n",
      "pickup_2013-03.csv saved\n"
     ]
    },
    {
     "name": "stderr",
     "output_type": "stream",
     "text": [
      "C:\\Users\\Ernest\\anaconda3\\lib\\site-packages\\numpy\\lib\\arraysetops.py:583: FutureWarning: elementwise comparison failed; returning scalar instead, but in the future will perform elementwise comparison\n",
      "  mask |= (ar1 == a)\n"
     ]
    },
    {
     "name": "stdout",
     "output_type": "stream",
     "text": [
      "pickup_2013-04.csv opened\n",
      "date changed\n",
      "coordinates limited\n",
      "coordinates created\n",
      "pickup_2013-04.csv saved\n"
     ]
    },
    {
     "name": "stderr",
     "output_type": "stream",
     "text": [
      "C:\\Users\\Ernest\\anaconda3\\lib\\site-packages\\numpy\\lib\\arraysetops.py:583: FutureWarning: elementwise comparison failed; returning scalar instead, but in the future will perform elementwise comparison\n",
      "  mask |= (ar1 == a)\n"
     ]
    },
    {
     "name": "stdout",
     "output_type": "stream",
     "text": [
      "pickup_2013-05.csv opened\n",
      "date changed\n",
      "coordinates limited\n",
      "coordinates created\n",
      "pickup_2013-05.csv saved\n"
     ]
    },
    {
     "name": "stderr",
     "output_type": "stream",
     "text": [
      "C:\\Users\\Ernest\\anaconda3\\lib\\site-packages\\numpy\\lib\\arraysetops.py:583: FutureWarning: elementwise comparison failed; returning scalar instead, but in the future will perform elementwise comparison\n",
      "  mask |= (ar1 == a)\n"
     ]
    },
    {
     "name": "stdout",
     "output_type": "stream",
     "text": [
      "pickup_2013-06.csv opened\n",
      "date changed\n",
      "coordinates limited\n",
      "coordinates created\n",
      "pickup_2013-06.csv saved\n"
     ]
    }
   ],
   "source": [
    "for f in pickup_files:\n",
    "    df = pd.read_csv(root + f, index_col=0)\n",
    "    print(f'{f} opened')\n",
    "    df['pickup_datetime'] = pd.to_datetime(df['pickup_datetime']).dt.date\n",
    "    print('date changed')\n",
    "\n",
    "    df = df[df.xcoord.between(min_x, max_x)]\n",
    "    df = df[df.ycoord.between(min_y, max_y)]\n",
    "    print('coordinates limited')\n",
    "\n",
    "    df['nyc_index_x'], df['nyc_index_y'] = np.floor((df['xcoord'].values - min_x) / cell_x_diff), np.floor(((width // 2) - (df['ycoord'].values - min_y) / abs(cell_y_diff)))\n",
    "    df['coordinates'] = list(zip(df.nyc_index_x, df.nyc_index_y))\n",
    "    print('coordinates created')\n",
    "    del df['xcoord'], df['ycoord'], df['nyc_index_x'], df['nyc_index_y']\n",
    "\n",
    "    df.to_csv(root + \"coordinates/\" + f)\n",
    "    print(f'{f} saved')"
   ]
  },
  {
   "cell_type": "code",
   "execution_count": 7,
   "metadata": {},
   "outputs": [
    {
     "name": "stderr",
     "output_type": "stream",
     "text": [
      "C:\\Users\\Ernest\\anaconda3\\lib\\site-packages\\numpy\\lib\\arraysetops.py:583: FutureWarning: elementwise comparison failed; returning scalar instead, but in the future will perform elementwise comparison\n",
      "  mask |= (ar1 == a)\n"
     ]
    },
    {
     "name": "stdout",
     "output_type": "stream",
     "text": [
      "dropoff_2012-07.csv opened\n",
      "date changed\n",
      "coordinates limited\n",
      "coordinates created\n",
      "dropoff_2012-07.csv saved\n"
     ]
    },
    {
     "name": "stderr",
     "output_type": "stream",
     "text": [
      "C:\\Users\\Ernest\\anaconda3\\lib\\site-packages\\numpy\\lib\\arraysetops.py:583: FutureWarning: elementwise comparison failed; returning scalar instead, but in the future will perform elementwise comparison\n",
      "  mask |= (ar1 == a)\n"
     ]
    },
    {
     "name": "stdout",
     "output_type": "stream",
     "text": [
      "dropoff_2012-08.csv opened\n",
      "date changed\n",
      "coordinates limited\n",
      "coordinates created\n",
      "dropoff_2012-08.csv saved\n"
     ]
    },
    {
     "name": "stderr",
     "output_type": "stream",
     "text": [
      "C:\\Users\\Ernest\\anaconda3\\lib\\site-packages\\numpy\\lib\\arraysetops.py:583: FutureWarning: elementwise comparison failed; returning scalar instead, but in the future will perform elementwise comparison\n",
      "  mask |= (ar1 == a)\n"
     ]
    },
    {
     "name": "stdout",
     "output_type": "stream",
     "text": [
      "dropoff_2012-09.csv opened\n",
      "date changed\n",
      "coordinates limited\n",
      "coordinates created\n",
      "dropoff_2012-09.csv saved\n"
     ]
    },
    {
     "name": "stderr",
     "output_type": "stream",
     "text": [
      "C:\\Users\\Ernest\\anaconda3\\lib\\site-packages\\numpy\\lib\\arraysetops.py:583: FutureWarning: elementwise comparison failed; returning scalar instead, but in the future will perform elementwise comparison\n",
      "  mask |= (ar1 == a)\n"
     ]
    },
    {
     "name": "stdout",
     "output_type": "stream",
     "text": [
      "dropoff_2012-10.csv opened\n",
      "date changed\n",
      "coordinates limited\n",
      "coordinates created\n",
      "dropoff_2012-10.csv saved\n"
     ]
    },
    {
     "name": "stderr",
     "output_type": "stream",
     "text": [
      "C:\\Users\\Ernest\\anaconda3\\lib\\site-packages\\numpy\\lib\\arraysetops.py:583: FutureWarning: elementwise comparison failed; returning scalar instead, but in the future will perform elementwise comparison\n",
      "  mask |= (ar1 == a)\n"
     ]
    },
    {
     "name": "stdout",
     "output_type": "stream",
     "text": [
      "dropoff_2012-11.csv opened\n",
      "date changed\n",
      "coordinates limited\n",
      "coordinates created\n",
      "dropoff_2012-11.csv saved\n"
     ]
    },
    {
     "name": "stderr",
     "output_type": "stream",
     "text": [
      "C:\\Users\\Ernest\\anaconda3\\lib\\site-packages\\numpy\\lib\\arraysetops.py:583: FutureWarning: elementwise comparison failed; returning scalar instead, but in the future will perform elementwise comparison\n",
      "  mask |= (ar1 == a)\n"
     ]
    },
    {
     "name": "stdout",
     "output_type": "stream",
     "text": [
      "dropoff_2012-12.csv opened\n",
      "date changed\n",
      "coordinates limited\n",
      "coordinates created\n",
      "dropoff_2012-12.csv saved\n"
     ]
    },
    {
     "name": "stderr",
     "output_type": "stream",
     "text": [
      "C:\\Users\\Ernest\\anaconda3\\lib\\site-packages\\numpy\\lib\\arraysetops.py:583: FutureWarning: elementwise comparison failed; returning scalar instead, but in the future will perform elementwise comparison\n",
      "  mask |= (ar1 == a)\n"
     ]
    },
    {
     "name": "stdout",
     "output_type": "stream",
     "text": [
      "dropoff_2013-01.csv opened\n",
      "date changed\n",
      "coordinates limited\n",
      "coordinates created\n",
      "dropoff_2013-01.csv saved\n"
     ]
    },
    {
     "name": "stderr",
     "output_type": "stream",
     "text": [
      "C:\\Users\\Ernest\\anaconda3\\lib\\site-packages\\numpy\\lib\\arraysetops.py:583: FutureWarning: elementwise comparison failed; returning scalar instead, but in the future will perform elementwise comparison\n",
      "  mask |= (ar1 == a)\n"
     ]
    },
    {
     "name": "stdout",
     "output_type": "stream",
     "text": [
      "dropoff_2013-02.csv opened\n",
      "date changed\n",
      "coordinates limited\n",
      "coordinates created\n",
      "dropoff_2013-02.csv saved\n"
     ]
    },
    {
     "name": "stderr",
     "output_type": "stream",
     "text": [
      "C:\\Users\\Ernest\\anaconda3\\lib\\site-packages\\numpy\\lib\\arraysetops.py:583: FutureWarning: elementwise comparison failed; returning scalar instead, but in the future will perform elementwise comparison\n",
      "  mask |= (ar1 == a)\n"
     ]
    },
    {
     "name": "stdout",
     "output_type": "stream",
     "text": [
      "dropoff_2013-03.csv opened\n",
      "date changed\n",
      "coordinates limited\n",
      "coordinates created\n",
      "dropoff_2013-03.csv saved\n"
     ]
    },
    {
     "name": "stderr",
     "output_type": "stream",
     "text": [
      "C:\\Users\\Ernest\\anaconda3\\lib\\site-packages\\numpy\\lib\\arraysetops.py:583: FutureWarning: elementwise comparison failed; returning scalar instead, but in the future will perform elementwise comparison\n",
      "  mask |= (ar1 == a)\n"
     ]
    },
    {
     "name": "stdout",
     "output_type": "stream",
     "text": [
      "dropoff_2013-04.csv opened\n",
      "date changed\n",
      "coordinates limited\n",
      "coordinates created\n",
      "dropoff_2013-04.csv saved\n"
     ]
    },
    {
     "name": "stderr",
     "output_type": "stream",
     "text": [
      "C:\\Users\\Ernest\\anaconda3\\lib\\site-packages\\numpy\\lib\\arraysetops.py:583: FutureWarning: elementwise comparison failed; returning scalar instead, but in the future will perform elementwise comparison\n",
      "  mask |= (ar1 == a)\n"
     ]
    },
    {
     "name": "stdout",
     "output_type": "stream",
     "text": [
      "dropoff_2013-05.csv opened\n",
      "date changed\n",
      "coordinates limited\n",
      "coordinates created\n",
      "dropoff_2013-05.csv saved\n"
     ]
    },
    {
     "name": "stderr",
     "output_type": "stream",
     "text": [
      "C:\\Users\\Ernest\\anaconda3\\lib\\site-packages\\numpy\\lib\\arraysetops.py:583: FutureWarning: elementwise comparison failed; returning scalar instead, but in the future will perform elementwise comparison\n",
      "  mask |= (ar1 == a)\n"
     ]
    },
    {
     "name": "stdout",
     "output_type": "stream",
     "text": [
      "dropoff_2013-06.csv opened\n",
      "date changed\n",
      "coordinates limited\n",
      "coordinates created\n",
      "dropoff_2013-06.csv saved\n"
     ]
    }
   ],
   "source": [
    "for f in dropoff_files:\n",
    "    df = pd.read_csv(root + f, index_col=0)\n",
    "    print(f'{f} opened')\n",
    "    df['dropoff_datetime'] = pd.to_datetime(df['dropoff_datetime']).dt.date\n",
    "    print('date changed')\n",
    "    \n",
    "    df = df[df.xcoord.between(min_x, max_x)]\n",
    "    df = df[df.ycoord.between(min_y, max_y)]\n",
    "    print('coordinates limited')\n",
    "\n",
    "    df['nyc_index_x'], df['nyc_index_y'] = np.floor((df['xcoord'].values - min_x) / cell_x_diff), np.floor(((width // 2) - (df['ycoord'].values - min_y) / abs(cell_y_diff)))\n",
    "    df['coordinates'] = list(zip(df.nyc_index_x, df.nyc_index_y))\n",
    "    print('coordinates created')\n",
    "    del df['xcoord'], df['ycoord'], df['nyc_index_x'], df['nyc_index_y']\n",
    "\n",
    "    df.to_csv(root + \"coordinates/\" + f)\n",
    "    print(f'{f} saved')"
   ]
  },
  {
   "cell_type": "markdown",
   "metadata": {},
   "source": [
    "### Grouping"
   ]
  },
  {
   "cell_type": "markdown",
   "metadata": {},
   "source": [
    "Group the data by date and index location."
   ]
  },
  {
   "cell_type": "code",
   "execution_count": 8,
   "metadata": {},
   "outputs": [],
   "source": [
    "import pandas as pd\n",
    "import numpy as np"
   ]
  },
  {
   "cell_type": "code",
   "execution_count": 9,
   "metadata": {},
   "outputs": [],
   "source": [
    "root = \"D:/shortened/indexed/coordinates/\"\n",
    "pickup_files = [\n",
    "    \"pickup_2012-07.csv\",\n",
    "    \"pickup_2012-08.csv\",\n",
    "    \"pickup_2012-09.csv\",\n",
    "    \"pickup_2012-10.csv\",\n",
    "    \"pickup_2012-11.csv\",\n",
    "    \"pickup_2012-12.csv\",\n",
    "    \"pickup_2013-01.csv\",\n",
    "    \"pickup_2013-02.csv\",\n",
    "    \"pickup_2013-03.csv\",\n",
    "    \"pickup_2013-04.csv\",\n",
    "    \"pickup_2013-05.csv\",\n",
    "    \"pickup_2013-06.csv\",\n",
    "    ]\n",
    "dropoff_files = [\n",
    "    \"dropoff_2012-07.csv\",\n",
    "    \"dropoff_2012-08.csv\",\n",
    "    \"dropoff_2012-09.csv\",\n",
    "    \"dropoff_2012-10.csv\",\n",
    "    \"dropoff_2012-11.csv\",\n",
    "    \"dropoff_2012-12.csv\",\n",
    "    \"dropoff_2013-01.csv\",\n",
    "    \"dropoff_2013-02.csv\",\n",
    "    \"dropoff_2013-03.csv\",\n",
    "    \"dropoff_2013-04.csv\",\n",
    "    \"dropoff_2013-05.csv\",\n",
    "    \"dropoff_2013-06.csv\",\n",
    "    ]"
   ]
  },
  {
   "cell_type": "code",
   "execution_count": 14,
   "metadata": {},
   "outputs": [
    {
     "name": "stderr",
     "output_type": "stream",
     "text": [
      "C:\\Users\\Ernest\\anaconda3\\lib\\site-packages\\numpy\\lib\\arraysetops.py:583: FutureWarning: elementwise comparison failed; returning scalar instead, but in the future will perform elementwise comparison\n",
      "  mask |= (ar1 == a)\n"
     ]
    },
    {
     "name": "stdout",
     "output_type": "stream",
     "text": [
      "pickup_2012-07.csv opened\n"
     ]
    },
    {
     "data": {
      "text/html": [
       "<div>\n",
       "<style scoped>\n",
       "    .dataframe tbody tr th:only-of-type {\n",
       "        vertical-align: middle;\n",
       "    }\n",
       "\n",
       "    .dataframe tbody tr th {\n",
       "        vertical-align: top;\n",
       "    }\n",
       "\n",
       "    .dataframe thead th {\n",
       "        text-align: right;\n",
       "    }\n",
       "</style>\n",
       "<table border=\"1\" class=\"dataframe\">\n",
       "  <thead>\n",
       "    <tr style=\"text-align: right;\">\n",
       "      <th></th>\n",
       "      <th>pickup_datetime</th>\n",
       "      <th>coordinates</th>\n",
       "      <th>passenger_count</th>\n",
       "      <th>total_amount</th>\n",
       "    </tr>\n",
       "  </thead>\n",
       "  <tbody>\n",
       "    <tr>\n",
       "      <th>0</th>\n",
       "      <td>2012-07-01</td>\n",
       "      <td>(0.0, 10.0)</td>\n",
       "      <td>1</td>\n",
       "      <td>81.00</td>\n",
       "    </tr>\n",
       "    <tr>\n",
       "      <th>1</th>\n",
       "      <td>2012-07-01</td>\n",
       "      <td>(0.0, 12.0)</td>\n",
       "      <td>1</td>\n",
       "      <td>3.00</td>\n",
       "    </tr>\n",
       "    <tr>\n",
       "      <th>2</th>\n",
       "      <td>2012-07-01</td>\n",
       "      <td>(0.0, 14.0)</td>\n",
       "      <td>1</td>\n",
       "      <td>50.50</td>\n",
       "    </tr>\n",
       "    <tr>\n",
       "      <th>3</th>\n",
       "      <td>2012-07-01</td>\n",
       "      <td>(1.0, 10.0)</td>\n",
       "      <td>3</td>\n",
       "      <td>96.90</td>\n",
       "    </tr>\n",
       "    <tr>\n",
       "      <th>4</th>\n",
       "      <td>2012-07-01</td>\n",
       "      <td>(1.0, 14.0)</td>\n",
       "      <td>2</td>\n",
       "      <td>19.70</td>\n",
       "    </tr>\n",
       "    <tr>\n",
       "      <th>...</th>\n",
       "      <td>...</td>\n",
       "      <td>...</td>\n",
       "      <td>...</td>\n",
       "      <td>...</td>\n",
       "    </tr>\n",
       "    <tr>\n",
       "      <th>8868</th>\n",
       "      <td>2012-07-31</td>\n",
       "      <td>(9.0, 5.0)</td>\n",
       "      <td>24</td>\n",
       "      <td>79.84</td>\n",
       "    </tr>\n",
       "    <tr>\n",
       "      <th>8869</th>\n",
       "      <td>2012-07-31</td>\n",
       "      <td>(9.0, 6.0)</td>\n",
       "      <td>20</td>\n",
       "      <td>123.92</td>\n",
       "    </tr>\n",
       "    <tr>\n",
       "      <th>8870</th>\n",
       "      <td>2012-07-31</td>\n",
       "      <td>(9.0, 7.0)</td>\n",
       "      <td>47</td>\n",
       "      <td>407.00</td>\n",
       "    </tr>\n",
       "    <tr>\n",
       "      <th>8871</th>\n",
       "      <td>2012-07-31</td>\n",
       "      <td>(9.0, 8.0)</td>\n",
       "      <td>47</td>\n",
       "      <td>1464.88</td>\n",
       "    </tr>\n",
       "    <tr>\n",
       "      <th>8872</th>\n",
       "      <td>2012-07-31</td>\n",
       "      <td>(9.0, 9.0)</td>\n",
       "      <td>79</td>\n",
       "      <td>2571.04</td>\n",
       "    </tr>\n",
       "  </tbody>\n",
       "</table>\n",
       "<p>8873 rows × 4 columns</p>\n",
       "</div>"
      ],
      "text/plain": [
       "     pickup_datetime  coordinates  passenger_count  total_amount\n",
       "0         2012-07-01  (0.0, 10.0)                1         81.00\n",
       "1         2012-07-01  (0.0, 12.0)                1          3.00\n",
       "2         2012-07-01  (0.0, 14.0)                1         50.50\n",
       "3         2012-07-01  (1.0, 10.0)                3         96.90\n",
       "4         2012-07-01  (1.0, 14.0)                2         19.70\n",
       "...              ...          ...              ...           ...\n",
       "8868      2012-07-31   (9.0, 5.0)               24         79.84\n",
       "8869      2012-07-31   (9.0, 6.0)               20        123.92\n",
       "8870      2012-07-31   (9.0, 7.0)               47        407.00\n",
       "8871      2012-07-31   (9.0, 8.0)               47       1464.88\n",
       "8872      2012-07-31   (9.0, 9.0)               79       2571.04\n",
       "\n",
       "[8873 rows x 4 columns]"
      ]
     },
     "execution_count": 14,
     "metadata": {},
     "output_type": "execute_result"
    }
   ],
   "source": [
    "df = pd.read_csv(root + pickup_files[0], index_col=0)\n",
    "print(f'{pickup_files[0]} opened')\n",
    "# print(df.head(2))\n",
    "df = df[~df['coordinates'].str.contains('inf')]\n",
    "# df[df['pickup_datetime']=='2012-07-01']\n",
    "grouped_taxi = df.groupby(['pickup_datetime', 'coordinates']).sum().reset_index()\n",
    "# grouped_taxi = grouped_taxi.rename(columns={0:'taxi_passenger_count'})\n",
    "# df.sort_values(by=['pickup_datetime'])\n",
    "# print(df.head(2))\n",
    "# frames.append(grouped_taxi)\n",
    "# del df, grouped_taxi\n",
    "# grouped_taxi.sort_values(by=['pickup_datetime']) \n",
    "grouped_taxi "
   ]
  },
  {
   "cell_type": "code",
   "execution_count": 15,
   "metadata": {},
   "outputs": [
    {
     "name": "stderr",
     "output_type": "stream",
     "text": [
      "C:\\Users\\Ernest\\anaconda3\\lib\\site-packages\\numpy\\lib\\arraysetops.py:583: FutureWarning: elementwise comparison failed; returning scalar instead, but in the future will perform elementwise comparison\n",
      "  mask |= (ar1 == a)\n"
     ]
    },
    {
     "name": "stdout",
     "output_type": "stream",
     "text": [
      "pickup_2012-07.csv opened\n",
      "inf removed\n",
      "pickup_2012-07.csv saved\n",
      "pickup_2012-08.csv opened\n",
      "inf removed\n",
      "pickup_2012-08.csv saved\n",
      "pickup_2012-09.csv opened\n",
      "inf removed\n",
      "pickup_2012-09.csv saved\n",
      "pickup_2012-10.csv opened\n",
      "inf removed\n",
      "pickup_2012-10.csv saved\n",
      "pickup_2012-11.csv opened\n",
      "inf removed\n",
      "pickup_2012-11.csv saved\n",
      "pickup_2012-12.csv opened\n",
      "inf removed\n",
      "pickup_2012-12.csv saved\n",
      "pickup_2013-01.csv opened\n",
      "inf removed\n",
      "pickup_2013-01.csv saved\n",
      "pickup_2013-02.csv opened\n",
      "inf removed\n",
      "pickup_2013-02.csv saved\n",
      "pickup_2013-03.csv opened\n",
      "inf removed\n",
      "pickup_2013-03.csv saved\n",
      "pickup_2013-04.csv opened\n",
      "inf removed\n",
      "pickup_2013-04.csv saved\n",
      "pickup_2013-05.csv opened\n",
      "inf removed\n",
      "pickup_2013-05.csv saved\n",
      "pickup_2013-06.csv opened\n",
      "inf removed\n",
      "pickup_2013-06.csv saved\n"
     ]
    }
   ],
   "source": [
    "for f in pickup_files:\n",
    "    df = pd.read_csv(root + f, index_col=0)\n",
    "    print(f'{f} opened')\n",
    "    # print(df.head(2))\n",
    "    df = df[~df['coordinates'].str.contains('inf')]\n",
    "    print('inf removed')\n",
    "    grouped_taxi = df.groupby(['pickup_datetime', 'coordinates']).sum().reset_index()\n",
    "    # grouped_taxi = grouped_taxi.rename(columns={0:'taxi_passenger_count'})\n",
    "    grouped_taxi.sort_values(by=['pickup_datetime'])\n",
    "    # print(df.head(2))\n",
    "    # frames.append(grouped_taxi)\n",
    "    grouped_taxi.to_csv(root + 'grouped/' + f)\n",
    "    print(f'{f} saved')\n",
    "    del df, grouped_taxi"
   ]
  },
  {
   "cell_type": "code",
   "execution_count": 16,
   "metadata": {},
   "outputs": [
    {
     "name": "stdout",
     "output_type": "stream",
     "text": [
      "dropoff_2012-07.csv opened\n",
      "inf removed\n",
      "dropoff_2012-07.csv saved\n",
      "dropoff_2012-08.csv opened\n",
      "inf removed\n",
      "dropoff_2012-08.csv saved\n",
      "dropoff_2012-09.csv opened\n",
      "inf removed\n",
      "dropoff_2012-09.csv saved\n",
      "dropoff_2012-10.csv opened\n",
      "inf removed\n",
      "dropoff_2012-10.csv saved\n",
      "dropoff_2012-11.csv opened\n",
      "inf removed\n",
      "dropoff_2012-11.csv saved\n",
      "dropoff_2012-12.csv opened\n",
      "inf removed\n",
      "dropoff_2012-12.csv saved\n",
      "dropoff_2013-01.csv opened\n",
      "inf removed\n",
      "dropoff_2013-01.csv saved\n",
      "dropoff_2013-02.csv opened\n",
      "inf removed\n",
      "dropoff_2013-02.csv saved\n",
      "dropoff_2013-03.csv opened\n",
      "inf removed\n",
      "dropoff_2013-03.csv saved\n",
      "dropoff_2013-04.csv opened\n",
      "inf removed\n",
      "dropoff_2013-04.csv saved\n",
      "dropoff_2013-05.csv opened\n",
      "inf removed\n",
      "dropoff_2013-05.csv saved\n",
      "dropoff_2013-06.csv opened\n",
      "inf removed\n",
      "dropoff_2013-06.csv saved\n"
     ]
    }
   ],
   "source": [
    "for f in dropoff_files:\n",
    "    df = pd.read_csv(root + f, index_col=0)\n",
    "    print(f'{f} opened')\n",
    "    # print(df.head(2))\n",
    "    df = df[~df['coordinates'].str.contains('inf')]\n",
    "    print('inf removed')\n",
    "    grouped_taxi = df.groupby(['dropoff_datetime', 'coordinates']).sum().reset_index()\n",
    "    # grouped_taxi = grouped_taxi.rename(columns={0:'taxi_passenger_count'})\n",
    "    grouped_taxi.sort_values(by=['dropoff_datetime'])\n",
    "    # print(df.head(2))\n",
    "    # frames.append(grouped_taxi)\n",
    "    grouped_taxi.to_csv(root + 'grouped/' + f)\n",
    "    print(f'{f} saved')\n",
    "    del df, grouped_taxi"
   ]
  },
  {
   "cell_type": "markdown",
   "metadata": {},
   "source": [
    "### Final grouping of TAXI"
   ]
  },
  {
   "cell_type": "markdown",
   "metadata": {},
   "source": [
    "All files are stored separately, we want to combine them into one individual file."
   ]
  },
  {
   "cell_type": "code",
   "execution_count": 1,
   "metadata": {},
   "outputs": [],
   "source": [
    "import pandas as pd\n",
    "import numpy as np\n",
    "import ast"
   ]
  },
  {
   "cell_type": "code",
   "execution_count": 4,
   "metadata": {},
   "outputs": [],
   "source": [
    "root = \"D:/shortened/indexed/coordinates/grouped/\"\n",
    "pickup_files = [\n",
    "    \"pickup_2012-07.csv\",\n",
    "    \"pickup_2012-08.csv\",\n",
    "    \"pickup_2012-09.csv\",\n",
    "    \"pickup_2012-10.csv\",\n",
    "    \"pickup_2012-11.csv\",\n",
    "    \"pickup_2012-12.csv\",\n",
    "    \"pickup_2013-01.csv\",\n",
    "    \"pickup_2013-02.csv\",\n",
    "    \"pickup_2013-03.csv\",\n",
    "    \"pickup_2013-04.csv\",\n",
    "    \"pickup_2013-05.csv\",\n",
    "    \"pickup_2013-06.csv\",\n",
    "    ]\n",
    "dropoff_files = [\n",
    "    \"dropoff_2012-07.csv\",\n",
    "    \"dropoff_2012-08.csv\",\n",
    "    \"dropoff_2012-09.csv\",\n",
    "    \"dropoff_2012-10.csv\",\n",
    "    \"dropoff_2012-11.csv\",\n",
    "    \"dropoff_2012-12.csv\",\n",
    "    \"dropoff_2013-01.csv\",\n",
    "    \"dropoff_2013-02.csv\",\n",
    "    \"dropoff_2013-03.csv\",\n",
    "    \"dropoff_2013-04.csv\",\n",
    "    \"dropoff_2013-05.csv\",\n",
    "    \"dropoff_2013-06.csv\",\n",
    "    ]"
   ]
  },
  {
   "cell_type": "code",
   "execution_count": 8,
   "metadata": {},
   "outputs": [
    {
     "name": "stdout",
     "output_type": "stream",
     "text": [
      "pickup_2012-07.csv opened\n",
      "coordinates evaluated\n",
      "coordinates to integer\n",
      "frame saved\n",
      "pickup_2012-07.csv closed\n",
      "pickup_2012-08.csv opened\n",
      "coordinates evaluated\n",
      "coordinates to integer\n",
      "frame saved\n",
      "pickup_2012-08.csv closed\n",
      "pickup_2012-09.csv opened\n",
      "coordinates evaluated\n",
      "coordinates to integer\n",
      "frame saved\n",
      "pickup_2012-09.csv closed\n",
      "pickup_2012-10.csv opened\n",
      "coordinates evaluated\n",
      "coordinates to integer\n",
      "frame saved\n",
      "pickup_2012-10.csv closed\n",
      "pickup_2012-11.csv opened\n",
      "coordinates evaluated\n",
      "coordinates to integer\n",
      "frame saved\n",
      "pickup_2012-11.csv closed\n",
      "pickup_2012-12.csv opened\n",
      "coordinates evaluated\n",
      "coordinates to integer\n",
      "frame saved\n",
      "pickup_2012-12.csv closed\n",
      "pickup_2013-01.csv opened\n",
      "coordinates evaluated\n",
      "coordinates to integer\n",
      "frame saved\n",
      "pickup_2013-01.csv closed\n",
      "pickup_2013-02.csv opened\n",
      "coordinates evaluated\n",
      "coordinates to integer\n",
      "frame saved\n",
      "pickup_2013-02.csv closed\n",
      "pickup_2013-03.csv opened\n",
      "coordinates evaluated\n",
      "coordinates to integer\n",
      "frame saved\n",
      "pickup_2013-03.csv closed\n",
      "pickup_2013-04.csv opened\n",
      "coordinates evaluated\n",
      "coordinates to integer\n",
      "frame saved\n",
      "pickup_2013-04.csv closed\n",
      "pickup_2013-05.csv opened\n",
      "coordinates evaluated\n",
      "coordinates to integer\n",
      "frame saved\n",
      "pickup_2013-05.csv closed\n",
      "pickup_2013-06.csv opened\n",
      "coordinates evaluated\n",
      "coordinates to integer\n",
      "frame saved\n",
      "pickup_2013-06.csv closed\n"
     ]
    },
    {
     "ename": "PermissionError",
     "evalue": "[Errno 13] Permission denied: 'D:/shortened/indexed/coordinates/grouped/taxi_pickup.csv'",
     "output_type": "error",
     "traceback": [
      "\u001b[1;31m---------------------------------------------------------------------------\u001b[0m",
      "\u001b[1;31mPermissionError\u001b[0m                           Traceback (most recent call last)",
      "\u001b[1;32m<ipython-input-8-6979cb4a1492>\u001b[0m in \u001b[0;36m<module>\u001b[1;34m\u001b[0m\n\u001b[0;32m     16\u001b[0m     \u001b[0mprint\u001b[0m\u001b[1;33m(\u001b[0m\u001b[1;34mf'{f} closed'\u001b[0m\u001b[1;33m)\u001b[0m\u001b[1;33m\u001b[0m\u001b[1;33m\u001b[0m\u001b[0m\n\u001b[0;32m     17\u001b[0m \u001b[0mdf_pickup\u001b[0m \u001b[1;33m=\u001b[0m \u001b[0mpd\u001b[0m\u001b[1;33m.\u001b[0m\u001b[0mconcat\u001b[0m\u001b[1;33m(\u001b[0m\u001b[0mframes\u001b[0m\u001b[1;33m)\u001b[0m\u001b[1;33m\u001b[0m\u001b[1;33m\u001b[0m\u001b[0m\n\u001b[1;32m---> 18\u001b[1;33m \u001b[0mdf_pickup\u001b[0m\u001b[1;33m.\u001b[0m\u001b[0mto_csv\u001b[0m\u001b[1;33m(\u001b[0m\u001b[0mroot\u001b[0m \u001b[1;33m+\u001b[0m \u001b[1;34m'taxi_pickup.csv'\u001b[0m\u001b[1;33m)\u001b[0m\u001b[1;33m\u001b[0m\u001b[1;33m\u001b[0m\u001b[0m\n\u001b[0m",
      "\u001b[1;32m~\\anaconda3\\lib\\site-packages\\pandas\\core\\generic.py\u001b[0m in \u001b[0;36mto_csv\u001b[1;34m(self, path_or_buf, sep, na_rep, float_format, columns, header, index, index_label, mode, encoding, compression, quoting, quotechar, line_terminator, chunksize, date_format, doublequote, escapechar, decimal, errors, storage_options)\u001b[0m\n\u001b[0;32m   3385\u001b[0m         )\n\u001b[0;32m   3386\u001b[0m \u001b[1;33m\u001b[0m\u001b[0m\n\u001b[1;32m-> 3387\u001b[1;33m         return DataFrameRenderer(formatter).to_csv(\n\u001b[0m\u001b[0;32m   3388\u001b[0m             \u001b[0mpath_or_buf\u001b[0m\u001b[1;33m,\u001b[0m\u001b[1;33m\u001b[0m\u001b[1;33m\u001b[0m\u001b[0m\n\u001b[0;32m   3389\u001b[0m             \u001b[0mline_terminator\u001b[0m\u001b[1;33m=\u001b[0m\u001b[0mline_terminator\u001b[0m\u001b[1;33m,\u001b[0m\u001b[1;33m\u001b[0m\u001b[1;33m\u001b[0m\u001b[0m\n",
      "\u001b[1;32m~\\anaconda3\\lib\\site-packages\\pandas\\io\\formats\\format.py\u001b[0m in \u001b[0;36mto_csv\u001b[1;34m(self, path_or_buf, encoding, sep, columns, index_label, mode, compression, quoting, quotechar, line_terminator, chunksize, date_format, doublequote, escapechar, errors, storage_options)\u001b[0m\n\u001b[0;32m   1081\u001b[0m             \u001b[0mformatter\u001b[0m\u001b[1;33m=\u001b[0m\u001b[0mself\u001b[0m\u001b[1;33m.\u001b[0m\u001b[0mfmt\u001b[0m\u001b[1;33m,\u001b[0m\u001b[1;33m\u001b[0m\u001b[1;33m\u001b[0m\u001b[0m\n\u001b[0;32m   1082\u001b[0m         )\n\u001b[1;32m-> 1083\u001b[1;33m         \u001b[0mcsv_formatter\u001b[0m\u001b[1;33m.\u001b[0m\u001b[0msave\u001b[0m\u001b[1;33m(\u001b[0m\u001b[1;33m)\u001b[0m\u001b[1;33m\u001b[0m\u001b[1;33m\u001b[0m\u001b[0m\n\u001b[0m\u001b[0;32m   1084\u001b[0m \u001b[1;33m\u001b[0m\u001b[0m\n\u001b[0;32m   1085\u001b[0m         \u001b[1;32mif\u001b[0m \u001b[0mcreated_buffer\u001b[0m\u001b[1;33m:\u001b[0m\u001b[1;33m\u001b[0m\u001b[1;33m\u001b[0m\u001b[0m\n",
      "\u001b[1;32m~\\anaconda3\\lib\\site-packages\\pandas\\io\\formats\\csvs.py\u001b[0m in \u001b[0;36msave\u001b[1;34m(self)\u001b[0m\n\u001b[0;32m    226\u001b[0m         \"\"\"\n\u001b[0;32m    227\u001b[0m         \u001b[1;31m# apply compression and byte/text conversion\u001b[0m\u001b[1;33m\u001b[0m\u001b[1;33m\u001b[0m\u001b[1;33m\u001b[0m\u001b[0m\n\u001b[1;32m--> 228\u001b[1;33m         with get_handle(\n\u001b[0m\u001b[0;32m    229\u001b[0m             \u001b[0mself\u001b[0m\u001b[1;33m.\u001b[0m\u001b[0mfilepath_or_buffer\u001b[0m\u001b[1;33m,\u001b[0m\u001b[1;33m\u001b[0m\u001b[1;33m\u001b[0m\u001b[0m\n\u001b[0;32m    230\u001b[0m             \u001b[0mself\u001b[0m\u001b[1;33m.\u001b[0m\u001b[0mmode\u001b[0m\u001b[1;33m,\u001b[0m\u001b[1;33m\u001b[0m\u001b[1;33m\u001b[0m\u001b[0m\n",
      "\u001b[1;32m~\\anaconda3\\lib\\site-packages\\pandas\\io\\common.py\u001b[0m in \u001b[0;36mget_handle\u001b[1;34m(path_or_buf, mode, encoding, compression, memory_map, is_text, errors, storage_options)\u001b[0m\n\u001b[0;32m    640\u001b[0m                 \u001b[0merrors\u001b[0m \u001b[1;33m=\u001b[0m \u001b[1;34m\"replace\"\u001b[0m\u001b[1;33m\u001b[0m\u001b[1;33m\u001b[0m\u001b[0m\n\u001b[0;32m    641\u001b[0m             \u001b[1;31m# Encoding\u001b[0m\u001b[1;33m\u001b[0m\u001b[1;33m\u001b[0m\u001b[1;33m\u001b[0m\u001b[0m\n\u001b[1;32m--> 642\u001b[1;33m             handle = open(\n\u001b[0m\u001b[0;32m    643\u001b[0m                 \u001b[0mhandle\u001b[0m\u001b[1;33m,\u001b[0m\u001b[1;33m\u001b[0m\u001b[1;33m\u001b[0m\u001b[0m\n\u001b[0;32m    644\u001b[0m                 \u001b[0mioargs\u001b[0m\u001b[1;33m.\u001b[0m\u001b[0mmode\u001b[0m\u001b[1;33m,\u001b[0m\u001b[1;33m\u001b[0m\u001b[1;33m\u001b[0m\u001b[0m\n",
      "\u001b[1;31mPermissionError\u001b[0m: [Errno 13] Permission denied: 'D:/shortened/indexed/coordinates/grouped/taxi_pickup.csv'"
     ]
    }
   ],
   "source": [
    "frames = []\n",
    "for f in pickup_files:\n",
    "    df = pd.read_csv(root + f, index_col=0)\n",
    "    print(f'{f} opened')\n",
    "\n",
    "    df.coordinates = df.coordinates.apply(ast.literal_eval)\n",
    "    print('coordinates evaluated')\n",
    "\n",
    "    df.coordinates = df.coordinates.apply(lambda v: tuple(map(int, v)))\n",
    "    print('coordinates to integer')\n",
    "\n",
    "    frames.append(df)\n",
    "    print('frame saved')\n",
    "\n",
    "    del df\n",
    "    print(f'{f} closed')\n",
    "df_pickup = pd.concat(frames)\n",
    "df_pickup.to_csv(root + 'taxi_pickup.csv')"
   ]
  },
  {
   "cell_type": "code",
   "execution_count": 6,
   "metadata": {},
   "outputs": [
    {
     "name": "stdout",
     "output_type": "stream",
     "text": [
      "dropoff_2012-07.csv opened\n",
      "coordinates evaluated\n",
      "coordinates to integer\n",
      "frame saved\n",
      "dropoff_2012-07.csv closed\n",
      "dropoff_2012-08.csv opened\n",
      "coordinates evaluated\n",
      "coordinates to integer\n",
      "frame saved\n",
      "dropoff_2012-08.csv closed\n",
      "dropoff_2012-09.csv opened\n",
      "coordinates evaluated\n",
      "coordinates to integer\n",
      "frame saved\n",
      "dropoff_2012-09.csv closed\n",
      "dropoff_2012-10.csv opened\n",
      "coordinates evaluated\n",
      "coordinates to integer\n",
      "frame saved\n",
      "dropoff_2012-10.csv closed\n",
      "dropoff_2012-11.csv opened\n",
      "coordinates evaluated\n",
      "coordinates to integer\n",
      "frame saved\n",
      "dropoff_2012-11.csv closed\n",
      "dropoff_2012-12.csv opened\n",
      "coordinates evaluated\n",
      "coordinates to integer\n",
      "frame saved\n",
      "dropoff_2012-12.csv closed\n",
      "dropoff_2013-01.csv opened\n",
      "coordinates evaluated\n",
      "coordinates to integer\n",
      "frame saved\n",
      "dropoff_2013-01.csv closed\n",
      "dropoff_2013-02.csv opened\n",
      "coordinates evaluated\n",
      "coordinates to integer\n",
      "frame saved\n",
      "dropoff_2013-02.csv closed\n",
      "dropoff_2013-03.csv opened\n",
      "coordinates evaluated\n",
      "coordinates to integer\n",
      "frame saved\n",
      "dropoff_2013-03.csv closed\n",
      "dropoff_2013-04.csv opened\n",
      "coordinates evaluated\n",
      "coordinates to integer\n",
      "frame saved\n",
      "dropoff_2013-04.csv closed\n",
      "dropoff_2013-05.csv opened\n",
      "coordinates evaluated\n",
      "coordinates to integer\n",
      "frame saved\n",
      "dropoff_2013-05.csv closed\n",
      "dropoff_2013-06.csv opened\n",
      "coordinates evaluated\n",
      "coordinates to integer\n",
      "frame saved\n",
      "dropoff_2013-06.csv closed\n"
     ]
    }
   ],
   "source": [
    "frames = []\n",
    "for f in dropoff_files:\n",
    "    df = pd.read_csv(root + f, index_col=0)\n",
    "    print(f'{f} opened')\n",
    "\n",
    "    df.coordinates = df.coordinates.apply(ast.literal_eval)\n",
    "    print('coordinates evaluated')\n",
    "\n",
    "    df.coordinates = df.coordinates.apply(lambda v: tuple(map(int, v)))\n",
    "    print('coordinates to integer')\n",
    "\n",
    "    frames.append(df)\n",
    "    print('frame saved')\n",
    "\n",
    "    del df\n",
    "    print(f'{f} closed')\n",
    "df_dropoff = pd.concat(frames)\n",
    "df_dropoff.to_csv(root + 'taxi_dropoff.csv')"
   ]
  }
 ],
 "metadata": {
  "interpreter": {
   "hash": "482e7c184dd3b3c99c3e0d506e6d81eb0bca54ca41bbe4d0f8e487b4d85d71d1"
  },
  "kernelspec": {
   "display_name": "Python 3.8.8 64-bit ('base': conda)",
   "language": "python",
   "name": "python3"
  },
  "language_info": {
   "codemirror_mode": {
    "name": "ipython",
    "version": 3
   },
   "file_extension": ".py",
   "mimetype": "text/x-python",
   "name": "python",
   "nbconvert_exporter": "python",
   "pygments_lexer": "ipython3",
   "version": "3.8.8"
  },
  "orig_nbformat": 4
 },
 "nbformat": 4,
 "nbformat_minor": 2
}
